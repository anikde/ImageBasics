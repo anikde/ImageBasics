{
 "cells": [
  {
   "cell_type": "markdown",
   "metadata": {
    "id": "cjCn7gthsqR_"
   },
   "source": [
    "As discussed in the [Vision Transformers (ViT)](https://arxiv.org/abs/2010.11929) paper,\n",
    "a Transformer-based architecture for vision typically requires a larger dataset than\n",
    "usual, as well as a longer pre-training schedule. This is primarily because, unlike CNNs, ViTs (or a typical\n",
    "Transformer-based architecture) do not have well-informed inductive biases (such as\n",
    "convolutions for processing images). Combining the\n",
    "benefits of convolution and the benefits of Transformers\n",
    "in a single network architecture. These benefits include parameter-efficiency, and\n",
    "self-attention to process long-range and global dependencies (interactions between\n",
    "different regions in an image).\n",
    "\n",
    "In [Escaping the Big Data Paradigm with Compact Transformers](https://arxiv.org/abs/2104.05704),\n",
    "Hassani et al. present an approach for doing exactly this. They proposed the\n",
    "**Compact Convolutional Transformer** (CCT) architecture. In this example, I will work on an\n",
    "implementation of CCT and see how well it performs on the [SARS-COV2 Ct-Scan Dataset](https://www.kaggle.com/datasets/plameneduardo/sarscov2-ctscan-dataset).\n",
    "\n",
    "This example requires TensorFlow 2.5 or higher, as well as TensorFlow Addons, which can\n",
    "be installed using the following command:"
   ]
  },
  {
   "cell_type": "code",
   "execution_count": 1,
   "metadata": {
    "id": "innWk7SWsqSD"
   },
   "outputs": [],
   "source": [
    "!pip install -U -q tensorflow-addons"
   ]
  },
  {
   "cell_type": "markdown",
   "metadata": {
    "id": "D0MdmBWRsqSH"
   },
   "source": [
    "## Imports"
   ]
  },
  {
   "cell_type": "code",
   "execution_count": 2,
   "metadata": {
    "id": "DXUld0QLsqSJ"
   },
   "outputs": [],
   "source": [
    "from tensorflow.keras import layers\n",
    "from tensorflow import keras\n",
    "\n",
    "import matplotlib.pyplot as plt\n",
    "import tensorflow_addons as tfa\n",
    "import tensorflow as tf\n",
    "import numpy as np"
   ]
  },
  {
   "cell_type": "markdown",
   "metadata": {
    "id": "z1axApkDsqSL"
   },
   "source": [
    "## Hyperparameters and constants"
   ]
  },
  {
   "cell_type": "code",
   "execution_count": 3,
   "metadata": {
    "id": "qt3tjmRPsqSN"
   },
   "outputs": [],
   "source": [
    "positional_emb = True\n",
    "conv_layers = 2\n",
    "projection_dim = 128\n",
    "\n",
    "num_heads = 2\n",
    "transformer_units = [\n",
    "    projection_dim,\n",
    "    projection_dim,\n",
    "]\n",
    "transformer_layers = 2\n",
    "stochastic_depth_rate = 0.1\n",
    "\n",
    "learning_rate = 0.001\n",
    "weight_decay = 0.0001\n",
    "batch_size = 16\n",
    "num_epochs = 40\n",
    "image_size = 180"
   ]
  },
  {
   "cell_type": "markdown",
   "metadata": {
    "id": "INVqti0Qvq8g"
   },
   "source": [
    "# Load COVID Data"
   ]
  },
  {
   "cell_type": "code",
   "execution_count": 5,
   "metadata": {
    "colab": {
     "base_uri": "https://localhost:8080/"
    },
    "id": "u_3AmbCav2Ya",
    "outputId": "72e38a43-a847-4572-e061-5666a7607674"
   },
   "outputs": [
    {
     "name": "stdout",
     "output_type": "stream",
     "text": [
      "Drive already mounted at /content/drive; to attempt to forcibly remount, call drive.mount(\"/content/drive\", force_remount=True).\n"
     ]
    }
   ],
   "source": [
    "from google.colab import drive\n",
    "drive.mount('/content/drive')"
   ]
  },
  {
   "cell_type": "code",
   "execution_count": 6,
   "metadata": {
    "colab": {
     "base_uri": "https://localhost:8080/"
    },
    "id": "uEF3nU6ywKSp",
    "outputId": "fa5db978-ebfb-432f-84d4-9b3da166e3f2"
   },
   "outputs": [
    {
     "name": "stdout",
     "output_type": "stream",
     "text": [
      "2481\n",
      "2481\n"
     ]
    }
   ],
   "source": [
    "datapath = \"/content/drive/MyDrive/covidDataset\"\n",
    "\n",
    "import pathlib\n",
    "def get_imagepath_and_labels(datapath):\n",
    "    data_root = pathlib.Path(datapath)\n",
    "    all_image_path = [str(path) for path in list(data_root.glob('*/*'))]\n",
    "\n",
    "    label_names = sorted(item.name for item in data_root.glob('*/*'))\n",
    "\n",
    "    all_image_label = [pathlib.Path(single_image_path).parent.name for single_image_path in all_image_path]\n",
    "\n",
    "    return all_image_path, all_image_label\n",
    "\n",
    "all_image_path, all_image_label = get_imagepath_and_labels(datapath)\n",
    "print(len(all_image_path))\n",
    "print(len(all_image_label))"
   ]
  },
  {
   "cell_type": "code",
   "execution_count": 10,
   "metadata": {
    "id": "6CiTHbTyxU9G"
   },
   "outputs": [],
   "source": [
    "import numpy as np\n",
    "import cv2\n",
    "\n",
    "def get_images_and_labels_astensor(image_path, image_labels, channels):\n",
    "    images = []\n",
    "    labels = []\n",
    "    for i in range(0, len(image_path)):\n",
    "        image = image_astensor(image_path[i], channels=channels)\n",
    "        images.append(image)\n",
    "        labels.append(image_labels[i])\n",
    "    \n",
    "    images = np.array(images)\n",
    "    labels = np.array(labels)\n",
    "    return images, labels\n",
    "\n",
    "def image_astensor(image_path, channels):\n",
    "        image = tf.io.read_file(image_path)\n",
    "        image = tf.image.decode_png(image, channels=channels)\n",
    "        image = tf.image.resize(image, (180, 180))\n",
    "        image = np.array(image).astype('float32')\n",
    "        return image\n",
    "\n",
    "images, labels = get_images_and_labels_astensor(all_image_path, all_image_label, channels=3)"
   ]
  },
  {
   "cell_type": "code",
   "execution_count": 11,
   "metadata": {
    "colab": {
     "base_uri": "https://localhost:8080/"
    },
    "id": "7sHIxICQxIrF",
    "outputId": "8cea0c15-c4ef-407c-a8e6-429ff1f64b01"
   },
   "outputs": [
    {
     "name": "stdout",
     "output_type": "stream",
     "text": [
      "(2081, 180, 180, 3)\n",
      "(2081,)\n",
      "(400, 180, 180, 3)\n",
      "(400,)\n"
     ]
    }
   ],
   "source": [
    "from sklearn.model_selection import train_test_split\n",
    " \n",
    "x_train, x_test, y_train, y_test = train_test_split(\n",
    "    images, \n",
    "    labels, \n",
    "    test_size=400, \n",
    "    shuffle=True,\n",
    "    random_state=42,\n",
    "    stratify=labels\n",
    ")\n",
    "\n",
    "print(x_train.shape)\n",
    "print(y_train.shape)\n",
    "print(x_test.shape)\n",
    "print(y_test.shape)"
   ]
  },
  {
   "cell_type": "code",
   "execution_count": 12,
   "metadata": {
    "id": "AWmrdj0wCkYu"
   },
   "outputs": [],
   "source": [
    "from sklearn.preprocessing import LabelEncoder\n",
    "# prepare target\n",
    "\n",
    "le = LabelEncoder()\n",
    "le.fit(y_train)\n",
    "y_train = le.transform(y_train)\n",
    "y_test = le.transform(y_test)"
   ]
  },
  {
   "cell_type": "code",
   "execution_count": 13,
   "metadata": {
    "colab": {
     "base_uri": "https://localhost:8080/"
    },
    "id": "8I9-lV4eDE-H",
    "outputId": "bfa3a4af-93db-44f4-f926-1374aab02001"
   },
   "outputs": [
    {
     "name": "stdout",
     "output_type": "stream",
     "text": [
      "y_train length: (2081, 2)  y_test lenght: (400, 2)\n"
     ]
    }
   ],
   "source": [
    "num_classes = 2\n",
    "input_shape = (180, 180, 3)\n",
    "\n",
    "\n",
    "y_train = keras.utils.to_categorical(y_train, num_classes)\n",
    "y_test = keras.utils.to_categorical(y_test, num_classes)\n",
    "print(\"y_train length:\", y_train.shape, \" y_test lenght:\", y_test.shape)"
   ]
  },
  {
   "cell_type": "markdown",
   "metadata": {
    "id": "A4sw_4eVsqSV"
   },
   "source": [
    "## The CCT tokenizer\n",
    "\n",
    "The first recipe introduced by the CCT authors is the tokenizer for processing the\n",
    "images. In a standard ViT, images are organized into uniform *non-overlapping* patches.\n",
    "This eliminates the boundary-level information present in between different patches. This\n",
    "is important for a neural network to effectively exploit the locality information. The\n",
    "figure below presents an illustration of how images are organized into patches.\n",
    "\n",
    "![](https://i.imgur.com/IkBK9oY.png)\n",
    "\n",
    "We already know that convolutions are quite good at exploiting locality information. So,\n",
    "based on this, the authors introduce an all-convolution mini-network to produce image\n",
    "patches."
   ]
  },
  {
   "cell_type": "code",
   "execution_count": 14,
   "metadata": {
    "id": "4WtAYxGmsqSX"
   },
   "outputs": [],
   "source": [
    "\n",
    "class CCTTokenizer(layers.Layer):\n",
    "    def __init__(\n",
    "        self,\n",
    "        kernel_size=3,\n",
    "        stride=1,\n",
    "        padding=1,\n",
    "        pooling_kernel_size=3,\n",
    "        pooling_stride=2,\n",
    "        num_conv_layers=conv_layers,\n",
    "        num_output_channels=[64, 128],\n",
    "        positional_emb=positional_emb,\n",
    "        **kwargs,\n",
    "    ):\n",
    "        super(CCTTokenizer, self).__init__(**kwargs)\n",
    "\n",
    "        # This is our tokenizer.\n",
    "        self.conv_model = keras.Sequential()\n",
    "        for i in range(num_conv_layers):\n",
    "            self.conv_model.add(\n",
    "                layers.Conv2D(\n",
    "                    num_output_channels[i],\n",
    "                    kernel_size,\n",
    "                    stride,\n",
    "                    padding=\"valid\",\n",
    "                    use_bias=False,\n",
    "                    activation=\"relu\",\n",
    "                    kernel_initializer=\"he_normal\",\n",
    "                )\n",
    "            )\n",
    "            self.conv_model.add(layers.ZeroPadding2D(padding))\n",
    "            self.conv_model.add(\n",
    "                layers.MaxPool2D(pooling_kernel_size, pooling_stride, \"same\")\n",
    "            )\n",
    "\n",
    "        self.positional_emb = positional_emb\n",
    "\n",
    "    def call(self, images):\n",
    "        outputs = self.conv_model(images)\n",
    "        # After passing the images through our mini-network the spatial dimensions\n",
    "        # are flattened to form sequences.\n",
    "        reshaped = tf.reshape(\n",
    "            outputs,\n",
    "            (-1, tf.shape(outputs)[1] * tf.shape(outputs)[2], tf.shape(outputs)[-1]),\n",
    "        )\n",
    "        return reshaped\n",
    "\n",
    "    def positional_embedding(self, image_size):\n",
    "        # Positional embeddings are optional in CCT. Here, we calculate\n",
    "        # the number of sequences and initialize an `Embedding` layer to\n",
    "        # compute the positional embeddings later.\n",
    "        if self.positional_emb:\n",
    "            dummy_inputs = tf.ones((1, image_size, image_size, 3))\n",
    "            dummy_outputs = self.call(dummy_inputs)\n",
    "            sequence_length = tf.shape(dummy_outputs)[1]\n",
    "            projection_dim = tf.shape(dummy_outputs)[-1]\n",
    "\n",
    "            embed_layer = layers.Embedding(\n",
    "                input_dim=sequence_length, output_dim=projection_dim\n",
    "            )\n",
    "            return embed_layer, sequence_length\n",
    "        else:\n",
    "            return None\n"
   ]
  },
  {
   "cell_type": "markdown",
   "metadata": {
    "id": "Ea6kSzLRsqSa"
   },
   "source": [
    "## Stochastic depth for regularization\n",
    "\n",
    "[Stochastic depth](https://arxiv.org/abs/1603.09382) is a regularization technique that\n",
    "randomly drops a set of layers. During inference, the layers are kept as they are. It is\n",
    "very much similar to [Dropout](https://jmlr.org/papers/v15/srivastava14a.html) but only\n",
    "that it operates on a block of layers rather than individual nodes present inside a\n",
    "layer. In CCT, stochastic depth is used just before the residual blocks of a Transformers\n",
    "encoder."
   ]
  },
  {
   "cell_type": "code",
   "execution_count": 15,
   "metadata": {
    "id": "u-i-XopOsqSc"
   },
   "outputs": [],
   "source": [
    "# Referred from: github.com:rwightman/pytorch-image-models.\n",
    "class StochasticDepth(layers.Layer):\n",
    "    def __init__(self, drop_prop, **kwargs):\n",
    "        super(StochasticDepth, self).__init__(**kwargs)\n",
    "        self.drop_prob = drop_prop\n",
    "\n",
    "    def call(self, x, training=None):\n",
    "        if training:\n",
    "            keep_prob = 1 - self.drop_prob\n",
    "            shape = (tf.shape(x)[0],) + (1,) * (len(tf.shape(x)) - 1)\n",
    "            random_tensor = keep_prob + tf.random.uniform(shape, 0, 1)\n",
    "            random_tensor = tf.floor(random_tensor)\n",
    "            return (x / keep_prob) * random_tensor\n",
    "        return x\n"
   ]
  },
  {
   "cell_type": "markdown",
   "metadata": {
    "id": "GV2dvnWssqSd"
   },
   "source": [
    "## MLP for the Transformers encoder"
   ]
  },
  {
   "cell_type": "code",
   "execution_count": 16,
   "metadata": {
    "id": "slW09ui5sqSd"
   },
   "outputs": [],
   "source": [
    "\n",
    "def mlp(x, hidden_units, dropout_rate):\n",
    "    for units in hidden_units:\n",
    "        x = layers.Dense(units, activation=tf.nn.gelu)(x)\n",
    "        x = layers.Dropout(dropout_rate)(x)\n",
    "    return x\n"
   ]
  },
  {
   "cell_type": "markdown",
   "metadata": {
    "id": "HtzOo-OCsqSf"
   },
   "source": [
    "## Data augmentation\n",
    "\n",
    "In the [original paper](https://arxiv.org/abs/2104.05704), the authors use\n",
    "[AutoAugment](https://arxiv.org/abs/1805.09501) to induce stronger regularization. For\n",
    "this example, we will be using the standard geometric augmentations like random cropping\n",
    "and flipping."
   ]
  },
  {
   "cell_type": "code",
   "execution_count": 17,
   "metadata": {
    "id": "8WUYAjxCsqSf"
   },
   "outputs": [],
   "source": [
    "# Note the rescaling layer. These layers have pre-defined inference behavior.\n",
    "data_augmentation = keras.Sequential(\n",
    "    [\n",
    "        layers.Rescaling(scale=1.0 / 255),\n",
    "        layers.RandomCrop(image_size, image_size),\n",
    "        layers.RandomFlip(\"horizontal\"),\n",
    "    ],\n",
    "    name=\"data_augmentation\",\n",
    ")"
   ]
  },
  {
   "cell_type": "markdown",
   "metadata": {
    "id": "wWZ0KjftsqSg"
   },
   "source": [
    "## The final CCT model\n",
    "\n",
    "Another recipe introduced in CCT is attention pooling or sequence pooling. In ViT, only\n",
    "the feature map corresponding to the class token is pooled and is then used for the\n",
    "subsequent classification task (or any other downstream task). In CCT, outputs from the\n",
    "Transformers encoder are weighted and then passed on to the final task-specific layer (in\n",
    "this example, we do classification)."
   ]
  },
  {
   "cell_type": "code",
   "execution_count": 18,
   "metadata": {
    "id": "_Je-rlpknXJ9"
   },
   "outputs": [],
   "source": [
    "path = \"/content/drive/MyDrive/ViT/models\""
   ]
  },
  {
   "cell_type": "code",
   "execution_count": 19,
   "metadata": {
    "id": "9h_Ib9vssqSh"
   },
   "outputs": [],
   "source": [
    "\n",
    "def create_cct_model(\n",
    "    image_size=image_size,\n",
    "    input_shape=input_shape,\n",
    "    num_heads=num_heads,\n",
    "    projection_dim=projection_dim,\n",
    "    transformer_units=transformer_units,\n",
    "):\n",
    "\n",
    "    inputs = layers.Input(input_shape)\n",
    "\n",
    "    # Augment data.\n",
    "    augmented = data_augmentation(inputs)\n",
    "\n",
    "    # Encode patches.\n",
    "    cct_tokenizer = CCTTokenizer()\n",
    "    encoded_patches = cct_tokenizer(augmented)\n",
    "\n",
    "    # Apply positional embedding.\n",
    "    if positional_emb:\n",
    "        pos_embed, seq_length = cct_tokenizer.positional_embedding(image_size)\n",
    "        positions = tf.range(start=0, limit=seq_length, delta=1)\n",
    "        position_embeddings = pos_embed(positions)\n",
    "        encoded_patches += position_embeddings\n",
    "\n",
    "    # Calculate Stochastic Depth probabilities.\n",
    "    dpr = [x for x in np.linspace(0, stochastic_depth_rate, transformer_layers)]\n",
    "\n",
    "    # Create multiple layers of the Transformer block.\n",
    "    for i in range(transformer_layers):\n",
    "        # Layer normalization 1.\n",
    "        x1 = layers.LayerNormalization(epsilon=1e-5)(encoded_patches)\n",
    "\n",
    "        # Create a multi-head attention layer.\n",
    "        attention_output = layers.MultiHeadAttention(\n",
    "            num_heads=num_heads, key_dim=projection_dim, dropout=0.1\n",
    "        )(x1, x1)\n",
    "\n",
    "        # Skip connection 1.\n",
    "        attention_output = StochasticDepth(dpr[i])(attention_output)\n",
    "        x2 = layers.Add()([attention_output, encoded_patches])\n",
    "\n",
    "        # Layer normalization 2.\n",
    "        x3 = layers.LayerNormalization(epsilon=1e-5)(x2)\n",
    "\n",
    "        # MLP.\n",
    "        x3 = mlp(x3, hidden_units=transformer_units, dropout_rate=0.1)\n",
    "\n",
    "        # Skip connection 2.\n",
    "        x3 = StochasticDepth(dpr[i])(x3)\n",
    "        encoded_patches = layers.Add()([x3, x2])\n",
    "\n",
    "    # Apply sequence pooling.\n",
    "    representation = layers.LayerNormalization(epsilon=1e-5)(encoded_patches)\n",
    "    attention_weights = tf.nn.softmax(layers.Dense(1)(representation), axis=1)\n",
    "    weighted_representation = tf.matmul(\n",
    "        attention_weights, representation, transpose_a=True\n",
    "    )\n",
    "    weighted_representation = tf.squeeze(weighted_representation, -2)\n",
    "\n",
    "    # Classify outputs.\n",
    "    logits = layers.Dense(num_classes)(weighted_representation)\n",
    "    # Create the Keras model.\n",
    "    model = keras.Model(inputs=inputs, outputs=logits)\n",
    "    return model\n"
   ]
  },
  {
   "cell_type": "markdown",
   "metadata": {
    "id": "dg2ZuMxBsqSi"
   },
   "source": [
    "## Model training and evaluation"
   ]
  },
  {
   "cell_type": "code",
   "execution_count": 20,
   "metadata": {
    "colab": {
     "base_uri": "https://localhost:8080/"
    },
    "id": "0VE-xX3ksqSj",
    "outputId": "79c76123-ca9b-4119-8670-e2a1deb99697"
   },
   "outputs": [
    {
     "name": "stdout",
     "output_type": "stream",
     "text": [
      "Epoch 1/40\n",
      "117/117 [==============================] - 43s 340ms/step - loss: 0.8089 - accuracy: 0.5262 - val_loss: 0.7216 - val_accuracy: 0.4928\n",
      "Epoch 2/40\n",
      "117/117 [==============================] - 40s 341ms/step - loss: 0.6723 - accuracy: 0.5860 - val_loss: 0.6539 - val_accuracy: 0.5981\n",
      "Epoch 3/40\n",
      "117/117 [==============================] - 40s 345ms/step - loss: 0.6437 - accuracy: 0.6373 - val_loss: 0.6843 - val_accuracy: 0.6220\n",
      "Epoch 4/40\n",
      "117/117 [==============================] - 41s 349ms/step - loss: 0.5840 - accuracy: 0.7147 - val_loss: 0.6732 - val_accuracy: 0.6555\n",
      "Epoch 5/40\n",
      "117/117 [==============================] - 41s 354ms/step - loss: 0.6319 - accuracy: 0.6640 - val_loss: 0.6037 - val_accuracy: 0.6603\n",
      "Epoch 6/40\n",
      "117/117 [==============================] - 42s 356ms/step - loss: 0.5560 - accuracy: 0.7500 - val_loss: 0.5654 - val_accuracy: 0.7512\n",
      "Epoch 7/40\n",
      "117/117 [==============================] - 41s 354ms/step - loss: 0.6045 - accuracy: 0.6939 - val_loss: 0.6205 - val_accuracy: 0.6651\n",
      "Epoch 8/40\n",
      "117/117 [==============================] - 43s 366ms/step - loss: 0.5413 - accuracy: 0.7473 - val_loss: 0.5584 - val_accuracy: 0.7608\n",
      "Epoch 9/40\n",
      "117/117 [==============================] - 42s 355ms/step - loss: 0.5066 - accuracy: 0.7890 - val_loss: 0.5725 - val_accuracy: 0.7560\n",
      "Epoch 10/40\n",
      "117/117 [==============================] - 42s 357ms/step - loss: 0.4770 - accuracy: 0.8130 - val_loss: 0.5489 - val_accuracy: 0.7990\n",
      "Epoch 11/40\n",
      "117/117 [==============================] - 42s 355ms/step - loss: 0.4963 - accuracy: 0.7917 - val_loss: 0.5579 - val_accuracy: 0.7560\n",
      "Epoch 12/40\n",
      "117/117 [==============================] - 42s 355ms/step - loss: 0.4801 - accuracy: 0.8045 - val_loss: 0.5806 - val_accuracy: 0.7081\n",
      "Epoch 13/40\n",
      "117/117 [==============================] - 42s 355ms/step - loss: 0.4482 - accuracy: 0.8275 - val_loss: 0.5634 - val_accuracy: 0.7703\n",
      "Epoch 14/40\n",
      "117/117 [==============================] - 42s 357ms/step - loss: 0.4844 - accuracy: 0.8082 - val_loss: 0.4792 - val_accuracy: 0.8086\n",
      "Epoch 15/40\n",
      "117/117 [==============================] - 42s 355ms/step - loss: 0.4545 - accuracy: 0.8296 - val_loss: 0.5125 - val_accuracy: 0.8038\n",
      "Epoch 16/40\n",
      "117/117 [==============================] - 42s 356ms/step - loss: 0.4367 - accuracy: 0.8446 - val_loss: 0.7099 - val_accuracy: 0.6555\n",
      "Epoch 17/40\n",
      "117/117 [==============================] - 42s 357ms/step - loss: 0.4320 - accuracy: 0.8451 - val_loss: 0.4347 - val_accuracy: 0.8612\n",
      "Epoch 18/40\n",
      "117/117 [==============================] - 42s 356ms/step - loss: 0.4469 - accuracy: 0.8413 - val_loss: 0.5108 - val_accuracy: 0.7943\n",
      "Epoch 19/40\n",
      "117/117 [==============================] - 42s 355ms/step - loss: 0.4558 - accuracy: 0.8323 - val_loss: 0.4907 - val_accuracy: 0.8230\n",
      "Epoch 20/40\n",
      "117/117 [==============================] - 42s 357ms/step - loss: 0.4178 - accuracy: 0.8659 - val_loss: 0.4190 - val_accuracy: 0.8756\n",
      "Epoch 21/40\n",
      "117/117 [==============================] - 42s 356ms/step - loss: 0.4311 - accuracy: 0.8510 - val_loss: 0.4204 - val_accuracy: 0.8852\n",
      "Epoch 22/40\n",
      "117/117 [==============================] - 42s 356ms/step - loss: 0.4489 - accuracy: 0.8483 - val_loss: 0.4367 - val_accuracy: 0.8517\n",
      "Epoch 23/40\n",
      "117/117 [==============================] - 42s 356ms/step - loss: 0.3958 - accuracy: 0.8761 - val_loss: 0.4448 - val_accuracy: 0.8421\n",
      "Epoch 24/40\n",
      "117/117 [==============================] - 42s 356ms/step - loss: 0.4173 - accuracy: 0.8643 - val_loss: 0.4763 - val_accuracy: 0.8612\n",
      "Epoch 25/40\n",
      "117/117 [==============================] - 42s 356ms/step - loss: 0.4247 - accuracy: 0.8547 - val_loss: 0.4518 - val_accuracy: 0.8469\n",
      "Epoch 26/40\n",
      "117/117 [==============================] - 42s 356ms/step - loss: 0.3839 - accuracy: 0.8851 - val_loss: 0.4015 - val_accuracy: 0.8756\n",
      "Epoch 27/40\n",
      "117/117 [==============================] - 42s 356ms/step - loss: 0.4115 - accuracy: 0.8729 - val_loss: 0.4083 - val_accuracy: 0.8804\n",
      "Epoch 28/40\n",
      "117/117 [==============================] - 42s 356ms/step - loss: 0.3966 - accuracy: 0.8766 - val_loss: 0.4645 - val_accuracy: 0.8421\n",
      "Epoch 29/40\n",
      "117/117 [==============================] - 42s 355ms/step - loss: 0.3791 - accuracy: 0.8825 - val_loss: 0.4204 - val_accuracy: 0.8565\n",
      "Epoch 30/40\n",
      "117/117 [==============================] - 42s 356ms/step - loss: 0.3864 - accuracy: 0.8878 - val_loss: 0.4824 - val_accuracy: 0.8565\n",
      "Epoch 31/40\n",
      "117/117 [==============================] - 42s 356ms/step - loss: 0.3808 - accuracy: 0.8873 - val_loss: 0.4092 - val_accuracy: 0.8947\n",
      "Epoch 32/40\n",
      "117/117 [==============================] - 42s 357ms/step - loss: 0.3689 - accuracy: 0.8985 - val_loss: 0.3951 - val_accuracy: 0.8852\n",
      "Epoch 33/40\n",
      "117/117 [==============================] - 42s 357ms/step - loss: 0.3926 - accuracy: 0.8830 - val_loss: 0.3854 - val_accuracy: 0.8852\n",
      "Epoch 34/40\n",
      "117/117 [==============================] - 42s 356ms/step - loss: 0.3663 - accuracy: 0.9001 - val_loss: 0.5764 - val_accuracy: 0.7656\n",
      "Epoch 35/40\n",
      "117/117 [==============================] - 42s 356ms/step - loss: 0.3696 - accuracy: 0.8980 - val_loss: 0.4534 - val_accuracy: 0.8373\n",
      "Epoch 36/40\n",
      "117/117 [==============================] - 42s 356ms/step - loss: 0.3938 - accuracy: 0.8777 - val_loss: 0.4307 - val_accuracy: 0.8804\n",
      "Epoch 37/40\n",
      "117/117 [==============================] - 42s 357ms/step - loss: 0.3851 - accuracy: 0.8889 - val_loss: 0.4142 - val_accuracy: 0.8708\n",
      "Epoch 38/40\n",
      "117/117 [==============================] - 42s 358ms/step - loss: 0.3613 - accuracy: 0.9049 - val_loss: 0.3686 - val_accuracy: 0.8947\n",
      "Epoch 39/40\n",
      "117/117 [==============================] - 42s 356ms/step - loss: 0.3681 - accuracy: 0.8990 - val_loss: 0.3980 - val_accuracy: 0.8708\n",
      "Epoch 40/40\n",
      "117/117 [==============================] - 42s 357ms/step - loss: 0.3560 - accuracy: 0.9060 - val_loss: 0.3639 - val_accuracy: 0.9043\n",
      "13/13 [==============================] - 3s 208ms/step - loss: 0.3824 - accuracy: 0.8825\n",
      "Test accuracy: 88.25%\n"
     ]
    }
   ],
   "source": [
    "\n",
    "def run_experiment(model):\n",
    "    optimizer = tfa.optimizers.AdamW(learning_rate=0.001, weight_decay=0.0001)\n",
    "\n",
    "    model.compile(\n",
    "        optimizer=optimizer,\n",
    "        loss=keras.losses.CategoricalCrossentropy(\n",
    "            from_logits=True, label_smoothing=0.1\n",
    "        ),\n",
    "        metrics=[\n",
    "            keras.metrics.CategoricalAccuracy(name=\"accuracy\"),\n",
    "            # keras.metrics.TopKCategoricalAccuracy(5, name=\"top-5-accuracy\"),\n",
    "        ],\n",
    "    )\n",
    "\n",
    "    checkpoint_filepath = path + \"/test1/cct\"\n",
    "    checkpoint_callback = keras.callbacks.ModelCheckpoint(\n",
    "        checkpoint_filepath,\n",
    "        monitor=\"val_loss\",\n",
    "        mode=\"min\",\n",
    "        save_best_only=True,\n",
    "        save_weights_only=True,\n",
    "    )\n",
    "\n",
    "    history = model.fit(\n",
    "        x=x_train,\n",
    "        y=y_train,\n",
    "        batch_size=batch_size,\n",
    "        epochs=num_epochs,\n",
    "        validation_split=0.1,\n",
    "        callbacks=[checkpoint_callback],\n",
    "    )\n",
    "\n",
    "    model.load_weights(checkpoint_filepath)\n",
    "    _, accuracy = model.evaluate(x_test, y_test)\n",
    "    print(f\"Test accuracy: {round(accuracy * 100, 2)}%\")\n",
    "    # print(f\"Test top 5 accuracy: {round(top_5_accuracy * 100, 2)}%\")\n",
    "\n",
    "    return history\n",
    "\n",
    "\n",
    "cct_model = create_cct_model()\n",
    "history = run_experiment(cct_model)"
   ]
  },
  {
   "cell_type": "markdown",
   "metadata": {
    "id": "HmmIUar8sqSk"
   },
   "source": [
    "Let's now visualize the training progress of the model."
   ]
  },
  {
   "cell_type": "code",
   "execution_count": 21,
   "metadata": {
    "colab": {
     "base_uri": "https://localhost:8080/",
     "height": 296
    },
    "id": "e3FDnJ3nsqSl",
    "outputId": "ccd90b72-e32f-4783-a815-45e84787bd40"
   },
   "outputs": [
    {
     "data": {
      "image/png": "[encoded data removed]",
      "text/plain": [
       "<Figure size 432x288 with 1 Axes>"
      ]
     },
     "metadata": {
      "needs_background": "light"
     },
     "output_type": "display_data"
    }
   ],
   "source": [
    "plt.plot(history.history[\"loss\"], label=\"train_loss\")\n",
    "plt.plot(history.history[\"val_loss\"], label=\"val_loss\")\n",
    "plt.xlabel(\"Epochs\")\n",
    "plt.ylabel(\"Loss\")\n",
    "plt.title(\"Train and Validation Losses Over Epochs\", fontsize=14)\n",
    "plt.legend()\n",
    "plt.grid()\n",
    "plt.show()"
   ]
  },
  {
   "cell_type": "code",
   "execution_count": 22,
   "metadata": {
    "colab": {
     "base_uri": "https://localhost:8080/",
     "height": 296
    },
    "id": "d5f-N6Who_3R",
    "outputId": "ff47aab4-07cc-4e4d-cd14-43ad34b0a05e"
   },
   "outputs": [
    {
     "data": {
      "image/png": "[encoded data removed]",
      "text/plain": [
       "<Figure size 432x288 with 1 Axes>"
      ]
     },
     "metadata": {
      "needs_background": "light"
     },
     "output_type": "display_data"
    }
   ],
   "source": [
    "plt.plot(history.history[\"accuracy\"], label=\"train_accuracy\")\n",
    "plt.plot(history.history[\"val_accuracy\"], label=\"val_accuracy\")\n",
    "plt.xlabel(\"Epochs\")\n",
    "plt.ylabel(\"Accuracy\")\n",
    "plt.title(\"Train and Validation Accuracies Over Epochs\", fontsize=14)\n",
    "plt.legend()\n",
    "plt.grid()\n",
    "plt.show()"
   ]
  },
  {
   "cell_type": "code",
   "execution_count": 23,
   "metadata": {
    "colab": {
     "base_uri": "https://localhost:8080/"
    },
    "id": "jjTBP8p2pQ4M",
    "outputId": "d87cfb78-2a0d-4368-92e5-d4b3ad6a5922"
   },
   "outputs": [
    {
     "name": "stdout",
     "output_type": "stream",
     "text": [
      "Model: \"model_1\"\n",
      "__________________________________________________________________________________________________\n",
      " Layer (type)                   Output Shape         Param #     Connected to                     \n",
      "==================================================================================================\n",
      " input_2 (InputLayer)           [(None, 180, 180, 3  0           []                               \n",
      "                                )]                                                                \n",
      "                                                                                                  \n",
      " data_augmentation (Sequential)  (None, 180, 180, 3)  0          ['input_2[0][0]']                \n",
      "                                                                                                  \n",
      " cct_tokenizer_1 (CCTTokenizer)  (None, 2025, 128)   75456       ['data_augmentation[1][0]']      \n",
      "                                                                                                  \n",
      " tf.__operators__.add_1 (TFOpLa  (None, 2025, 128)   0           ['cct_tokenizer_1[0][0]']        \n",
      " mbda)                                                                                            \n",
      "                                                                                                  \n",
      " layer_normalization_5 (LayerNo  (None, 2025, 128)   256         ['tf.__operators__.add_1[0][0]'] \n",
      " rmalization)                                                                                     \n",
      "                                                                                                  \n",
      " multi_head_attention_2 (MultiH  (None, 2025, 128)   131968      ['layer_normalization_5[0][0]',  \n",
      " eadAttention)                                                    'layer_normalization_5[0][0]']  \n",
      "                                                                                                  \n",
      " stochastic_depth_4 (Stochastic  (None, 2025, 128)   0           ['multi_head_attention_2[0][0]'] \n",
      " Depth)                                                                                           \n",
      "                                                                                                  \n",
      " add_4 (Add)                    (None, 2025, 128)    0           ['stochastic_depth_4[0][0]',     \n",
      "                                                                  'tf.__operators__.add_1[0][0]'] \n",
      "                                                                                                  \n",
      " layer_normalization_6 (LayerNo  (None, 2025, 128)   256         ['add_4[0][0]']                  \n",
      " rmalization)                                                                                     \n",
      "                                                                                                  \n",
      " dense_6 (Dense)                (None, 2025, 128)    16512       ['layer_normalization_6[0][0]']  \n",
      "                                                                                                  \n",
      " dropout_4 (Dropout)            (None, 2025, 128)    0           ['dense_6[0][0]']                \n",
      "                                                                                                  \n",
      " dense_7 (Dense)                (None, 2025, 128)    16512       ['dropout_4[0][0]']              \n",
      "                                                                                                  \n",
      " dropout_5 (Dropout)            (None, 2025, 128)    0           ['dense_7[0][0]']                \n",
      "                                                                                                  \n",
      " stochastic_depth_5 (Stochastic  (None, 2025, 128)   0           ['dropout_5[0][0]']              \n",
      " Depth)                                                                                           \n",
      "                                                                                                  \n",
      " add_5 (Add)                    (None, 2025, 128)    0           ['stochastic_depth_5[0][0]',     \n",
      "                                                                  'add_4[0][0]']                  \n",
      "                                                                                                  \n",
      " layer_normalization_7 (LayerNo  (None, 2025, 128)   256         ['add_5[0][0]']                  \n",
      " rmalization)                                                                                     \n",
      "                                                                                                  \n",
      " multi_head_attention_3 (MultiH  (None, 2025, 128)   131968      ['layer_normalization_7[0][0]',  \n",
      " eadAttention)                                                    'layer_normalization_7[0][0]']  \n",
      "                                                                                                  \n",
      " stochastic_depth_6 (Stochastic  (None, 2025, 128)   0           ['multi_head_attention_3[0][0]'] \n",
      " Depth)                                                                                           \n",
      "                                                                                                  \n",
      " add_6 (Add)                    (None, 2025, 128)    0           ['stochastic_depth_6[0][0]',     \n",
      "                                                                  'add_5[0][0]']                  \n",
      "                                                                                                  \n",
      " layer_normalization_8 (LayerNo  (None, 2025, 128)   256         ['add_6[0][0]']                  \n",
      " rmalization)                                                                                     \n",
      "                                                                                                  \n",
      " dense_8 (Dense)                (None, 2025, 128)    16512       ['layer_normalization_8[0][0]']  \n",
      "                                                                                                  \n",
      " dropout_6 (Dropout)            (None, 2025, 128)    0           ['dense_8[0][0]']                \n",
      "                                                                                                  \n",
      " dense_9 (Dense)                (None, 2025, 128)    16512       ['dropout_6[0][0]']              \n",
      "                                                                                                  \n",
      " dropout_7 (Dropout)            (None, 2025, 128)    0           ['dense_9[0][0]']                \n",
      "                                                                                                  \n",
      " stochastic_depth_7 (Stochastic  (None, 2025, 128)   0           ['dropout_7[0][0]']              \n",
      " Depth)                                                                                           \n",
      "                                                                                                  \n",
      " add_7 (Add)                    (None, 2025, 128)    0           ['stochastic_depth_7[0][0]',     \n",
      "                                                                  'add_6[0][0]']                  \n",
      "                                                                                                  \n",
      " layer_normalization_9 (LayerNo  (None, 2025, 128)   256         ['add_7[0][0]']                  \n",
      " rmalization)                                                                                     \n",
      "                                                                                                  \n",
      " dense_10 (Dense)               (None, 2025, 1)      129         ['layer_normalization_9[0][0]']  \n",
      "                                                                                                  \n",
      " tf.nn.softmax_1 (TFOpLambda)   (None, 2025, 1)      0           ['dense_10[0][0]']               \n",
      "                                                                                                  \n",
      " tf.linalg.matmul_1 (TFOpLambda  (None, 1, 128)      0           ['tf.nn.softmax_1[0][0]',        \n",
      " )                                                                'layer_normalization_9[0][0]']  \n",
      "                                                                                                  \n",
      " tf.compat.v1.squeeze_1 (TFOpLa  (None, 128)         0           ['tf.linalg.matmul_1[0][0]']     \n",
      " mbda)                                                                                            \n",
      "                                                                                                  \n",
      " dense_11 (Dense)               (None, 2)            258         ['tf.compat.v1.squeeze_1[0][0]'] \n",
      "                                                                                                  \n",
      "==================================================================================================\n",
      "Total params: 407,107\n",
      "Trainable params: 407,107\n",
      "Non-trainable params: 0\n",
      "__________________________________________________________________________________________________\n"
     ]
    }
   ],
   "source": [
    "cct_model = create_cct_model()\n",
    "optimizer = tfa.optimizers.AdamW(learning_rate=0.001, weight_decay=0.0001)\n",
    "\n",
    "cct_model.compile(\n",
    "        optimizer=optimizer,\n",
    "        loss=keras.losses.CategoricalCrossentropy(\n",
    "            from_logits=True, label_smoothing=0.1\n",
    "        ),\n",
    "        metrics=[\n",
    "            keras.metrics.CategoricalAccuracy(name=\"accuracy\"),\n",
    "            # keras.metrics.TopKCategoricalAccuracy(5, name=\"top-5-accuracy\"),\n",
    "        ],\n",
    "        )\n",
    "cct_model.load_weights(path+\"/test1/cct\")\n",
    "cct_model.summary()"
   ]
  },
  {
   "cell_type": "markdown",
   "metadata": {
    "id": "zfMDFrbesqSm"
   },
   "source": [
    "The CCT model we just trained has just **0.4 million** parameters, and it gets us to\n",
    "~88% top-1 accuracy within 40 epochs. The plot above shows no signs of overfitting as\n",
    "well. This means we can train this network for longer (perhaps with a bit more\n",
    "regularization) and may obtain even better performance. This performance can further be\n",
    "improved by additional recipes like cosine decay learning rate schedule, other data augmentation\n",
    "techniques like [AutoAugment](https://arxiv.org/abs/1805.09501),\n",
    "[MixUp](https://arxiv.org/abs/1710.09412) or\n",
    "[Cutmix](https://arxiv.org/abs/1905.04899). With these modifications, the authors present\n",
    "95.1% top-1 accuracy on the CIFAR-10 dataset. The authors also present a number of\n",
    "experiments to study how the number of convolution blocks, Transformers layers, etc.\n",
    "affect the final performance of CCTs.\n",
    "\n",
    "For a comparison, a ViT model takes about **4.7 million** parameters and **100\n",
    "epochs** of training to reach a top-1 accuracy of 78.22% on the CIFAR-10 dataset. You can\n",
    "refer to\n",
    "[this notebook](https://colab.research.google.com/gist/sayakpaul/1a80d9f582b044354a1a26c5cb3d69e5/image_classification_with_vision_transformer.ipynb)\n",
    "to know about the experimental setup.\n",
    "\n",
    "The authors also demonstrate the performance of Compact Convolutional Transformers on\n",
    "NLP tasks and they report competitive results there."
   ]
  }
 ],
 "metadata": {
  "accelerator": "GPU",
  "colab": {
   "collapsed_sections": [],
   "name": "CompactConvolutionalTransformer.ipynb",
   "provenance": []
  },
  "kernelspec": {
   "display_name": "Python 3",
   "language": "python",
   "name": "python3"
  },
  "language_info": {
   "codemirror_mode": {
    "name": "ipython",
    "version": 3
   },
   "file_extension": ".py",
   "mimetype": "text/x-python",
   "name": "python",
   "nbconvert_exporter": "python",
   "pygments_lexer": "ipython3",
   "version": "3.8.10"
  }
 },
 "nbformat": 4,
 "nbformat_minor": 1
}
