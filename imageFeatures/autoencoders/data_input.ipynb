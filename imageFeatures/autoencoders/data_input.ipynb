{
 "cells": [
  {
   "cell_type": "code",
   "execution_count": 4,
   "metadata": {},
   "outputs": [],
   "source": [
    "import os\n",
    "import keras\n",
    "from keras import layers\n",
    "import tensorflow as tf\n",
    "from tensorflow.keras.preprocessing.image import ImageDataGenerator\n",
    "import matplotlib.pyplot as plt"
   ]
  },
  {
   "cell_type": "code",
   "execution_count": 5,
   "metadata": {},
   "outputs": [
    {
     "name": "stdout",
     "output_type": "stream",
     "text": [
      "True\n"
     ]
    }
   ],
   "source": [
    "datapath = \"../../../deeplearning/TensorFlow2.0_ResNet/dataset/\"\n",
    "# datapath = \"../../../deeplearning/covidDataset/\"\n",
    "print(os.path.exists(datapath))\n",
    "image_dims = (300, 300)"
   ]
  },
  {
   "cell_type": "code",
   "execution_count": 6,
   "metadata": {},
   "outputs": [],
   "source": [
    "def get_imagedatagenerator(datapath):\n",
    "    if (os.path.exists(datapath)==True):\n",
    "        train_datagen = ImageDataGenerator(rescale = 1./255)\n",
    "        test_datagen = ImageDataGenerator(rescale = 1./255)\n",
    "        validation_datagen = ImageDataGenerator(rescale = 1./255)\n",
    "        train_generator = train_datagen.flow_from_directory(os.path.join(datapath, \"train\"),\n",
    "                                                     target_size = image_dims,\n",
    "                                                    batch_size = 1488,\n",
    "                                                     class_mode = 'binary'\n",
    "                                                           #color_mode = 'grayscale'\n",
    "                                                           )\n",
    "        test_generator = test_datagen.flow_from_directory(os.path.join(datapath, \"test\"), \n",
    "                                                                     target_size = image_dims,\n",
    "                                                                      batch_size = 495,\n",
    "                                                                     class_mode = 'binary' \n",
    "                                                                     #color_mode = 'grayscale'\n",
    "                                                         )\n",
    "        validation_generator = validation_datagen.flow_from_directory(os.path.join(datapath, \"valid\"), \n",
    "                                                             target_size = image_dims,\n",
    "                                                              batch_size = 498,\n",
    "                                                             class_mode = 'binary' \n",
    "                                                             #color_mode = 'grayscale'\n",
    "                                                                     )\n",
    "        \n",
    "        return train_generator, test_generator, validation_generator \n",
    "    else:\n",
    "        return -1"
   ]
  },
  {
   "cell_type": "code",
   "execution_count": null,
   "metadata": {},
   "outputs": [
    {
     "name": "stdout",
     "output_type": "stream",
     "text": [
      "Found 1488 images belonging to 2 classes.\n",
      "Found 495 images belonging to 2 classes.\n",
      "Found 498 images belonging to 2 classes.\n"
     ]
    }
   ],
   "source": [
    "train_generator, test_generator, validation_generator = get_imagedatagenerator(datapath)\n",
    "x_train, y_train = next(train_generator)\n",
    "x_test, y_test = next(test_generator)\n",
    "x_valid, y_valid = next(validation_generator)\n",
    "n = 6\n",
    "plt.figure(figsize=(20, 4))\n",
    "for i in range(n):\n",
    "    ax = plt.subplot(1, n, i+1)\n",
    "    ax.set(xlabel=\"label - {}\".format(y_train[i]))\n",
    "    img = x_train[i]\n",
    "    ax.imshow(img, cmap='gray')\n",
    "plt.show()"
   ]
  },
  {
   "cell_type": "code",
   "execution_count": null,
   "metadata": {},
   "outputs": [],
   "source": [
    "# print(x_batch.shape)"
   ]
  }
 ],
 "metadata": {
  "kernelspec": {
   "display_name": "Python 3",
   "language": "python",
   "name": "python3"
  },
  "language_info": {
   "codemirror_mode": {
    "name": "ipython",
    "version": 3
   },
   "file_extension": ".py",
   "mimetype": "text/x-python",
   "name": "python",
   "nbconvert_exporter": "python",
   "pygments_lexer": "ipython3",
   "version": "3.8.10"
  }
 },
 "nbformat": 4,
 "nbformat_minor": 2
}
