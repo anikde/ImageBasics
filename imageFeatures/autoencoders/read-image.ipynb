{
 "cells": [
  {
   "cell_type": "code",
   "execution_count": 2,
   "metadata": {},
   "outputs": [],
   "source": [
    "# flag1 = cv2.IMREAD_GRAYSCALE\n",
    "import cv2\n",
    "import matplotlib.pyplot as plt\n",
    "import numpy as np\n",
    "def shape(path, flag1, flag2, size=248 , plot=False):\n",
    "    \"\"\"\n",
    "    This function returns the shape of the image\n",
    "    arugument 1: path - refers to the path of the image\n",
    "    arguement 2 : flag 1 - cv2 image read flags \n",
    "    arguement 3 : flag 2 - True if the image has to be resize\n",
    "    arguement 4 : shape - to resize - default (248, 248) \n",
    "    arguement 5 : plot - True to visualize the img - default=False\n",
    "    \"\"\"\n",
    "    if (os.path.exists(path)==True):\n",
    "        img = cv2.imread(path, flag1)\n",
    "        if (flag2==True): img = cv2.resize(img, (size, size))\n",
    "        if (plot==True):\n",
    "            plt.imshow(img, cmap='gray')\n",
    "            plt.show()\n",
    "        return img\n",
    "    else:\n",
    "        return -1"
   ]
  }
 ],
 "metadata": {
  "kernelspec": {
   "display_name": "Python 3",
   "language": "python",
   "name": "python3"
  },
  "language_info": {
   "codemirror_mode": {
    "name": "ipython",
    "version": 3
   },
   "file_extension": ".py",
   "mimetype": "text/x-python",
   "name": "python",
   "nbconvert_exporter": "python",
   "pygments_lexer": "ipython3",
   "version": "3.8.10"
  }
 },
 "nbformat": 4,
 "nbformat_minor": 2
}
