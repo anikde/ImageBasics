{
 "cells": [
  {
   "cell_type": "code",
   "execution_count": 1,
   "metadata": {},
   "outputs": [],
   "source": [
    "import keras\n",
    "from keras import layers\n",
    "import tensorflow as tf\n",
    "import numpy as np\n",
    "import os"
   ]
  },
  {
   "cell_type": "code",
   "execution_count": 2,
   "metadata": {},
   "outputs": [],
   "source": [
    "# # training_dir = \"../../../deeplearning/TensorFlow2.0_ResNet/dataset/train\"\n",
    "# training_dir = \"/root/pythonprojects/deeplearning/covidDataset\"\n",
    "# datagen = tf.keras.preprocessing.image.ImageDataGenerator(validation_split=0.2, rescale=1. / 255.)\n",
    "# height = 128\n",
    "# width = 128\n",
    "# channel = 1\n",
    "# batch = 8\n",
    "# train_it = datagen.flow_from_directory(training_dir, target_size = (height, width), color_mode=\"grayscale\",\n",
    "#                                       class_mode = \"input\", batch_size = batch, subset=\"training\")\n",
    "# val_it = datagen.flow_from_directory(training_dir, target_size = (height, width), color_mode=\"grayscale\",\n",
    "#                                       class_mode = \"input\", batch_size = batch, subset=\"validation\")"
   ]
  },
  {
   "cell_type": "code",
   "execution_count": 3,
   "metadata": {},
   "outputs": [],
   "source": [
    "%run read-image.ipynb\n",
    "from glob import glob\n",
    "path = \"/root/pythonprojects/deeplearning/covidDataset\"\n",
    "Train_dir = os.path.join(path,\"Train\")\n",
    "covid_image_path = glob(os.path.join(Train_dir,\"COVID\", \"*.png\"))\n",
    "non_covid_image_path = glob(os.path.join(Train_dir,\"non-COVID\", \"*.png\"))\n",
    "Test_dir = os.path.join(path,\"Test\")\n",
    "covid_image_path_test = glob(os.path.join(Test_dir,\"COVID\", \"*.png\"))\n",
    "non_covid_image_path_test = glob(os.path.join(Test_dir,\"non-COVID\", \"*.png\"))\n",
    "\n",
    "train = []\n",
    "test = []\n",
    "size = 128\n",
    "for path in covid_image_path:\n",
    "    img = shape(path, flag1 = cv2.IMREAD_GRAYSCALE, flag2=True, size=size, plot=False)\n",
    "    train.append(img)\n",
    "for path in non_covid_image_path:\n",
    "    img = shape(path, flag1 = cv2.IMREAD_GRAYSCALE, flag2=True, size=size, plot=False)\n",
    "    train.append(img)\n",
    "for path in covid_image_path_test:\n",
    "    img = shape(path, flag1 = cv2.IMREAD_GRAYSCALE, flag2=True, size=size, plot=False)\n",
    "    test.append(img)\n",
    "for path in non_covid_image_path_test:\n",
    "    img = shape(path, flag1 = cv2.IMREAD_GRAYSCALE, flag2=True, size=size, plot=False)\n",
    "    test.append(img)\n",
    "\n",
    "    \n",
    "train = np.array(train)\n",
    "test = np.array(test)"
   ]
  },
  {
   "cell_type": "code",
   "execution_count": 4,
   "metadata": {},
   "outputs": [
    {
     "name": "stdout",
     "output_type": "stream",
     "text": [
      "(2002, 128, 128)\n",
      "(479, 128, 128)\n"
     ]
    }
   ],
   "source": [
    "print(train.shape)\n",
    "print(test.shape)"
   ]
  },
  {
   "cell_type": "code",
   "execution_count": 5,
   "metadata": {},
   "outputs": [
    {
     "name": "stdout",
     "output_type": "stream",
     "text": [
      "(2002, 16384)\n",
      "(479, 16384)\n"
     ]
    }
   ],
   "source": [
    "x_train = train.astype('float32') / 255.\n",
    "x_test = test.astype('float32') / 255.\n",
    "x_train = x_train.reshape((len(x_train), np.prod(x_train.shape[1:])))\n",
    "x_test = x_test.reshape((len(x_test), np.prod(x_test.shape[1:])))\n",
    "print(x_train.shape)\n",
    "print(x_test.shape)"
   ]
  },
  {
   "cell_type": "code",
   "execution_count": 6,
   "metadata": {},
   "outputs": [],
   "source": [
    "# import matplotlib.pyplot as plt\n",
    "# x, y = train_it.next()\n",
    "# for i in range(0, 1):\n",
    "#     image = x[i]\n",
    "# #     print(y[i])\n",
    "#     plt.imshow(image, cmap=\"gray\")\n",
    "#     plt.show()"
   ]
  },
  {
   "cell_type": "code",
   "execution_count": 7,
   "metadata": {},
   "outputs": [],
   "source": [
    "input_img = keras.Input(shape=(16384,))\n",
    "encoded = layers.Dense(128, activation='relu')(input_img)\n",
    "encoded = layers.Dense(64, activation='relu')(encoded)\n",
    "encoded = layers.Dense(32, activation='relu')(encoded)\n",
    "\n",
    "decoded = layers.Dense(64, activation='relu')(encoded)\n",
    "decoded = layers.Dense(128, activation='relu')(decoded)\n",
    "decoded = layers.Dense(16384, activation='sigmoid')(decoded)"
   ]
  },
  {
   "cell_type": "code",
   "execution_count": 8,
   "metadata": {},
   "outputs": [
    {
     "name": "stdout",
     "output_type": "stream",
     "text": [
      "Epoch 1/10\n",
      "16/16 [==============================] - 8s 120ms/step - loss: 0.6161 - val_loss: 0.5732\n",
      "Epoch 2/10\n",
      "16/16 [==============================] - 2s 96ms/step - loss: 0.5772 - val_loss: 0.5620\n",
      "Epoch 3/10\n",
      "16/16 [==============================] - 2s 97ms/step - loss: 0.5659 - val_loss: 0.5568\n",
      "Epoch 4/10\n",
      "16/16 [==============================] - 2s 97ms/step - loss: 0.5617 - val_loss: 0.5527\n",
      "Epoch 5/10\n",
      "16/16 [==============================] - 2s 117ms/step - loss: 0.5559 - val_loss: 0.5443\n",
      "Epoch 6/10\n",
      "16/16 [==============================] - 2s 108ms/step - loss: 0.5501 - val_loss: 0.5441\n",
      "Epoch 7/10\n",
      "16/16 [==============================] - 2s 98ms/step - loss: 0.5480 - val_loss: 0.5437\n",
      "Epoch 8/10\n",
      "16/16 [==============================] - 2s 99ms/step - loss: 0.5468 - val_loss: 0.5420\n",
      "Epoch 9/10\n",
      "16/16 [==============================] - 2s 98ms/step - loss: 0.5450 - val_loss: 0.5402\n",
      "Epoch 10/10\n",
      "16/16 [==============================] - 2s 98ms/step - loss: 0.5435 - val_loss: 0.5379\n"
     ]
    },
    {
     "data": {
      "text/plain": [
       "<keras.callbacks.History at 0x7f0348ebdd30>"
      ]
     },
     "execution_count": 8,
     "metadata": {},
     "output_type": "execute_result"
    }
   ],
   "source": [
    "autoencoder = keras.Model(input_img, decoded)\n",
    "autoencoder.compile(optimizer='adam', loss='binary_crossentropy')\n",
    "\n",
    "autoencoder.fit(x_train, x_train,\n",
    "                epochs=10,\n",
    "                batch_size=128,\n",
    "                shuffle=True,\n",
    "                validation_data=(x_test, x_test))"
   ]
  },
  {
   "cell_type": "code",
   "execution_count": 14,
   "metadata": {},
   "outputs": [
    {
     "name": "stdout",
     "output_type": "stream",
     "text": [
      "Model: \"model_5\"\n",
      "_________________________________________________________________\n",
      " Layer (type)                Output Shape              Param #   \n",
      "=================================================================\n",
      " input_1 (InputLayer)        [(None, 16384)]           0         \n",
      "                                                                 \n",
      " dense (Dense)               (None, 128)               2097280   \n",
      "                                                                 \n",
      " dense_1 (Dense)             (None, 64)                8256      \n",
      "                                                                 \n",
      " dense_2 (Dense)             (None, 32)                2080      \n",
      "                                                                 \n",
      " dense_3 (Dense)             (None, 64)                2112      \n",
      "                                                                 \n",
      " dense_4 (Dense)             (None, 128)               8320      \n",
      "                                                                 \n",
      " dense_5 (Dense)             (None, 16384)             2113536   \n",
      "                                                                 \n",
      "=================================================================\n",
      "Total params: 4,231,584\n",
      "Trainable params: 4,231,584\n",
      "Non-trainable params: 0\n",
      "_________________________________________________________________\n"
     ]
    }
   ],
   "source": [
    "# autoencoder = keras.Model(input_img, decoded)\n",
    "# encoder = keras.Model(input_img, encoded)\n",
    "# encoding_dims = 32\n",
    "# encoded_input = keras.Input(shape=(encoding_dims))\n",
    "# decoder_layer = autoencoder.layers[-1]\n",
    "# decoder = keras.Model(encoded_input, decoder_layer(encoded_input))\n",
    "\n",
    "# encoded_imgs = encoded.predict(x_test)\n",
    "# decoded_imgs = decoded.predict(encoded_imgs)\n",
    "autoencoder.summary()"
   ]
  },
  {
   "cell_type": "code",
   "execution_count": null,
   "metadata": {},
   "outputs": [],
   "source": [
    "import matplotlib.pyplot as plt\n",
    "\n",
    "n = 10  # How many digits we will display\n",
    "plt.figure(figsize=(20, 4))\n",
    "for i in range(n):\n",
    "    # Display original\n",
    "    ax = plt.subplot(2, n, i + 1)\n",
    "    plt.imshow(x_test[i].reshape(28, 28))\n",
    "    plt.gray()\n",
    "    ax.get_xaxis().set_visible(False)\n",
    "    ax.get_yaxis().set_visible(False)\n",
    "\n",
    "    # Display reconstruction\n",
    "    ax = plt.subplot(2, n, i + 1 + n)\n",
    "    plt.imshow(decoded_imgs[i].reshape(28, 28))\n",
    "    plt.gray()\n",
    "    ax.get_xaxis().set_visible(False)\n",
    "    ax.get_yaxis().set_visible(False)\n",
    "plt.show()"
   ]
  }
 ],
 "metadata": {
  "kernelspec": {
   "display_name": "Python 3",
   "language": "python",
   "name": "python3"
  },
  "language_info": {
   "codemirror_mode": {
    "name": "ipython",
    "version": 3
   },
   "file_extension": ".py",
   "mimetype": "text/x-python",
   "name": "python",
   "nbconvert_exporter": "python",
   "pygments_lexer": "ipython3",
   "version": "3.8.10"
  }
 },
 "nbformat": 4,
 "nbformat_minor": 2
}
