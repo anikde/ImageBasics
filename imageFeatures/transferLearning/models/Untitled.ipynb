{
 "cells": [
  {
   "cell_type": "code",
   "execution_count": null,
   "metadata": {},
   "outputs": [],
   "source": [
    "import tensorflow as tf\n",
    "import keras"
   ]
  },
  {
   "cell_type": "code",
   "execution_count": null,
   "metadata": {},
   "outputs": [],
   "source": [
    "model_resnet = tf.keras.models.load_model('resnet/best/')"
   ]
  },
  {
   "cell_type": "code",
   "execution_count": null,
   "metadata": {},
   "outputs": [],
   "source": [
    "x = model_resnet.layers[-2].output\n",
    "resnet = keras.Model(model_resnet.input, x)\n",
    "resnet.summary()"
   ]
  },
  {
   "cell_type": "code",
   "execution_count": null,
   "metadata": {},
   "outputs": [],
   "source": [
    "model_vgg19 = tf.keras.models.load_model('vgg19/180-500-200-adam-mse-binaryacc')\n",
    "model_vgg19.summary()\n",
    "y = model_vgg19.layers[-2].output\n",
    "vgg19 = keras.Model(model_vgg19.input, y)\n",
    "vgg19.summary()"
   ]
  },
  {
   "cell_type": "code",
   "execution_count": null,
   "metadata": {},
   "outputs": [],
   "source": [
    "model_densenet = tf.keras.models.load_model('denseNet/180-1000-500-200-adam-mse-binaryacc')\n",
    "model_densenet.summary()\n",
    "z = model_densenet.layers[-2].output\n",
    "densenet = keras.Model(model_densenet.input, z)\n",
    "densenet.summary()"
   ]
  },
  {
   "cell_type": "code",
   "execution_count": null,
   "metadata": {},
   "outputs": [],
   "source": [
    "models = [densenet, vgg19, resnet]"
   ]
  },
  {
   "cell_type": "code",
   "execution_count": null,
   "metadata": {},
   "outputs": [],
   "source": [
    "def ensembleModels(models, model_input):\n",
    "    # collect outputs of models in a list\n",
    "    yModels=[model(model_input) for model in models]     # averaging outputs\n",
    "    yAvg=keras.layers.average(yModels)     # build model from same input and avg output\n",
    "    modelEns = keras.Model(inputs=model_input, outputs=yAvg,    name='ensemble')  \n",
    "   \n",
    "    return modelEns\n",
    "\n",
    "ensembled_model = ensembleModels(models, vgg19.input)"
   ]
  },
  {
   "cell_type": "code",
   "execution_count": null,
   "metadata": {},
   "outputs": [],
   "source": [
    "x = ensembled_model.layers[-1].output\n",
    "x = keras.layers.Dense(1)(x)\n",
    "model = keras.Model(ensembled_model.input, x)\n",
    "model.summary()"
   ]
  },
  {
   "cell_type": "code",
   "execution_count": null,
   "metadata": {},
   "outputs": [],
   "source": [
    "model.compile(optimizer=tf.keras.optimizers.Adam(),\n",
    "             loss=tf.keras.losses.MeanSquaredError(),\n",
    "             metrics=tf.keras.metrics.BinaryAccuracy())"
   ]
  },
  {
   "cell_type": "code",
   "execution_count": null,
   "metadata": {},
   "outputs": [],
   "source": [
    "path = 'models/ensemble-nofreeze-200'\n",
    "model_checkpoint_callback = tf.keras.callbacks.ModelCheckpoint(\n",
    "                                                    filepath=path,\n",
    "                                                    save_weights_only=False,\n",
    "                                                    monitor='val_loss',\n",
    "                                                    mode='min',\n",
    "                                                    save_best_only=True,\n",
    "                                                    verbose=0)"
   ]
  },
  {
   "cell_type": "code",
   "execution_count": null,
   "metadata": {},
   "outputs": [],
   "source": [
    "from tensorflow.keras.preprocessing.image import ImageDataGenerator\n",
    "import os"
   ]
  },
  {
   "cell_type": "code",
   "execution_count": null,
   "metadata": {},
   "outputs": [],
   "source": [
    "datapath = \"../../../../deeplearning/TensorFlow2.0_ResNet/dataset/\"\n",
    "print(os.path.exists(datapath))\n",
    "image_dims = (180, 180)\n",
    "batch_size = 64"
   ]
  },
  {
   "cell_type": "code",
   "execution_count": null,
   "metadata": {},
   "outputs": [],
   "source": [
    "train_datagen = ImageDataGenerator(rescale = 1./255)\n",
    "test_datagen = ImageDataGenerator(rescale = 1./255)\n",
    "validation_datagen = ImageDataGenerator(rescale = 1./255)\n",
    "train_generator = train_datagen.flow_from_directory(os.path.join(datapath, \"train\"),\n",
    "                                             target_size = image_dims,\n",
    "                                            batch_size = batch_size,\n",
    "                                             class_mode = 'binary',\n",
    "                                            color_mode = 'rgb',\n",
    "                                                   shuffle=True)\n",
    "test_generator = test_datagen.flow_from_directory(os.path.join(datapath, \"test\"), \n",
    "                                                             target_size = image_dims,\n",
    "                                                              batch_size = batch_size,\n",
    "                                                             class_mode = 'binary', \n",
    "                                                             color_mode = 'rgb')\n",
    "validation_generator = validation_datagen.flow_from_directory(os.path.join(datapath, \"valid\"), \n",
    "                                                     target_size = image_dims,\n",
    "                                                      batch_size = batch_size,\n",
    "                                                     class_mode = 'binary', \n",
    "                                                     color_mode = 'rgb',\n",
    "                                                             shuffle=True)"
   ]
  },
  {
   "cell_type": "code",
   "execution_count": null,
   "metadata": {},
   "outputs": [],
   "source": [
    "import matplotlib.pyplot as plt\n",
    "import numpy as np"
   ]
  },
  {
   "cell_type": "code",
   "execution_count": null,
   "metadata": {},
   "outputs": [],
   "source": [
    "n = 10\n",
    "plt.figure(figsize=(20, 4))\n",
    "xtrain, ytrain = next(train_generator)\n",
    "for i in range(1, n):\n",
    "    ax = plt.subplot(1, n, i)\n",
    "    plt.imshow(xtrain[i])\n",
    "    ax.title.set_text(ytrain[i])\n",
    "    plt.gray()\n",
    "    ax.get_xaxis().set_visible(False)\n",
    "    ax.get_yaxis().set_visible(False)\n",
    "plt.show()"
   ]
  },
  {
   "cell_type": "code",
   "execution_count": null,
   "metadata": {},
   "outputs": [],
   "source": [
    "tf.get_logger().setLevel('ERROR')"
   ]
  },
  {
   "cell_type": "code",
   "execution_count": null,
   "metadata": {},
   "outputs": [],
   "source": [
    "history = model.fit(train_generator,\n",
    "                    epochs=5,\n",
    "                    validation_data=validation_generator,\n",
    "                   callbacks = [model_checkpoint_callback])"
   ]
  }
 ],
 "metadata": {
  "kernelspec": {
   "display_name": "Python 3",
   "language": "python",
   "name": "python3"
  },
  "language_info": {
   "codemirror_mode": {
    "name": "ipython",
    "version": 3
   },
   "file_extension": ".py",
   "mimetype": "text/x-python",
   "name": "python",
   "nbconvert_exporter": "python",
   "pygments_lexer": "ipython3",
   "version": "3.8.10"
  }
 },
 "nbformat": 4,
 "nbformat_minor": 2
}
