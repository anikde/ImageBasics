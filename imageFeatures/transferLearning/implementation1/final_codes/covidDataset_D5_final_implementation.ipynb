{
  "cells": [
    {
      "cell_type": "markdown",
      "metadata": {
        "id": "7RRYzmyNghSv"
      },
      "source": [
        "Dataset is available [here](https://drive.google.com/drive/folders/15PAAYJqQaVGDTLvTY1mrFjwELkTOhaIQ?usp=sharing) \n",
        "and the trained models are uploaded in this [location](https://drive.google.com/drive/folders/1KQR-F4wjlyejKBp_QWSUINeNkoYOTChP?usp=sharing)"
      ]
    },
    {
      "cell_type": "code",
      "execution_count": null,
      "metadata": {
        "colab": {
          "base_uri": "https://localhost:8080/"
        },
        "id": "IUAX_okro8lh",
        "outputId": "2c5d9360-01b4-4f16-8b3f-61e402387075"
      },
      "outputs": [
        {
          "name": "stdout",
          "output_type": "stream",
          "text": [
            "Mounted at /content/drive/\n"
          ]
        }
      ],
      "source": [
        "from google.colab import drive\n",
        "drive.mount('/content/drive/')"
      ]
    },
    {
      "cell_type": "code",
      "execution_count": null,
      "metadata": {
        "colab": {
          "base_uri": "https://localhost:8080/"
        },
        "id": "JGN_pcWrajEJ",
        "outputId": "94ac3cc5-414f-4f4b-afe4-832f96a34dbc"
      },
      "outputs": [
        {
          "name": "stdout",
          "output_type": "stream",
          "text": [
            "True\n"
          ]
        }
      ],
      "source": [
        "import os\n",
        "# print(os.path.exists('/content/drive/MyDrive/Colab-Notebooks/covidDataset'))\n",
        "# datapath = \"../../../../datasets/covidDataset\"\n",
        "path = '/content/drive/MyDrive/covidDataset'\n",
        "datapath = '/content/drive/MyDrive/covidDataset/dataset'\n",
        "print(os.path.exists(datapath))"
      ]
    },
    {
      "cell_type": "code",
      "execution_count": null,
      "metadata": {
        "id": "hNyfNnD7SDTr"
      },
      "outputs": [],
      "source": [
        "import tensorflow as tf"
      ]
    },
    {
      "cell_type": "code",
      "execution_count": null,
      "metadata": {
        "colab": {
          "base_uri": "https://localhost:8080/"
        },
        "id": "EmhtFexVSDTu",
        "outputId": "b0147dde-28fa-454f-ed1e-6e2355727364"
      },
      "outputs": [
        {
          "name": "stdout",
          "output_type": "stream",
          "text": [
            "1 Physical GPUs, 1 Logical GPUs\n"
          ]
        }
      ],
      "source": [
        "#if set_memory_growth is enabled, the runtime initialization will not allocate all memory on the device. \n",
        "#Memory growth cannot be configured on a PhysicalDevice with virtual devices configured.\n",
        "gpus = tf.config.list_physical_devices('GPU')\n",
        "if gpus:\n",
        "    try:\n",
        "    # Currently, memory growth needs to be the same across GPUs\n",
        "        for gpu in gpus:\n",
        "            tf.config.experimental.set_memory_growth(gpu, True)\n",
        "        logical_gpus = tf.config.list_logical_devices('GPU')\n",
        "        print(len(gpus), \"Physical GPUs,\", len(logical_gpus), \"Logical GPUs\")\n",
        "    except RuntimeError as e:\n",
        "        # Memory growth must be set before GPUs have been initialized\n",
        "        print(e)"
      ]
    },
    {
      "cell_type": "code",
      "execution_count": null,
      "metadata": {
        "id": "tjRxFIPhpYl9"
      },
      "outputs": [],
      "source": [
        "import pathlib\n",
        "\n",
        "def get_imagepath_and_labels(datapath):\n",
        "    data_root = pathlib.Path(datapath)\n",
        "    all_image_path = [str(path) for path in list(data_root.glob('*/*'))]\n",
        "\n",
        "    label_names = sorted(item.name for item in data_root.glob('*/*'))\n",
        "\n",
        "    all_image_label = [pathlib.Path(single_image_path).parent.name for single_image_path in all_image_path]\n",
        "\n",
        "    return all_image_path, all_image_label\n",
        "\n",
        "all_image_path, all_image_label = get_imagepath_and_labels(datapath)"
      ]
    },
    {
      "cell_type": "code",
      "execution_count": null,
      "metadata": {
        "colab": {
          "base_uri": "https://localhost:8080/"
        },
        "id": "gm0jmevWpeJM",
        "outputId": "c3aa0eab-cf5b-427e-88e3-7a8b9340a5cf"
      },
      "outputs": [
        {
          "name": "stdout",
          "output_type": "stream",
          "text": [
            "(2481,)\n",
            "(2481,)\n"
          ]
        }
      ],
      "source": [
        "import numpy as np\n",
        "\n",
        "def get_images_and_labels_astensor(image_path, image_labels, channels):\n",
        "    '''\n",
        "    target_size is to resize the image.\n",
        "    '''\n",
        "    images = []\n",
        "    labels = []\n",
        "    for i in range(0, len(image_path)):\n",
        "        image = image_astensor(image_path[i], channels=channels)\n",
        "        images.append(image)\n",
        "        labels.append(image_labels[i])\n",
        "    \n",
        "    images = np.array(images, dtype=object)\n",
        "    labels = np.array(labels, dtype=object)\n",
        "    return images, labels\n",
        "\n",
        "def image_astensor(image_path, channels):\n",
        "        image = tf.io.read_file(image_path)\n",
        "        image = tf.image.decode_png(image, channels=channels)\n",
        "        # image = tf.image.resize(image, target_size)\n",
        "        # image = tf.cast(image, tf.float32 )\n",
        "        # image = image / 255\n",
        "        return image\n",
        "\n",
        "images, labels = get_images_and_labels_astensor(all_image_path, all_image_label, channels=3)\n",
        "\n",
        "print(images.shape)\n",
        "print(labels.shape)"
      ]
    },
    {
      "cell_type": "code",
      "execution_count": null,
      "metadata": {
        "colab": {
          "base_uri": "https://localhost:8080/"
        },
        "id": "XLadmHPie5g_",
        "outputId": "db4d1fa6-ed0e-4f4d-d88b-3147de9542ac"
      },
      "outputs": [
        {
          "name": "stdout",
          "output_type": "stream",
          "text": [
            "<class 'numpy.ndarray'>\n",
            "<class 'numpy.ndarray'>\n"
          ]
        }
      ],
      "source": [
        "print(type(images))\n",
        "print(type(labels))"
      ]
    },
    {
      "cell_type": "code",
      "execution_count": null,
      "metadata": {
        "colab": {
          "base_uri": "https://localhost:8080/"
        },
        "id": "I75BwcWp6qR5",
        "outputId": "5ad1d84a-9c57-4267-de55-35df6c037cdb"
      },
      "outputs": [
        {
          "name": "stdout",
          "output_type": "stream",
          "text": [
            "(2481,)\n",
            "(2481,)\n"
          ]
        }
      ],
      "source": [
        "print(images.shape)\n",
        "print(labels.shape)"
      ]
    },
    {
      "cell_type": "code",
      "execution_count": null,
      "metadata": {
        "colab": {
          "base_uri": "https://localhost:8080/"
        },
        "id": "FaSCJ8SZpmX0",
        "outputId": "77b3f56e-abeb-4031-a786-1dadab2b2293"
      },
      "outputs": [
        {
          "name": "stdout",
          "output_type": "stream",
          "text": [
            "(array(['COVID', 'non-COVID'], dtype=object), array([1252, 1229]))\n"
          ]
        }
      ],
      "source": [
        "print(np.unique(labels, return_counts=True))"
      ]
    },
    {
      "cell_type": "code",
      "execution_count": null,
      "metadata": {
        "colab": {
          "base_uri": "https://localhost:8080/"
        },
        "id": "21k0avpPprYJ",
        "outputId": "1bcb16a5-fe6e-44e6-aa06-d3b701cf1572"
      },
      "outputs": [
        {
          "name": "stdout",
          "output_type": "stream",
          "text": [
            "(2081,)\n",
            "(2081,)\n",
            "(400,)\n",
            "(400,)\n"
          ]
        }
      ],
      "source": [
        "from sklearn.model_selection import train_test_split\n",
        " \n",
        "X_train_original, X_test_original, y_train, y_test = train_test_split(\n",
        "    images, \n",
        "    labels, \n",
        "    test_size=400, \n",
        "    shuffle=True,\n",
        "    random_state=42,\n",
        "    stratify=labels\n",
        ")\n",
        "\n",
        "print(X_train_original.shape)\n",
        "print(y_train.shape)\n",
        "print(X_test_original.shape)\n",
        "print(y_test.shape)"
      ]
    },
    {
      "cell_type": "code",
      "execution_count": null,
      "metadata": {
        "colab": {
          "base_uri": "https://localhost:8080/"
        },
        "id": "Ldh4bJKZttrK",
        "outputId": "50e83186-5298-48b5-82e4-105c1b0e8b4a"
      },
      "outputs": [
        {
          "name": "stdout",
          "output_type": "stream",
          "text": [
            "(1800,)\n",
            "(1800,)\n",
            "(400,)\n",
            "(400,)\n",
            "(281,)\n",
            "(281,)\n"
          ]
        }
      ],
      "source": [
        "X_train_original, X_valid_original, y_train, y_valid = train_test_split(\n",
        "    X_train_original, \n",
        "    y_train, \n",
        "    test_size=281, \n",
        "    shuffle=True,\n",
        "    random_state=42,\n",
        "    stratify=y_train\n",
        ")\n",
        "\n",
        "\n",
        "print(X_train_original.shape)\n",
        "print(y_train.shape)\n",
        "print(X_test_original.shape)\n",
        "print(y_test.shape)\n",
        "print(X_valid_original.shape)\n",
        "print(y_valid.shape)"
      ]
    },
    {
      "cell_type": "code",
      "execution_count": null,
      "metadata": {
        "colab": {
          "base_uri": "https://localhost:8080/"
        },
        "id": "HaVdpZbWKejN",
        "outputId": "6cda9bc7-3ebd-46fc-ab63-012ef6e5e686"
      },
      "outputs": [
        {
          "name": "stdout",
          "output_type": "stream",
          "text": [
            "(array(['COVID', 'non-COVID'], dtype=object), array([908, 892]))\n",
            "(array(['COVID', 'non-COVID'], dtype=object), array([142, 139]))\n",
            "(array(['COVID', 'non-COVID'], dtype=object), array([202, 198]))\n"
          ]
        }
      ],
      "source": [
        "print(np.unique(y_train, return_counts=True))\n",
        "print(np.unique(y_valid, return_counts=True))\n",
        "print(np.unique(y_test, return_counts=True)) "
      ]
    },
    {
      "cell_type": "code",
      "execution_count": null,
      "metadata": {
        "colab": {
          "base_uri": "https://localhost:8080/"
        },
        "id": "W1c1VDQZ9nVj",
        "outputId": "63ba4076-de74-495c-d083-6b53e98586af"
      },
      "outputs": [
        {
          "name": "stdout",
          "output_type": "stream",
          "text": [
            "(600,)\n",
            "(600,)\n",
            "(600,)\n"
          ]
        }
      ],
      "source": [
        "X_train1 = X_train_original[:600]\n",
        "X_train2 = X_train_original[600:1200]\n",
        "X_train3 = X_train_original[1200:1800]\n",
        "print(X_train1.shape)\n",
        "print(X_train2.shape)\n",
        "print(X_train3.shape)"
      ]
    },
    {
      "cell_type": "code",
      "execution_count": null,
      "metadata": {
        "id": "A-Bl_HcWUSjG"
      },
      "outputs": [],
      "source": [
        "import torchvision.transforms as transforms\n",
        "# transforms using pytorch api\n",
        "train_transformer1 = transforms.Compose([\n",
        "                        transforms.Resize(256),\n",
        "                        transforms.RandomResizedCrop((224),scale=(0.5,1.0)),\n",
        "                        transforms.RandomHorizontalFlip(),\n",
        "                        transforms.ToTensor()\n",
        "])\n",
        "\n",
        "train_transformer2 = transforms.Compose([\n",
        "    transforms.Resize((224,224)),\n",
        "    transforms.RandomHorizontalFlip(),\n",
        "    transforms.ToTensor()\n",
        "])\n",
        "\n",
        "train_transformer3 = transforms.Compose([\n",
        "    transforms.Resize(256),\n",
        "    transforms.RandomResizedCrop((224),scale=(0.5,1.0)),\n",
        "    transforms.RandomRotation(5),\n",
        "    transforms.ToTensor()\n",
        "])\n",
        "\n",
        "test_transformer = transforms.Compose([\n",
        "                        transforms.Resize(256),\n",
        "                        transforms.CenterCrop(224),\n",
        "                        transforms.ToTensor()\n",
        "])\n",
        "\n",
        "valid_transformer = transforms.Compose([\n",
        "                        transforms.Resize((224, 224)),\n",
        "                        # transforms.CenterCrop(224),\n",
        "                        transforms.ToTensor()\n",
        "])"
      ]
    },
    {
      "cell_type": "code",
      "execution_count": null,
      "metadata": {
        "id": "t9V48dUuoVRT"
      },
      "outputs": [],
      "source": [
        "from PIL import Image"
      ]
    },
    {
      "cell_type": "code",
      "execution_count": null,
      "metadata": {
        "id": "qou5INp3UgOq"
      },
      "outputs": [],
      "source": [
        "def transforms_on_image(tf_image, transformation):\n",
        "    np_image = np.asarray(tf_image)\n",
        "    pil_image = Image.fromarray(np_image, mode='RGB')\n",
        "    # print(type(pil_image))\n",
        "    # print(pil_image.size)\n",
        "    assert len(pil_image.getbands()) == 3, \"something wrong with the input image, may be not 3 dimensional\" \n",
        "\n",
        "\n",
        "    torch_image = transformation(pil_image)\n",
        "    torch_image = torch_image.permute(1, 2, 0)\n",
        "\n",
        "    augmented_image = np.asarray(torch_image)\n",
        "    augmented_image = tf.convert_to_tensor(augmented_image, dtype=tf.float32)\n",
        "    return augmented_image\n",
        "def transform_set(images, transformation):\n",
        "    aug_images = []\n",
        "    for i in range(0, len(images)):\n",
        "        aug_images.append(transforms_on_image(images[i], transformation))\n",
        "    \n",
        "    aug_images = np.array(aug_images)\n",
        "    return aug_images"
      ]
    },
    {
      "cell_type": "code",
      "execution_count": null,
      "metadata": {
        "colab": {
          "base_uri": "https://localhost:8080/"
        },
        "id": "SdN5pXUrooCh",
        "outputId": "b6290552-10bb-4523-ef9c-4034a2200659"
      },
      "outputs": [
        {
          "name": "stdout",
          "output_type": "stream",
          "text": [
            "(600, 224, 224, 3)\n",
            "(600, 224, 224, 3)\n",
            "(600, 224, 224, 3)\n"
          ]
        }
      ],
      "source": [
        "X_train1 = transform_set(X_train1, train_transformer1)\n",
        "print(X_train1.shape)\n",
        "X_train2 = transform_set(X_train2, train_transformer2)\n",
        "print(X_train2.shape)\n",
        "X_train3 = transform_set(X_train3, train_transformer3)\n",
        "print(X_train3.shape)"
      ]
    },
    {
      "cell_type": "code",
      "execution_count": null,
      "metadata": {
        "colab": {
          "base_uri": "https://localhost:8080/"
        },
        "id": "etV3oIfc-eqU",
        "outputId": "80473215-7919-4055-99a9-e4b9e5ac19ae"
      },
      "outputs": [
        {
          "name": "stdout",
          "output_type": "stream",
          "text": [
            "(400, 224, 224, 3)\n",
            "(281, 224, 224, 3)\n",
            "(400, 224, 224, 3)\n",
            "(281, 224, 224, 3)\n"
          ]
        }
      ],
      "source": [
        "X_test = transform_set(X_test_original, test_transformer)\n",
        "print(X_test.shape)\n",
        "\n",
        "X_valid = transform_set(X_valid_original, test_transformer)\n",
        "print(X_valid.shape)\n",
        "\n",
        "X_test_original = transform_set(X_test_original, valid_transformer)\n",
        "print(X_test_original.shape)\n",
        "\n",
        "X_valid_original = transform_set(X_valid_original, valid_transformer)\n",
        "print(X_valid_original.shape)"
      ]
    },
    {
      "cell_type": "code",
      "execution_count": null,
      "metadata": {
        "id": "0wyj4VWmSDT9"
      },
      "outputs": [],
      "source": [
        "# to suppress warnings\n",
        "import warnings\n",
        "warnings.filterwarnings('ignore')"
      ]
    },
    {
      "cell_type": "code",
      "execution_count": null,
      "metadata": {
        "id": "H4GQ12hthfRJ"
      },
      "outputs": [],
      "source": [
        "from sklearn.preprocessing import LabelEncoder\n",
        "# prepare target\n",
        "\n",
        "def prepare_targets(y_train, y_test, y_valid):\n",
        "    le = LabelEncoder()\n",
        "    le.fit(y_train)\n",
        "    y_train_enc = le.transform(y_train)\n",
        "    y_test_enc = le.transform(y_test)\n",
        "    y_valid_enc = le.transform(y_valid)\n",
        "    return y_train_enc, y_test_enc, y_valid_enc\n",
        "\n",
        "y_train_enc, y_test_enc, y_valid_enc = prepare_targets(y_train, y_test, y_valid)"
      ]
    },
    {
      "cell_type": "code",
      "execution_count": null,
      "metadata": {
        "id": "7YqHSTg0ymi9"
      },
      "outputs": [],
      "source": [
        "from tensorflow.keras.utils import to_categorical\n",
        "y_train_cat = to_categorical(y_train_enc, 2)\n",
        "y_test_cat = to_categorical(y_test_enc, 2)\n",
        "y_valid_cat = to_categorical(y_valid_enc, 2)"
      ]
    },
    {
      "cell_type": "code",
      "execution_count": null,
      "metadata": {
        "colab": {
          "base_uri": "https://localhost:8080/",
          "height": 163
        },
        "id": "S-s6QHOpSDT-",
        "outputId": "3ce1d8af-4a28-4d8d-e562-70c94f515163"
      },
      "outputs": [
        {
          "data": {
            "image/png": "[encoded data removed]",
            "text/plain": [
              "<Figure size 1440x288 with 9 Axes>"
            ]
          },
          "metadata": {},
          "output_type": "display_data"
        }
      ],
      "source": [
        "import matplotlib.pyplot as plt\n",
        "n = 10\n",
        "plt.figure(figsize=(20, 4))\n",
        "\n",
        "for i in range(1, n):\n",
        "    ax = plt.subplot(1, n, i)\n",
        "    plt.imshow(X_train3[i])\n",
        "    ax.text(0.7, -0.4, \"label-{0}\\nencoded-{1}\\ncategoric-{2}\".format(y_train[i], y_train_enc[i], y_train_cat[i]),\n",
        "        verticalalignment='bottom', horizontalalignment='right',\n",
        "        transform=ax.transAxes, fontsize=10)\n",
        "    plt.gray()\n",
        "    ax.get_xaxis().set_visible(False)\n",
        "    ax.get_yaxis().set_visible(False)\n",
        "plt.show()"
      ]
    },
    {
      "cell_type": "code",
      "execution_count": null,
      "metadata": {
        "id": "xVeRFRGyKXuv"
      },
      "outputs": [],
      "source": [
        "# converting the data to tf.tensor\n",
        "X_train1 = tf.convert_to_tensor(X_train1)\n",
        "X_train2 = tf.convert_to_tensor(X_train2)\n",
        "X_train3 = tf.convert_to_tensor(X_train3)\n",
        "X_test = tf.convert_to_tensor(X_test)\n",
        "X_valid = tf.convert_to_tensor(X_valid)\n",
        "y_train_enc = tf.convert_to_tensor(y_train_enc)\n",
        "\n",
        "y_test_enc = tf.convert_to_tensor(y_test_enc)\n",
        "y_valid_enc = tf.convert_to_tensor(y_valid_enc)\n",
        "y_train_cat = tf.convert_to_tensor(y_train_cat)\n",
        "\n",
        "\n",
        "y_test_cat = tf.convert_to_tensor(y_test_cat)\n",
        "y_valid_cat = tf.convert_to_tensor(y_valid_cat)"
      ]
    },
    {
      "cell_type": "code",
      "execution_count": null,
      "metadata": {
        "colab": {
          "base_uri": "https://localhost:8080/"
        },
        "id": "ZvZG1fLV_eDd",
        "outputId": "fa8e855a-1e6e-4e63-af47-8c0ad0d20173"
      },
      "outputs": [
        {
          "name": "stdout",
          "output_type": "stream",
          "text": [
            "(1800, 224, 224, 3)\n",
            "(1800, 2)\n"
          ]
        }
      ],
      "source": [
        "X_train = tf.concat([X_train1, X_train2, X_train3], 0)\n",
        "print(X_train.shape)\n",
        "print(y_train_cat.shape)"
      ]
    },
    {
      "cell_type": "markdown",
      "metadata": {
        "id": "KdNxc9ukJ8SB"
      },
      "source": [
        "Plotting implementation"
      ]
    },
    {
      "cell_type": "code",
      "execution_count": null,
      "metadata": {
        "id": "xNvIit4GJ5dO"
      },
      "outputs": [],
      "source": [
        "import matplotlib.pyplot as plt\n",
        "def plot_accuracy_and_loss(history):\n",
        "    acc = history.history['binary_accuracy']\n",
        "    val_acc = history.history['val_binary_accuracy']\n",
        "    loss = history.history['loss']\n",
        "    val_loss = history.history['val_loss']\n",
        "\n",
        "    epochs = range(1, len(acc) + 1)\n",
        "\n",
        "    plt.plot(epochs, acc, '--r', label='Training acc')\n",
        "    plt.plot(epochs, val_acc, 'b', label='Validation acc')\n",
        "    plt.title('Training and validation accuracy')\n",
        "    plt.legend()\n",
        "    plt.show()\n",
        "\n",
        "    plt.plot(epochs, loss, '--r', label='Training loss')\n",
        "    plt.plot(epochs, val_loss, 'b', label='Validation loss')\n",
        "    plt.title('Training and validation loss')\n",
        "    plt.legend()\n",
        "    plt.show()"
      ]
    },
    {
      "cell_type": "markdown",
      "metadata": {
        "id": "FJ73Yv4TvWik"
      },
      "source": [
        "Model Implementation"
      ]
    },
    {
      "cell_type": "markdown",
      "metadata": {
        "id": "5F5CdLWvvfG6"
      },
      "source": [
        "Loading vgg19 and adding layers"
      ]
    },
    {
      "cell_type": "code",
      "execution_count": null,
      "metadata": {
        "id": "YY_FvrY7vek1",
        "scrolled": true
      },
      "outputs": [],
      "source": [
        "vgg_model = tf.keras.applications.VGG19(weights='imagenet',\n",
        "                                      include_top=False,\n",
        "                                        input_shape=(224, 224, 3))\n",
        "# vgg_model.summary()\n",
        "vgg_model.trainable=False \n",
        "\n",
        "x = vgg_model.layers[-1].output\n",
        "x = tf.keras.layers.Flatten()(x)\n",
        "x = tf.keras.layers.Dropout(0.5)(x)\n",
        "x = tf.keras.layers.Dense(1000, activation='relu')(x)\n",
        "x = tf.keras.layers.Dropout(0.5)(x)\n",
        "x = tf.keras.layers.Dense(500, activation='relu')(x)\n",
        "x = tf.keras.layers.Dropout(0.5)(x)\n",
        "x = tf.keras.layers.Dense(200, activation='relu')(x)\n",
        "x = tf.keras.layers.Dropout(0.5)(x)\n",
        "vgg_output = tf.keras.layers.Dense(2, activation='softmax')(x)\n",
        "\n",
        "vgg = tf.keras.models.Model(vgg_model.input, vgg_output)\n",
        "vgg._name='vgg19'\n",
        "vgg.summary()"
      ]
    },
    {
      "cell_type": "code",
      "execution_count": null,
      "metadata": {
        "id": "aciPIv-ZSDUG"
      },
      "outputs": [],
      "source": [
        "model_checkpoint_path = path + '/models/test3/vgg-output1'\n",
        "## callback\n",
        "model_checkpoint_callback = tf.keras.callbacks.ModelCheckpoint(\n",
        "                                                    filepath=model_checkpoint_path,\n",
        "                                                    save_weights_only=False,\n",
        "                                                    monitor='val_loss',\n",
        "                                                    mode='min',\n",
        "                                                    save_best_only=True)\n",
        "# model_earlystopping_callback = tf.keras.callbacks.EarlyStopping(\n",
        "#                                                     monitor='val_loss',\n",
        "#                                                     patience = 5,\n",
        "#                                                     mode='min')"
      ]
    },
    {
      "cell_type": "code",
      "execution_count": null,
      "metadata": {
        "id": "Vc5BVvDHvz8o"
      },
      "outputs": [],
      "source": [
        "vgg.compile(\n",
        "    optimizer=tf.keras.optimizers.Adam(1e-3),\n",
        "    loss=tf.keras.losses.BinaryCrossentropy(from_logits=False),\n",
        "    metrics=[tf.keras.metrics.BinaryAccuracy()]\n",
        ")\n",
        "\n",
        "vgg_history = vgg.fit(X_train, y_train_cat,\n",
        "                    epochs=100,\n",
        "                    batch_size = 16,\n",
        "                    validation_data=(X_valid, y_valid_cat))\n",
        "\n",
        "vgg.save(model_checkpoint_path)"
      ]
    },
    {
      "cell_type": "code",
      "execution_count": null,
      "metadata": {
        "id": "WJb1LH7cLD8S"
      },
      "outputs": [],
      "source": [
        "plot_accuracy_and_loss(vgg_history)"
      ]
    },
    {
      "cell_type": "code",
      "execution_count": null,
      "metadata": {
        "id": "PcmfPctWTSrf"
      },
      "outputs": [],
      "source": [
        "test_loss, test_acc = vgg.evaluate(X_test_original,  y_test_cat)\n",
        "print('Accuracy:', test_acc)\n",
        "print('Loss: ', test_loss)"
      ]
    },
    {
      "cell_type": "markdown",
      "metadata": {
        "id": "u-xtk2ZKLHjc"
      },
      "source": [
        "Part 2 - DenseNet 169 "
      ]
    },
    {
      "cell_type": "code",
      "execution_count": null,
      "metadata": {
        "collapsed": true,
        "id": "JaogNOnKLHDw"
      },
      "outputs": [],
      "source": [
        "dense169_model = tf.keras.applications.DenseNet169(weights='imagenet',\n",
        "                                      include_top=False,\n",
        "                                        input_shape=(224, 224, 3)\n",
        "                                      )\n",
        "# dense169_model.summary()\n",
        "dense169_model.trainable=False \n",
        "\n",
        "y = dense169_model.layers[-1].output\n",
        "y = tf.keras.layers.Flatten()(y)\n",
        "y = tf.keras.layers.Dropout(0.5)(y)\n",
        "y = tf.keras.layers.Dense(1000, activation='relu')(y)\n",
        "y = tf.keras.layers.Dropout(0.5)(y)\n",
        "densenet_1_output = tf.keras.layers.Dense(2, activation='softmax')(y)\n",
        "\n",
        "densenet_1 = tf.keras.models.Model(dense169_model.input, densenet_1_output)\n",
        "densenet_1._name='densenet_1'\n",
        "densenet_1.summary()"
      ]
    },
    {
      "cell_type": "code",
      "execution_count": null,
      "metadata": {
        "id": "Vj3gMsR9LWHQ"
      },
      "outputs": [],
      "source": [
        "model_checkpoint_path = path + '/models/test3/densenet-output2'\n",
        "## callback\n",
        "model_checkpoint_callback = tf.keras.callbacks.ModelCheckpoint(\n",
        "                                                    filepath=model_checkpoint_path,\n",
        "                                                    save_weights_only=False,\n",
        "                                                    monitor='val_loss',\n",
        "                                                    mode='min',\n",
        "                                                    save_best_only=True)"
      ]
    },
    {
      "cell_type": "code",
      "execution_count": null,
      "metadata": {
        "id": "VI1m6iRYLbWK"
      },
      "outputs": [],
      "source": [
        "densenet_1.compile(\n",
        "    optimizer=tf.keras.optimizers.Adam(1e-3),\n",
        "    loss=tf.keras.losses.BinaryCrossentropy(from_logits=False),\n",
        "    metrics=[tf.keras.metrics.BinaryAccuracy()]\n",
        ")\n",
        "\n",
        "densenet_1_history = densenet_1.fit(X_train, y_train_cat,\n",
        "                    epochs=100,\n",
        "                    batch_size=16,\n",
        "                    validation_data=(X_valid, y_valid_cat))\n",
        "densenet_1.save(model_checkpoint_path)"
      ]
    },
    {
      "cell_type": "code",
      "execution_count": null,
      "metadata": {
        "id": "2U6vygJ0Lf8V"
      },
      "outputs": [],
      "source": [
        "plot_accuracy_and_loss(densenet_1_history)"
      ]
    },
    {
      "cell_type": "code",
      "execution_count": null,
      "metadata": {
        "id": "x6-P_99sFaWB"
      },
      "outputs": [],
      "source": [
        "test_loss, test_acc = densenet_1.evaluate(X_test_original,  y_test_cat)\n",
        "print('Accuracy:', test_acc)\n",
        "print('Loss: ', test_loss)"
      ]
    },
    {
      "cell_type": "markdown",
      "metadata": {
        "id": "rkg309G-MP4i"
      },
      "source": [
        "Part 3 - Densenet 169"
      ]
    },
    {
      "cell_type": "code",
      "execution_count": null,
      "metadata": {
        "collapsed": true,
        "id": "sHMOzu63MPI5"
      },
      "outputs": [],
      "source": [
        "dense169_model2 = tf.keras.applications.DenseNet169(weights='imagenet',\n",
        "                                      include_top=False,\n",
        "                                        input_shape=(224, 224, 3)\n",
        "                                      )\n",
        "# dense169_model.summary()\n",
        "dense169_model2.trainable=False \n",
        "# since the model is already loaded we load in again\n",
        "z = dense169_model2.layers[-1].output\n",
        "z = tf.keras.layers.Flatten()(z)\n",
        "z = tf.keras.layers.Dropout(0.5)(z)\n",
        "z = tf.keras.layers.Dense(1000, activation='relu')(z)\n",
        "z = tf.keras.layers.Dropout(0.5)(z)\n",
        "z = tf.keras.layers.Dense(500, activation='relu')(z)\n",
        "z = tf.keras.layers.Dropout(0.5)(z)\n",
        "z = tf.keras.layers.Dense(200, activation='relu')(z)\n",
        "z = tf.keras.layers.Dropout(0.5)(z)\n",
        "densenet_2_output = tf.keras.layers.Dense(2, activation='softmax')(z)\n",
        "\n",
        "densenet_2 = tf.keras.models.Model(dense169_model2.input, densenet_2_output)\n",
        "densenet_2._name='densenet_2'\n",
        "densenet_2.summary()"
      ]
    },
    {
      "cell_type": "code",
      "execution_count": null,
      "metadata": {
        "id": "_gcQbFg0MbSY"
      },
      "outputs": [],
      "source": [
        "model_checkpoint_path = path + '/models/test3/densenet-output3'\n",
        "## callback\n",
        "model_checkpoint_callback = tf.keras.callbacks.ModelCheckpoint(\n",
        "                                                    filepath=model_checkpoint_path,\n",
        "                                                    save_weights_only=False,\n",
        "                                                    monitor='val_loss',\n",
        "                                                    mode='min',\n",
        "                                                    save_best_only=True)"
      ]
    },
    {
      "cell_type": "code",
      "execution_count": null,
      "metadata": {
        "id": "_oWM2Sq9Mg2m"
      },
      "outputs": [],
      "source": [
        "densenet_2.compile(\n",
        "    optimizer=tf.keras.optimizers.Adam(1e-3),\n",
        "    loss=tf.keras.losses.BinaryCrossentropy(from_logits=False),\n",
        "    metrics=[tf.keras.metrics.BinaryAccuracy()]\n",
        ")\n",
        "\n",
        "densenet_2_history = densenet_2.fit(X_train, y_train_cat,\n",
        "                    epochs=100,\n",
        "                    batch_size = 16,\n",
        "                    validation_data=(X_valid, y_valid_cat))\n",
        "\n",
        "densenet_2.save(model_checkpoint_path)\n"
      ]
    },
    {
      "cell_type": "code",
      "execution_count": null,
      "metadata": {
        "id": "YUykdy1EMnLP"
      },
      "outputs": [],
      "source": [
        "plot_accuracy_and_loss(densenet_2_history)"
      ]
    },
    {
      "cell_type": "code",
      "execution_count": null,
      "metadata": {
        "id": "jwCduc2LFkyx"
      },
      "outputs": [],
      "source": [
        "test_loss, test_acc = densenet_2.evaluate(X_test_original, y_test_cat)\n",
        "print('Accuracy:', test_acc)\n",
        "print('Loss: ', test_loss)"
      ]
    },
    {
      "cell_type": "markdown",
      "metadata": {
        "id": "FbZREK8EMwN5"
      },
      "source": [
        "Ensembling all the models"
      ]
    },
    {
      "cell_type": "code",
      "execution_count": null,
      "metadata": {
        "id": "sA919Ho4mQDr"
      },
      "outputs": [],
      "source": [
        "print(X_train.shape)\n",
        "print(y_train_enc.shape)"
      ]
    },
    {
      "cell_type": "code",
      "execution_count": null,
      "metadata": {
        "id": "tVlKol8pSDUR"
      },
      "outputs": [],
      "source": [
        "vgg = tf.keras.models.load_model(path+'/models/test2/vgg-output1')\n",
        "densenet_1 = tf.keras.models.load_model(path+'/models/test2/densenet-output2')\n",
        "densenet_2 = tf.keras.models.load_model(path+'/models/test2/densenet-output3')"
      ]
    },
    {
      "cell_type": "code",
      "execution_count": null,
      "metadata": {
        "id": "aI5L8L2Du14o"
      },
      "outputs": [],
      "source": [
        "# print(X_train.shape)\n",
        "# train = tf.concat([X_train, X_train2, X_train3], 0)\n",
        "# labels = tf.concat([y_train_enc, y_train2_enc, y_train3_enc], 0)\n",
        "# print(train.shape)\n",
        "# print(labels.shape)"
      ]
    },
    {
      "cell_type": "code",
      "execution_count": null,
      "metadata": {
        "id": "pr-60hhQZLuo"
      },
      "outputs": [],
      "source": [
        "vgg.trainable = False\n",
        "densenet_1.trainable = False\n",
        "densenet_2.trainable = False\n",
        "models = [vgg, densenet_1, densenet_2]\n",
        "# to avoid conflicts with naming\n",
        "for layer in models[0].layers:\n",
        "    layer._name = layer.name + str('_0')\n",
        "for layer in models[1].layers:\n",
        "    layer._name = layer.name + str('_1')\n",
        "for layer in models[2].layers:\n",
        "    layer._name = layer.name + str('_2')"
      ]
    },
    {
      "cell_type": "code",
      "execution_count": null,
      "metadata": {
        "id": "Djl39Qd_GPl9"
      },
      "outputs": [],
      "source": [
        "# ensemble = tf.keras.models.load_model(path + \"/models/test2/ensemble\")"
      ]
    },
    {
      "cell_type": "code",
      "execution_count": null,
      "metadata": {
        "id": "gDBNeT47WhN8"
      },
      "outputs": [],
      "source": [
        "average = tf.keras.layers.Average()([vgg.output, densenet_1.output, densenet_2.output])\n",
        "dense = tf.keras.layers.Dense(1, activation='sigmoid')(average)\n",
        "\n",
        "ensemble = tf.keras.Model([vgg.input, densenet_1.input, densenet_2.input], dense)"
      ]
    },
    {
      "cell_type": "code",
      "execution_count": null,
      "metadata": {
        "id": "A0NzSs-qSDUU"
      },
      "outputs": [],
      "source": [
        "# ensemble.summary()"
      ]
    },
    {
      "cell_type": "code",
      "execution_count": null,
      "metadata": {
        "id": "_Olj67VFZbUx"
      },
      "outputs": [],
      "source": [
        "# from keras.utils.vis_utils import plot_model"
      ]
    },
    {
      "cell_type": "code",
      "execution_count": null,
      "metadata": {
        "id": "mmsiOj1iaRNE"
      },
      "outputs": [],
      "source": [
        "# plot_model(ensembled, to_file = 'new_model.png', dpi=50)"
      ]
    },
    {
      "cell_type": "code",
      "execution_count": null,
      "metadata": {
        "id": "glfj0_n2NCia"
      },
      "outputs": [],
      "source": [
        "ensemble.compile(\n",
        "    optimizer=tf.keras.optimizers.Adam(1e-3),\n",
        "    loss=tf.keras.losses.BinaryCrossentropy(from_logits=False),\n",
        "    metrics=[tf.keras.metrics.BinaryAccuracy()]\n",
        ")"
      ]
    },
    {
      "cell_type": "code",
      "execution_count": null,
      "metadata": {
        "id": "orFXZWpbNOD9"
      },
      "outputs": [],
      "source": [
        "model_checkpoint_path = path + '/models/test2/ensemble'\n",
        "## callback\n",
        "model_checkpoint_callback = tf.keras.callbacks.ModelCheckpoint(\n",
        "                                                    filepath=model_checkpoint_path,\n",
        "                                                    save_weights_only=False,\n",
        "                                                    monitor='loss',\n",
        "                                                    mode='min',\n",
        "                                                    save_best_only=False,\n",
        "                                                    save_freq=565)"
      ]
    },
    {
      "cell_type": "code",
      "execution_count": null,
      "metadata": {
        "id": "ENkVYV3xNR74"
      },
      "outputs": [],
      "source": [
        "ensemble_history = ensemble.fit([X_train, X_train, X_train],y_train_enc,\n",
        "                                epochs=100,\n",
        "                                validation_data=([X_valid, X_valid, X_valid], y_valid_enc),\n",
        "                                batch_size = 16,\n",
        "                                callbacks=[model_checkpoint_callback])\n",
        "\n",
        "# ensemble.save(model_checkpoint_path)"
      ]
    },
    {
      "cell_type": "code",
      "execution_count": null,
      "metadata": {
        "id": "xYPBTCloNai3"
      },
      "outputs": [],
      "source": [
        "plot_accuracy_and_loss(ensemble_history)"
      ]
    },
    {
      "cell_type": "code",
      "execution_count": null,
      "metadata": {
        "id": "pCH62iJ_Nf-H"
      },
      "outputs": [],
      "source": [
        "test_loss, test_acc = ensemble.evaluate([X_test, X_test, X_test],  y_test_enc)\n",
        "print('Accuracy:', test_acc)\n",
        "print('Loss: ', test_loss)"
      ]
    },
    {
      "cell_type": "markdown",
      "metadata": {
        "id": "rZKccPv3IZ-n"
      },
      "source": [
        "Load ensemble model for further evaluation of performance matrix"
      ]
    },
    {
      "cell_type": "code",
      "execution_count": null,
      "metadata": {
        "colab": {
          "background_save": true
        },
        "id": "AJvnMoBbIY-r",
        "outputId": "bde1618d-192b-4b82-da6a-19161ee754c6"
      },
      "outputs": [
        {
          "ename": "NameError",
          "evalue": "ignored",
          "output_type": "error",
          "traceback": [
            "\u001b[0;31m---------------------------------------------------------------------------\u001b[0m",
            "\u001b[0;31mNameError\u001b[0m                                 Traceback (most recent call last)",
            "\u001b[0;32m<ipython-input-2-aadda34ea0d0>\u001b[0m in \u001b[0;36m<module>\u001b[0;34m()\u001b[0m\n\u001b[0;32m----> 1\u001b[0;31m \u001b[0mensemble\u001b[0m \u001b[0;34m=\u001b[0m \u001b[0mtf\u001b[0m\u001b[0;34m.\u001b[0m\u001b[0mkeras\u001b[0m\u001b[0;34m.\u001b[0m\u001b[0mmodels\u001b[0m\u001b[0;34m.\u001b[0m\u001b[0mload_model\u001b[0m\u001b[0;34m(\u001b[0m\u001b[0mpath\u001b[0m \u001b[0;34m+\u001b[0m \u001b[0;34m\"/models/test2/ensemble\"\u001b[0m\u001b[0;34m)\u001b[0m\u001b[0;34m\u001b[0m\u001b[0;34m\u001b[0m\u001b[0m\n\u001b[0m",
            "\u001b[0;31mNameError\u001b[0m: name 'path' is not defined"
          ]
        }
      ],
      "source": [
        "ensemble = tf.keras.models.load_model(path + \"/models/test2/ensemble\")"
      ]
    },
    {
      "cell_type": "code",
      "execution_count": null,
      "metadata": {
        "id": "E2YVMLnKKQFn"
      },
      "outputs": [],
      "source": [
        "# from keras.utils.vis_utils import plot_model\n",
        "# plot_model(ensemble, to_file = path + '/models/test2/ensemble.png', dpi=50)"
      ]
    },
    {
      "cell_type": "code",
      "execution_count": null,
      "metadata": {
        "id": "IYvce64ZJz4b"
      },
      "outputs": [],
      "source": [
        "y_pred = ensemble.predict([X_test, X_test, X_test])"
      ]
    },
    {
      "cell_type": "code",
      "execution_count": null,
      "metadata": {
        "colab": {
          "base_uri": "https://localhost:8080/"
        },
        "id": "Ar89QzCHNoTR",
        "outputId": "542bce1b-08ce-43ab-b1cf-f8b821592a51"
      },
      "outputs": [
        {
          "name": "stdout",
          "output_type": "stream",
          "text": [
            "<class 'numpy.ndarray'>\n",
            "[[0.73241395]\n",
            " [0.9637867 ]\n",
            " [0.9599673 ]\n",
            " [0.01631308]\n",
            " [0.01631308]\n",
            " [0.01631308]\n",
            " [0.01631308]\n",
            " [0.01631308]\n",
            " [0.2702538 ]\n",
            " [0.9723483 ]]\n",
            "tf.Tensor(1, shape=(), dtype=int64)\n",
            "<class 'numpy.ndarray'>\n"
          ]
        }
      ],
      "source": [
        "num = 280\n",
        "print(type(y_pred))\n",
        "print(y_pred[num-10:num])\n",
        "print(y_test_enc[num])\n",
        "y_test_enc = np.array(y_test_enc)\n",
        "print(type(y_test_enc))"
      ]
    },
    {
      "cell_type": "code",
      "execution_count": null,
      "metadata": {
        "id": "FAhpw5YDLCZG"
      },
      "outputs": [],
      "source": [
        "y_pred[y_pred > 0.3] = 1.0\n",
        "y_pred[y_pred <= 0.3] = 0.0"
      ]
    },
    {
      "cell_type": "code",
      "execution_count": null,
      "metadata": {
        "colab": {
          "base_uri": "https://localhost:8080/"
        },
        "id": "kpac6my6MfvI",
        "outputId": "f24fb530-19a3-4665-a994-f3b7cc1754cd"
      },
      "outputs": [
        {
          "name": "stdout",
          "output_type": "stream",
          "text": [
            "(400, 1)\n"
          ]
        }
      ],
      "source": [
        "print(y_pred.shape)"
      ]
    },
    {
      "cell_type": "code",
      "execution_count": null,
      "metadata": {
        "id": "pbARvPBdLtl7"
      },
      "outputs": [],
      "source": [
        "from sklearn.metrics import ConfusionMatrixDisplay\n",
        "from sklearn.metrics import confusion_matrix"
      ]
    },
    {
      "cell_type": "code",
      "execution_count": null,
      "metadata": {
        "colab": {
          "base_uri": "https://localhost:8080/",
          "height": 279
        },
        "id": "S8z0CisdHuXD",
        "outputId": "3c1b5fdd-2234-4da0-ace9-11b2e5ef1d3e"
      },
      "outputs": [
        {
          "data": {
            "image/png": "[encoded data removed]",
            "text/plain": [
              "<Figure size 432x288 with 2 Axes>"
            ]
          },
          "metadata": {},
          "output_type": "display_data"
        }
      ],
      "source": [
        "cm = confusion_matrix(y_test_enc, y_pred)\n",
        "disp = ConfusionMatrixDisplay(confusion_matrix=cm)\n",
        "disp.plot(cmap=plt.cm.Blues)\n",
        "plt.show()"
      ]
    },
    {
      "cell_type": "code",
      "execution_count": null,
      "metadata": {
        "id": "KjuoRiEXH1-U"
      },
      "outputs": [],
      "source": [
        "import pandas as pd\n",
        "from sklearn.metrics import recall_score ,precision_score,accuracy_score, f1_score,roc_auc_score"
      ]
    },
    {
      "cell_type": "code",
      "execution_count": null,
      "metadata": {
        "id": "IPlV3LNAH-5-"
      },
      "outputs": [],
      "source": [
        "def binary_classification_performance(y_test, y_pred):\n",
        "    tp, fp, fn, tn = confusion_matrix(y_test, y_pred).ravel()\n",
        "    accuracy = round(accuracy_score(y_pred = y_pred, y_true = y_test),2)\n",
        "    precision = round(precision_score(y_pred = y_pred, y_true = y_test),2)\n",
        "    recall = round(recall_score(y_pred = y_pred, y_true = y_test),2)\n",
        "    f1_score = round(2*precision*recall/(precision + recall),2)\n",
        "    specificity = round(tn/(tn+fp),2)\n",
        "    npv = round(tn/(tn+fn),2)\n",
        "    auc_roc = round(roc_auc_score(y_score = y_pred, y_true = y_test),2)\n",
        "\n",
        "\n",
        "    result = pd.DataFrame({'Accuracy' : [accuracy],\n",
        "                         'Precision (or PPV)' : [precision],\n",
        "                         'Recall (senitivity or TPR)' : [recall],\n",
        "                         'f1 score' : [f1_score],\n",
        "                         'AUC_ROC' : [auc_roc],\n",
        "                         'Specificty (or TNR)': [specificity],\n",
        "                         'NPV' : [npv],\n",
        "                         'True Positive' : [tp],\n",
        "                         'True Negative' : [tn],\n",
        "                         'False Positive':[fp],\n",
        "                         'False Negative':[fn]})\n",
        "    return result"
      ]
    },
    {
      "cell_type": "code",
      "execution_count": null,
      "metadata": {
        "id": "ajaBPuamIG4j"
      },
      "outputs": [],
      "source": [
        "binary_classification_performance(y_test_enc, y_pred)\n",
        "result3 = binary_classification_performance(y_test_enc, y_pred)"
      ]
    },
    {
      "cell_type": "code",
      "execution_count": null,
      "metadata": {
        "colab": {
          "base_uri": "https://localhost:8080/",
          "height": 150
        },
        "id": "gCuvGq-nR8MZ",
        "outputId": "4d023733-2929-4e34-a14e-bdf878043307"
      },
      "outputs": [
        {
          "name": "stdout",
          "output_type": "stream",
          "text": [
            "threshold - 0.1\n"
          ]
        },
        {
          "data": {
            "text/html": [
              "\n",
              "  <div id=\"df-5270a9b4-64d9-4c39-822c-bb324ee2778c\">\n",
              "    <div class=\"colab-df-container\">\n",
              "      <div>\n",
              "<style scoped>\n",
              "    .dataframe tbody tr th:only-of-type {\n",
              "        vertical-align: middle;\n",
              "    }\n",
              "\n",
              "    .dataframe tbody tr th {\n",
              "        vertical-align: top;\n",
              "    }\n",
              "\n",
              "    .dataframe thead th {\n",
              "        text-align: right;\n",
              "    }\n",
              "</style>\n",
              "<table border=\"1\" class=\"dataframe\">\n",
              "  <thead>\n",
              "    <tr style=\"text-align: right;\">\n",
              "      <th></th>\n",
              "      <th>Accuracy</th>\n",
              "      <th>Precision (or PPV)</th>\n",
              "      <th>Recall (senitivity or TPR)</th>\n",
              "      <th>f1 score</th>\n",
              "      <th>AUC_ROC</th>\n",
              "      <th>Specificty (or TNR)</th>\n",
              "      <th>NPV</th>\n",
              "      <th>True Positive</th>\n",
              "      <th>True Negative</th>\n",
              "      <th>False Positive</th>\n",
              "      <th>False Negative</th>\n",
              "    </tr>\n",
              "  </thead>\n",
              "  <tbody>\n",
              "    <tr>\n",
              "      <th>0</th>\n",
              "      <td>0.9</td>\n",
              "      <td>0.84</td>\n",
              "      <td>0.98</td>\n",
              "      <td>0.9</td>\n",
              "      <td>0.9</td>\n",
              "      <td>0.84</td>\n",
              "      <td>0.98</td>\n",
              "      <td>166</td>\n",
              "      <td>194</td>\n",
              "      <td>36</td>\n",
              "      <td>4</td>\n",
              "    </tr>\n",
              "  </tbody>\n",
              "</table>\n",
              "</div>\n",
              "      <button class=\"colab-df-convert\" onclick=\"convertToInteractive('df-5270a9b4-64d9-4c39-822c-bb324ee2778c')\"\n",
              "              title=\"Convert this dataframe to an interactive table.\"\n",
              "              style=\"display:none;\">\n",
              "        \n",
              "  <svg xmlns=\"http://www.w3.org/2000/svg\" height=\"24px\"viewBox=\"0 0 24 24\"\n",
              "       width=\"24px\">\n",
              "    <path d=\"M0 0h24v24H0V0z\" fill=\"none\"/>\n",
              "    <path d=\"M18.56 5.44l.94 2.06.94-2.06 2.06-.94-2.06-.94-.94-2.06-.94 2.06-2.06.94zm-11 1L8.5 8.5l.94-2.06 2.06-.94-2.06-.94L8.5 2.5l-.94 2.06-2.06.94zm10 10l.94 2.06.94-2.06 2.06-.94-2.06-.94-.94-2.06-.94 2.06-2.06.94z\"/><path d=\"M17.41 7.96l-1.37-1.37c-.4-.4-.92-.59-1.43-.59-.52 0-1.04.2-1.43.59L10.3 9.45l-7.72 7.72c-.78.78-.78 2.05 0 2.83L4 21.41c.39.39.9.59 1.41.59.51 0 1.02-.2 1.41-.59l7.78-7.78 2.81-2.81c.8-.78.8-2.07 0-2.86zM5.41 20L4 18.59l7.72-7.72 1.47 1.35L5.41 20z\"/>\n",
              "  </svg>\n",
              "      </button>\n",
              "      \n",
              "  <style>\n",
              "    .colab-df-container {\n",
              "      display:flex;\n",
              "      flex-wrap:wrap;\n",
              "      gap: 12px;\n",
              "    }\n",
              "\n",
              "    .colab-df-convert {\n",
              "      background-color: #E8F0FE;\n",
              "      border: none;\n",
              "      border-radius: 50%;\n",
              "      cursor: pointer;\n",
              "      display: none;\n",
              "      fill: #1967D2;\n",
              "      height: 32px;\n",
              "      padding: 0 0 0 0;\n",
              "      width: 32px;\n",
              "    }\n",
              "\n",
              "    .colab-df-convert:hover {\n",
              "      background-color: #E2EBFA;\n",
              "      box-shadow: 0px 1px 2px rgba(60, 64, 67, 0.3), 0px 1px 3px 1px rgba(60, 64, 67, 0.15);\n",
              "      fill: #174EA6;\n",
              "    }\n",
              "\n",
              "    [theme=dark] .colab-df-convert {\n",
              "      background-color: #3B4455;\n",
              "      fill: #D2E3FC;\n",
              "    }\n",
              "\n",
              "    [theme=dark] .colab-df-convert:hover {\n",
              "      background-color: #434B5C;\n",
              "      box-shadow: 0px 1px 3px 1px rgba(0, 0, 0, 0.15);\n",
              "      filter: drop-shadow(0px 1px 2px rgba(0, 0, 0, 0.3));\n",
              "      fill: #FFFFFF;\n",
              "    }\n",
              "  </style>\n",
              "\n",
              "      <script>\n",
              "        const buttonEl =\n",
              "          document.querySelector('#df-5270a9b4-64d9-4c39-822c-bb324ee2778c button.colab-df-convert');\n",
              "        buttonEl.style.display =\n",
              "          google.colab.kernel.accessAllowed ? 'block' : 'none';\n",
              "\n",
              "        async function convertToInteractive(key) {\n",
              "          const element = document.querySelector('#df-5270a9b4-64d9-4c39-822c-bb324ee2778c');\n",
              "          const dataTable =\n",
              "            await google.colab.kernel.invokeFunction('convertToInteractive',\n",
              "                                                     [key], {});\n",
              "          if (!dataTable) return;\n",
              "\n",
              "          const docLinkHtml = 'Like what you see? Visit the ' +\n",
              "            '<a target=\"_blank\" href=https://colab.research.google.com/notebooks/data_table.ipynb>data table notebook</a>'\n",
              "            + ' to learn more about interactive tables.';\n",
              "          element.innerHTML = '';\n",
              "          dataTable['output_type'] = 'display_data';\n",
              "          await google.colab.output.renderOutput(dataTable, element);\n",
              "          const docLink = document.createElement('div');\n",
              "          docLink.innerHTML = docLinkHtml;\n",
              "          element.appendChild(docLink);\n",
              "        }\n",
              "      </script>\n",
              "    </div>\n",
              "  </div>\n",
              "  "
            ],
            "text/plain": [
              "   Accuracy  Precision (or PPV)  Recall (senitivity or TPR)  f1 score  \\\n",
              "0       0.9                0.84                        0.98       0.9   \n",
              "\n",
              "   AUC_ROC  Specificty (or TNR)   NPV  True Positive  True Negative  \\\n",
              "0      0.9                 0.84  0.98            166            194   \n",
              "\n",
              "   False Positive  False Negative  \n",
              "0              36               4  "
            ]
          },
          "execution_count": 37,
          "metadata": {},
          "output_type": "execute_result"
        }
      ],
      "source": [
        "y_pred = ensemble.predict([X_test_original, X_test_original, X_test_original])\n",
        "y_pred[y_pred > 0.1] = 1.0\n",
        "y_pred[y_pred <= 0.1] = 0.0\n",
        "print(\"threshold - 0.1\")\n",
        "result1 = binary_classification_performance(y_test_enc, y_pred)\n",
        "binary_classification_performance(y_test_enc, y_pred)"
      ]
    },
    {
      "cell_type": "code",
      "execution_count": null,
      "metadata": {
        "colab": {
          "base_uri": "https://localhost:8080/",
          "height": 150
        },
        "id": "yXmsUjLeSCsV",
        "outputId": "3762340c-5536-482f-d839-98f39227b344"
      },
      "outputs": [
        {
          "name": "stdout",
          "output_type": "stream",
          "text": [
            "threshold - 0.2\n"
          ]
        },
        {
          "data": {
            "text/html": [
              "\n",
              "  <div id=\"df-651e2830-a1c7-477e-8631-8fe493f3aac8\">\n",
              "    <div class=\"colab-df-container\">\n",
              "      <div>\n",
              "<style scoped>\n",
              "    .dataframe tbody tr th:only-of-type {\n",
              "        vertical-align: middle;\n",
              "    }\n",
              "\n",
              "    .dataframe tbody tr th {\n",
              "        vertical-align: top;\n",
              "    }\n",
              "\n",
              "    .dataframe thead th {\n",
              "        text-align: right;\n",
              "    }\n",
              "</style>\n",
              "<table border=\"1\" class=\"dataframe\">\n",
              "  <thead>\n",
              "    <tr style=\"text-align: right;\">\n",
              "      <th></th>\n",
              "      <th>Accuracy</th>\n",
              "      <th>Precision (or PPV)</th>\n",
              "      <th>Recall (senitivity or TPR)</th>\n",
              "      <th>f1 score</th>\n",
              "      <th>AUC_ROC</th>\n",
              "      <th>Specificty (or TNR)</th>\n",
              "      <th>NPV</th>\n",
              "      <th>True Positive</th>\n",
              "      <th>True Negative</th>\n",
              "      <th>False Positive</th>\n",
              "      <th>False Negative</th>\n",
              "    </tr>\n",
              "  </thead>\n",
              "  <tbody>\n",
              "    <tr>\n",
              "      <th>0</th>\n",
              "      <td>0.93</td>\n",
              "      <td>0.9</td>\n",
              "      <td>0.96</td>\n",
              "      <td>0.93</td>\n",
              "      <td>0.93</td>\n",
              "      <td>0.9</td>\n",
              "      <td>0.96</td>\n",
              "      <td>181</td>\n",
              "      <td>191</td>\n",
              "      <td>21</td>\n",
              "      <td>7</td>\n",
              "    </tr>\n",
              "  </tbody>\n",
              "</table>\n",
              "</div>\n",
              "      <button class=\"colab-df-convert\" onclick=\"convertToInteractive('df-651e2830-a1c7-477e-8631-8fe493f3aac8')\"\n",
              "              title=\"Convert this dataframe to an interactive table.\"\n",
              "              style=\"display:none;\">\n",
              "        \n",
              "  <svg xmlns=\"http://www.w3.org/2000/svg\" height=\"24px\"viewBox=\"0 0 24 24\"\n",
              "       width=\"24px\">\n",
              "    <path d=\"M0 0h24v24H0V0z\" fill=\"none\"/>\n",
              "    <path d=\"M18.56 5.44l.94 2.06.94-2.06 2.06-.94-2.06-.94-.94-2.06-.94 2.06-2.06.94zm-11 1L8.5 8.5l.94-2.06 2.06-.94-2.06-.94L8.5 2.5l-.94 2.06-2.06.94zm10 10l.94 2.06.94-2.06 2.06-.94-2.06-.94-.94-2.06-.94 2.06-2.06.94z\"/><path d=\"M17.41 7.96l-1.37-1.37c-.4-.4-.92-.59-1.43-.59-.52 0-1.04.2-1.43.59L10.3 9.45l-7.72 7.72c-.78.78-.78 2.05 0 2.83L4 21.41c.39.39.9.59 1.41.59.51 0 1.02-.2 1.41-.59l7.78-7.78 2.81-2.81c.8-.78.8-2.07 0-2.86zM5.41 20L4 18.59l7.72-7.72 1.47 1.35L5.41 20z\"/>\n",
              "  </svg>\n",
              "      </button>\n",
              "      \n",
              "  <style>\n",
              "    .colab-df-container {\n",
              "      display:flex;\n",
              "      flex-wrap:wrap;\n",
              "      gap: 12px;\n",
              "    }\n",
              "\n",
              "    .colab-df-convert {\n",
              "      background-color: #E8F0FE;\n",
              "      border: none;\n",
              "      border-radius: 50%;\n",
              "      cursor: pointer;\n",
              "      display: none;\n",
              "      fill: #1967D2;\n",
              "      height: 32px;\n",
              "      padding: 0 0 0 0;\n",
              "      width: 32px;\n",
              "    }\n",
              "\n",
              "    .colab-df-convert:hover {\n",
              "      background-color: #E2EBFA;\n",
              "      box-shadow: 0px 1px 2px rgba(60, 64, 67, 0.3), 0px 1px 3px 1px rgba(60, 64, 67, 0.15);\n",
              "      fill: #174EA6;\n",
              "    }\n",
              "\n",
              "    [theme=dark] .colab-df-convert {\n",
              "      background-color: #3B4455;\n",
              "      fill: #D2E3FC;\n",
              "    }\n",
              "\n",
              "    [theme=dark] .colab-df-convert:hover {\n",
              "      background-color: #434B5C;\n",
              "      box-shadow: 0px 1px 3px 1px rgba(0, 0, 0, 0.15);\n",
              "      filter: drop-shadow(0px 1px 2px rgba(0, 0, 0, 0.3));\n",
              "      fill: #FFFFFF;\n",
              "    }\n",
              "  </style>\n",
              "\n",
              "      <script>\n",
              "        const buttonEl =\n",
              "          document.querySelector('#df-651e2830-a1c7-477e-8631-8fe493f3aac8 button.colab-df-convert');\n",
              "        buttonEl.style.display =\n",
              "          google.colab.kernel.accessAllowed ? 'block' : 'none';\n",
              "\n",
              "        async function convertToInteractive(key) {\n",
              "          const element = document.querySelector('#df-651e2830-a1c7-477e-8631-8fe493f3aac8');\n",
              "          const dataTable =\n",
              "            await google.colab.kernel.invokeFunction('convertToInteractive',\n",
              "                                                     [key], {});\n",
              "          if (!dataTable) return;\n",
              "\n",
              "          const docLinkHtml = 'Like what you see? Visit the ' +\n",
              "            '<a target=\"_blank\" href=https://colab.research.google.com/notebooks/data_table.ipynb>data table notebook</a>'\n",
              "            + ' to learn more about interactive tables.';\n",
              "          element.innerHTML = '';\n",
              "          dataTable['output_type'] = 'display_data';\n",
              "          await google.colab.output.renderOutput(dataTable, element);\n",
              "          const docLink = document.createElement('div');\n",
              "          docLink.innerHTML = docLinkHtml;\n",
              "          element.appendChild(docLink);\n",
              "        }\n",
              "      </script>\n",
              "    </div>\n",
              "  </div>\n",
              "  "
            ],
            "text/plain": [
              "   Accuracy  Precision (or PPV)  Recall (senitivity or TPR)  f1 score  \\\n",
              "0      0.93                 0.9                        0.96      0.93   \n",
              "\n",
              "   AUC_ROC  Specificty (or TNR)   NPV  True Positive  True Negative  \\\n",
              "0     0.93                  0.9  0.96            181            191   \n",
              "\n",
              "   False Positive  False Negative  \n",
              "0              21               7  "
            ]
          },
          "execution_count": 38,
          "metadata": {},
          "output_type": "execute_result"
        }
      ],
      "source": [
        "y_pred = ensemble.predict([X_test_original, X_test_original, X_test_original])\n",
        "y_pred[y_pred > 0.2] = 1.0\n",
        "y_pred[y_pred <= 0.2] = 0.0\n",
        "print(\"threshold - 0.2\")\n",
        "result2 = binary_classification_performance(y_test_enc, y_pred)\n",
        "binary_classification_performance(y_test_enc, y_pred)"
      ]
    },
    {
      "cell_type": "code",
      "execution_count": null,
      "metadata": {
        "colab": {
          "base_uri": "https://localhost:8080/",
          "height": 150
        },
        "id": "x1flK2KWSJNB",
        "outputId": "e1f27610-1b7a-477d-daa8-5bc6bba835ef"
      },
      "outputs": [
        {
          "name": "stdout",
          "output_type": "stream",
          "text": [
            "threshold - 0.4\n"
          ]
        },
        {
          "data": {
            "text/html": [
              "\n",
              "  <div id=\"df-e4927732-7058-4468-b6a5-7c9ba0c5b348\">\n",
              "    <div class=\"colab-df-container\">\n",
              "      <div>\n",
              "<style scoped>\n",
              "    .dataframe tbody tr th:only-of-type {\n",
              "        vertical-align: middle;\n",
              "    }\n",
              "\n",
              "    .dataframe tbody tr th {\n",
              "        vertical-align: top;\n",
              "    }\n",
              "\n",
              "    .dataframe thead th {\n",
              "        text-align: right;\n",
              "    }\n",
              "</style>\n",
              "<table border=\"1\" class=\"dataframe\">\n",
              "  <thead>\n",
              "    <tr style=\"text-align: right;\">\n",
              "      <th></th>\n",
              "      <th>Accuracy</th>\n",
              "      <th>Precision (or PPV)</th>\n",
              "      <th>Recall (senitivity or TPR)</th>\n",
              "      <th>f1 score</th>\n",
              "      <th>AUC_ROC</th>\n",
              "      <th>Specificty (or TNR)</th>\n",
              "      <th>NPV</th>\n",
              "      <th>True Positive</th>\n",
              "      <th>True Negative</th>\n",
              "      <th>False Positive</th>\n",
              "      <th>False Negative</th>\n",
              "    </tr>\n",
              "  </thead>\n",
              "  <tbody>\n",
              "    <tr>\n",
              "      <th>0</th>\n",
              "      <td>0.93</td>\n",
              "      <td>0.93</td>\n",
              "      <td>0.94</td>\n",
              "      <td>0.93</td>\n",
              "      <td>0.93</td>\n",
              "      <td>0.93</td>\n",
              "      <td>0.94</td>\n",
              "      <td>187</td>\n",
              "      <td>186</td>\n",
              "      <td>15</td>\n",
              "      <td>12</td>\n",
              "    </tr>\n",
              "  </tbody>\n",
              "</table>\n",
              "</div>\n",
              "      <button class=\"colab-df-convert\" onclick=\"convertToInteractive('df-e4927732-7058-4468-b6a5-7c9ba0c5b348')\"\n",
              "              title=\"Convert this dataframe to an interactive table.\"\n",
              "              style=\"display:none;\">\n",
              "        \n",
              "  <svg xmlns=\"http://www.w3.org/2000/svg\" height=\"24px\"viewBox=\"0 0 24 24\"\n",
              "       width=\"24px\">\n",
              "    <path d=\"M0 0h24v24H0V0z\" fill=\"none\"/>\n",
              "    <path d=\"M18.56 5.44l.94 2.06.94-2.06 2.06-.94-2.06-.94-.94-2.06-.94 2.06-2.06.94zm-11 1L8.5 8.5l.94-2.06 2.06-.94-2.06-.94L8.5 2.5l-.94 2.06-2.06.94zm10 10l.94 2.06.94-2.06 2.06-.94-2.06-.94-.94-2.06-.94 2.06-2.06.94z\"/><path d=\"M17.41 7.96l-1.37-1.37c-.4-.4-.92-.59-1.43-.59-.52 0-1.04.2-1.43.59L10.3 9.45l-7.72 7.72c-.78.78-.78 2.05 0 2.83L4 21.41c.39.39.9.59 1.41.59.51 0 1.02-.2 1.41-.59l7.78-7.78 2.81-2.81c.8-.78.8-2.07 0-2.86zM5.41 20L4 18.59l7.72-7.72 1.47 1.35L5.41 20z\"/>\n",
              "  </svg>\n",
              "      </button>\n",
              "      \n",
              "  <style>\n",
              "    .colab-df-container {\n",
              "      display:flex;\n",
              "      flex-wrap:wrap;\n",
              "      gap: 12px;\n",
              "    }\n",
              "\n",
              "    .colab-df-convert {\n",
              "      background-color: #E8F0FE;\n",
              "      border: none;\n",
              "      border-radius: 50%;\n",
              "      cursor: pointer;\n",
              "      display: none;\n",
              "      fill: #1967D2;\n",
              "      height: 32px;\n",
              "      padding: 0 0 0 0;\n",
              "      width: 32px;\n",
              "    }\n",
              "\n",
              "    .colab-df-convert:hover {\n",
              "      background-color: #E2EBFA;\n",
              "      box-shadow: 0px 1px 2px rgba(60, 64, 67, 0.3), 0px 1px 3px 1px rgba(60, 64, 67, 0.15);\n",
              "      fill: #174EA6;\n",
              "    }\n",
              "\n",
              "    [theme=dark] .colab-df-convert {\n",
              "      background-color: #3B4455;\n",
              "      fill: #D2E3FC;\n",
              "    }\n",
              "\n",
              "    [theme=dark] .colab-df-convert:hover {\n",
              "      background-color: #434B5C;\n",
              "      box-shadow: 0px 1px 3px 1px rgba(0, 0, 0, 0.15);\n",
              "      filter: drop-shadow(0px 1px 2px rgba(0, 0, 0, 0.3));\n",
              "      fill: #FFFFFF;\n",
              "    }\n",
              "  </style>\n",
              "\n",
              "      <script>\n",
              "        const buttonEl =\n",
              "          document.querySelector('#df-e4927732-7058-4468-b6a5-7c9ba0c5b348 button.colab-df-convert');\n",
              "        buttonEl.style.display =\n",
              "          google.colab.kernel.accessAllowed ? 'block' : 'none';\n",
              "\n",
              "        async function convertToInteractive(key) {\n",
              "          const element = document.querySelector('#df-e4927732-7058-4468-b6a5-7c9ba0c5b348');\n",
              "          const dataTable =\n",
              "            await google.colab.kernel.invokeFunction('convertToInteractive',\n",
              "                                                     [key], {});\n",
              "          if (!dataTable) return;\n",
              "\n",
              "          const docLinkHtml = 'Like what you see? Visit the ' +\n",
              "            '<a target=\"_blank\" href=https://colab.research.google.com/notebooks/data_table.ipynb>data table notebook</a>'\n",
              "            + ' to learn more about interactive tables.';\n",
              "          element.innerHTML = '';\n",
              "          dataTable['output_type'] = 'display_data';\n",
              "          await google.colab.output.renderOutput(dataTable, element);\n",
              "          const docLink = document.createElement('div');\n",
              "          docLink.innerHTML = docLinkHtml;\n",
              "          element.appendChild(docLink);\n",
              "        }\n",
              "      </script>\n",
              "    </div>\n",
              "  </div>\n",
              "  "
            ],
            "text/plain": [
              "   Accuracy  Precision (or PPV)  Recall (senitivity or TPR)  f1 score  \\\n",
              "0      0.93                0.93                        0.94      0.93   \n",
              "\n",
              "   AUC_ROC  Specificty (or TNR)   NPV  True Positive  True Negative  \\\n",
              "0     0.93                 0.93  0.94            187            186   \n",
              "\n",
              "   False Positive  False Negative  \n",
              "0              15              12  "
            ]
          },
          "execution_count": 39,
          "metadata": {},
          "output_type": "execute_result"
        }
      ],
      "source": [
        "y_pred = ensemble.predict([X_test_original, X_test_original, X_test_original])\n",
        "y_pred[y_pred > 0.4] = 1.0\n",
        "y_pred[y_pred <= 0.4] = 0.0\n",
        "print(\"threshold - 0.4\")\n",
        "result4 = binary_classification_performance(y_test_enc, y_pred)\n",
        "binary_classification_performance(y_test_enc, y_pred)"
      ]
    },
    {
      "cell_type": "code",
      "execution_count": null,
      "metadata": {
        "colab": {
          "base_uri": "https://localhost:8080/",
          "height": 150
        },
        "id": "z2x0TjLlSPDN",
        "outputId": "ca69b35c-ace8-4171-b0ef-8dbd16331b23"
      },
      "outputs": [
        {
          "name": "stdout",
          "output_type": "stream",
          "text": [
            "threshold - 0.5\n"
          ]
        },
        {
          "data": {
            "text/html": [
              "\n",
              "  <div id=\"df-9f3923de-9d06-43d7-bfc3-b9668d9c655f\">\n",
              "    <div class=\"colab-df-container\">\n",
              "      <div>\n",
              "<style scoped>\n",
              "    .dataframe tbody tr th:only-of-type {\n",
              "        vertical-align: middle;\n",
              "    }\n",
              "\n",
              "    .dataframe tbody tr th {\n",
              "        vertical-align: top;\n",
              "    }\n",
              "\n",
              "    .dataframe thead th {\n",
              "        text-align: right;\n",
              "    }\n",
              "</style>\n",
              "<table border=\"1\" class=\"dataframe\">\n",
              "  <thead>\n",
              "    <tr style=\"text-align: right;\">\n",
              "      <th></th>\n",
              "      <th>Accuracy</th>\n",
              "      <th>Precision (or PPV)</th>\n",
              "      <th>Recall (senitivity or TPR)</th>\n",
              "      <th>f1 score</th>\n",
              "      <th>AUC_ROC</th>\n",
              "      <th>Specificty (or TNR)</th>\n",
              "      <th>NPV</th>\n",
              "      <th>True Positive</th>\n",
              "      <th>True Negative</th>\n",
              "      <th>False Positive</th>\n",
              "      <th>False Negative</th>\n",
              "    </tr>\n",
              "  </thead>\n",
              "  <tbody>\n",
              "    <tr>\n",
              "      <th>0</th>\n",
              "      <td>0.94</td>\n",
              "      <td>0.95</td>\n",
              "      <td>0.92</td>\n",
              "      <td>0.93</td>\n",
              "      <td>0.94</td>\n",
              "      <td>0.95</td>\n",
              "      <td>0.92</td>\n",
              "      <td>192</td>\n",
              "      <td>183</td>\n",
              "      <td>10</td>\n",
              "      <td>15</td>\n",
              "    </tr>\n",
              "  </tbody>\n",
              "</table>\n",
              "</div>\n",
              "      <button class=\"colab-df-convert\" onclick=\"convertToInteractive('df-9f3923de-9d06-43d7-bfc3-b9668d9c655f')\"\n",
              "              title=\"Convert this dataframe to an interactive table.\"\n",
              "              style=\"display:none;\">\n",
              "        \n",
              "  <svg xmlns=\"http://www.w3.org/2000/svg\" height=\"24px\"viewBox=\"0 0 24 24\"\n",
              "       width=\"24px\">\n",
              "    <path d=\"M0 0h24v24H0V0z\" fill=\"none\"/>\n",
              "    <path d=\"M18.56 5.44l.94 2.06.94-2.06 2.06-.94-2.06-.94-.94-2.06-.94 2.06-2.06.94zm-11 1L8.5 8.5l.94-2.06 2.06-.94-2.06-.94L8.5 2.5l-.94 2.06-2.06.94zm10 10l.94 2.06.94-2.06 2.06-.94-2.06-.94-.94-2.06-.94 2.06-2.06.94z\"/><path d=\"M17.41 7.96l-1.37-1.37c-.4-.4-.92-.59-1.43-.59-.52 0-1.04.2-1.43.59L10.3 9.45l-7.72 7.72c-.78.78-.78 2.05 0 2.83L4 21.41c.39.39.9.59 1.41.59.51 0 1.02-.2 1.41-.59l7.78-7.78 2.81-2.81c.8-.78.8-2.07 0-2.86zM5.41 20L4 18.59l7.72-7.72 1.47 1.35L5.41 20z\"/>\n",
              "  </svg>\n",
              "      </button>\n",
              "      \n",
              "  <style>\n",
              "    .colab-df-container {\n",
              "      display:flex;\n",
              "      flex-wrap:wrap;\n",
              "      gap: 12px;\n",
              "    }\n",
              "\n",
              "    .colab-df-convert {\n",
              "      background-color: #E8F0FE;\n",
              "      border: none;\n",
              "      border-radius: 50%;\n",
              "      cursor: pointer;\n",
              "      display: none;\n",
              "      fill: #1967D2;\n",
              "      height: 32px;\n",
              "      padding: 0 0 0 0;\n",
              "      width: 32px;\n",
              "    }\n",
              "\n",
              "    .colab-df-convert:hover {\n",
              "      background-color: #E2EBFA;\n",
              "      box-shadow: 0px 1px 2px rgba(60, 64, 67, 0.3), 0px 1px 3px 1px rgba(60, 64, 67, 0.15);\n",
              "      fill: #174EA6;\n",
              "    }\n",
              "\n",
              "    [theme=dark] .colab-df-convert {\n",
              "      background-color: #3B4455;\n",
              "      fill: #D2E3FC;\n",
              "    }\n",
              "\n",
              "    [theme=dark] .colab-df-convert:hover {\n",
              "      background-color: #434B5C;\n",
              "      box-shadow: 0px 1px 3px 1px rgba(0, 0, 0, 0.15);\n",
              "      filter: drop-shadow(0px 1px 2px rgba(0, 0, 0, 0.3));\n",
              "      fill: #FFFFFF;\n",
              "    }\n",
              "  </style>\n",
              "\n",
              "      <script>\n",
              "        const buttonEl =\n",
              "          document.querySelector('#df-9f3923de-9d06-43d7-bfc3-b9668d9c655f button.colab-df-convert');\n",
              "        buttonEl.style.display =\n",
              "          google.colab.kernel.accessAllowed ? 'block' : 'none';\n",
              "\n",
              "        async function convertToInteractive(key) {\n",
              "          const element = document.querySelector('#df-9f3923de-9d06-43d7-bfc3-b9668d9c655f');\n",
              "          const dataTable =\n",
              "            await google.colab.kernel.invokeFunction('convertToInteractive',\n",
              "                                                     [key], {});\n",
              "          if (!dataTable) return;\n",
              "\n",
              "          const docLinkHtml = 'Like what you see? Visit the ' +\n",
              "            '<a target=\"_blank\" href=https://colab.research.google.com/notebooks/data_table.ipynb>data table notebook</a>'\n",
              "            + ' to learn more about interactive tables.';\n",
              "          element.innerHTML = '';\n",
              "          dataTable['output_type'] = 'display_data';\n",
              "          await google.colab.output.renderOutput(dataTable, element);\n",
              "          const docLink = document.createElement('div');\n",
              "          docLink.innerHTML = docLinkHtml;\n",
              "          element.appendChild(docLink);\n",
              "        }\n",
              "      </script>\n",
              "    </div>\n",
              "  </div>\n",
              "  "
            ],
            "text/plain": [
              "   Accuracy  Precision (or PPV)  Recall (senitivity or TPR)  f1 score  \\\n",
              "0      0.94                0.95                        0.92      0.93   \n",
              "\n",
              "   AUC_ROC  Specificty (or TNR)   NPV  True Positive  True Negative  \\\n",
              "0     0.94                 0.95  0.92            192            183   \n",
              "\n",
              "   False Positive  False Negative  \n",
              "0              10              15  "
            ]
          },
          "execution_count": 40,
          "metadata": {},
          "output_type": "execute_result"
        }
      ],
      "source": [
        "y_pred = ensemble.predict([X_test_original, X_test_original, X_test_original])\n",
        "y_pred[y_pred > 0.5] = 1.0\n",
        "y_pred[y_pred <= 0.5] = 0.0\n",
        "print(\"threshold - 0.5\")\n",
        "result5 = binary_classification_performance(y_test_enc, y_pred)\n",
        "binary_classification_performance(y_test_enc, y_pred)"
      ]
    },
    {
      "cell_type": "code",
      "execution_count": null,
      "metadata": {
        "colab": {
          "base_uri": "https://localhost:8080/",
          "height": 150
        },
        "id": "SYwEMIHnSGw5",
        "outputId": "5c6f201d-1b72-4943-f647-97801c514ec2"
      },
      "outputs": [
        {
          "name": "stdout",
          "output_type": "stream",
          "text": [
            "threshold - 0.6\n"
          ]
        },
        {
          "data": {
            "text/html": [
              "\n",
              "  <div id=\"df-bb2904d0-4bc2-41bd-9eb1-dba0b1d063ea\">\n",
              "    <div class=\"colab-df-container\">\n",
              "      <div>\n",
              "<style scoped>\n",
              "    .dataframe tbody tr th:only-of-type {\n",
              "        vertical-align: middle;\n",
              "    }\n",
              "\n",
              "    .dataframe tbody tr th {\n",
              "        vertical-align: top;\n",
              "    }\n",
              "\n",
              "    .dataframe thead th {\n",
              "        text-align: right;\n",
              "    }\n",
              "</style>\n",
              "<table border=\"1\" class=\"dataframe\">\n",
              "  <thead>\n",
              "    <tr style=\"text-align: right;\">\n",
              "      <th></th>\n",
              "      <th>Accuracy</th>\n",
              "      <th>Precision (or PPV)</th>\n",
              "      <th>Recall (senitivity or TPR)</th>\n",
              "      <th>f1 score</th>\n",
              "      <th>AUC_ROC</th>\n",
              "      <th>Specificty (or TNR)</th>\n",
              "      <th>NPV</th>\n",
              "      <th>True Positive</th>\n",
              "      <th>True Negative</th>\n",
              "      <th>False Positive</th>\n",
              "      <th>False Negative</th>\n",
              "    </tr>\n",
              "  </thead>\n",
              "  <tbody>\n",
              "    <tr>\n",
              "      <th>0</th>\n",
              "      <td>0.94</td>\n",
              "      <td>0.96</td>\n",
              "      <td>0.92</td>\n",
              "      <td>0.94</td>\n",
              "      <td>0.94</td>\n",
              "      <td>0.96</td>\n",
              "      <td>0.92</td>\n",
              "      <td>194</td>\n",
              "      <td>183</td>\n",
              "      <td>8</td>\n",
              "      <td>15</td>\n",
              "    </tr>\n",
              "  </tbody>\n",
              "</table>\n",
              "</div>\n",
              "      <button class=\"colab-df-convert\" onclick=\"convertToInteractive('df-bb2904d0-4bc2-41bd-9eb1-dba0b1d063ea')\"\n",
              "              title=\"Convert this dataframe to an interactive table.\"\n",
              "              style=\"display:none;\">\n",
              "        \n",
              "  <svg xmlns=\"http://www.w3.org/2000/svg\" height=\"24px\"viewBox=\"0 0 24 24\"\n",
              "       width=\"24px\">\n",
              "    <path d=\"M0 0h24v24H0V0z\" fill=\"none\"/>\n",
              "    <path d=\"M18.56 5.44l.94 2.06.94-2.06 2.06-.94-2.06-.94-.94-2.06-.94 2.06-2.06.94zm-11 1L8.5 8.5l.94-2.06 2.06-.94-2.06-.94L8.5 2.5l-.94 2.06-2.06.94zm10 10l.94 2.06.94-2.06 2.06-.94-2.06-.94-.94-2.06-.94 2.06-2.06.94z\"/><path d=\"M17.41 7.96l-1.37-1.37c-.4-.4-.92-.59-1.43-.59-.52 0-1.04.2-1.43.59L10.3 9.45l-7.72 7.72c-.78.78-.78 2.05 0 2.83L4 21.41c.39.39.9.59 1.41.59.51 0 1.02-.2 1.41-.59l7.78-7.78 2.81-2.81c.8-.78.8-2.07 0-2.86zM5.41 20L4 18.59l7.72-7.72 1.47 1.35L5.41 20z\"/>\n",
              "  </svg>\n",
              "      </button>\n",
              "      \n",
              "  <style>\n",
              "    .colab-df-container {\n",
              "      display:flex;\n",
              "      flex-wrap:wrap;\n",
              "      gap: 12px;\n",
              "    }\n",
              "\n",
              "    .colab-df-convert {\n",
              "      background-color: #E8F0FE;\n",
              "      border: none;\n",
              "      border-radius: 50%;\n",
              "      cursor: pointer;\n",
              "      display: none;\n",
              "      fill: #1967D2;\n",
              "      height: 32px;\n",
              "      padding: 0 0 0 0;\n",
              "      width: 32px;\n",
              "    }\n",
              "\n",
              "    .colab-df-convert:hover {\n",
              "      background-color: #E2EBFA;\n",
              "      box-shadow: 0px 1px 2px rgba(60, 64, 67, 0.3), 0px 1px 3px 1px rgba(60, 64, 67, 0.15);\n",
              "      fill: #174EA6;\n",
              "    }\n",
              "\n",
              "    [theme=dark] .colab-df-convert {\n",
              "      background-color: #3B4455;\n",
              "      fill: #D2E3FC;\n",
              "    }\n",
              "\n",
              "    [theme=dark] .colab-df-convert:hover {\n",
              "      background-color: #434B5C;\n",
              "      box-shadow: 0px 1px 3px 1px rgba(0, 0, 0, 0.15);\n",
              "      filter: drop-shadow(0px 1px 2px rgba(0, 0, 0, 0.3));\n",
              "      fill: #FFFFFF;\n",
              "    }\n",
              "  </style>\n",
              "\n",
              "      <script>\n",
              "        const buttonEl =\n",
              "          document.querySelector('#df-bb2904d0-4bc2-41bd-9eb1-dba0b1d063ea button.colab-df-convert');\n",
              "        buttonEl.style.display =\n",
              "          google.colab.kernel.accessAllowed ? 'block' : 'none';\n",
              "\n",
              "        async function convertToInteractive(key) {\n",
              "          const element = document.querySelector('#df-bb2904d0-4bc2-41bd-9eb1-dba0b1d063ea');\n",
              "          const dataTable =\n",
              "            await google.colab.kernel.invokeFunction('convertToInteractive',\n",
              "                                                     [key], {});\n",
              "          if (!dataTable) return;\n",
              "\n",
              "          const docLinkHtml = 'Like what you see? Visit the ' +\n",
              "            '<a target=\"_blank\" href=https://colab.research.google.com/notebooks/data_table.ipynb>data table notebook</a>'\n",
              "            + ' to learn more about interactive tables.';\n",
              "          element.innerHTML = '';\n",
              "          dataTable['output_type'] = 'display_data';\n",
              "          await google.colab.output.renderOutput(dataTable, element);\n",
              "          const docLink = document.createElement('div');\n",
              "          docLink.innerHTML = docLinkHtml;\n",
              "          element.appendChild(docLink);\n",
              "        }\n",
              "      </script>\n",
              "    </div>\n",
              "  </div>\n",
              "  "
            ],
            "text/plain": [
              "   Accuracy  Precision (or PPV)  Recall (senitivity or TPR)  f1 score  \\\n",
              "0      0.94                0.96                        0.92      0.94   \n",
              "\n",
              "   AUC_ROC  Specificty (or TNR)   NPV  True Positive  True Negative  \\\n",
              "0     0.94                 0.96  0.92            194            183   \n",
              "\n",
              "   False Positive  False Negative  \n",
              "0               8              15  "
            ]
          },
          "execution_count": 41,
          "metadata": {},
          "output_type": "execute_result"
        }
      ],
      "source": [
        "y_pred = ensemble.predict([X_test_original, X_test_original, X_test_original])\n",
        "y_pred[y_pred > 0.6] = 1.0\n",
        "y_pred[y_pred <= 0.6] = 0.0\n",
        "print(\"threshold - 0.6\")\n",
        "result6 = binary_classification_performance(y_test_enc, y_pred)\n",
        "binary_classification_performance(y_test_enc, y_pred)"
      ]
    },
    {
      "cell_type": "code",
      "execution_count": null,
      "metadata": {
        "colab": {
          "base_uri": "https://localhost:8080/",
          "height": 150
        },
        "id": "X_Kcg6_cSXti",
        "outputId": "1a2835fb-6f83-4c46-9225-7063b7c9d616"
      },
      "outputs": [
        {
          "name": "stdout",
          "output_type": "stream",
          "text": [
            "threshold - 0.7\n"
          ]
        },
        {
          "data": {
            "text/html": [
              "\n",
              "  <div id=\"df-5506b769-cf9a-437d-8379-e2f7a7b58d77\">\n",
              "    <div class=\"colab-df-container\">\n",
              "      <div>\n",
              "<style scoped>\n",
              "    .dataframe tbody tr th:only-of-type {\n",
              "        vertical-align: middle;\n",
              "    }\n",
              "\n",
              "    .dataframe tbody tr th {\n",
              "        vertical-align: top;\n",
              "    }\n",
              "\n",
              "    .dataframe thead th {\n",
              "        text-align: right;\n",
              "    }\n",
              "</style>\n",
              "<table border=\"1\" class=\"dataframe\">\n",
              "  <thead>\n",
              "    <tr style=\"text-align: right;\">\n",
              "      <th></th>\n",
              "      <th>Accuracy</th>\n",
              "      <th>Precision (or PPV)</th>\n",
              "      <th>Recall (senitivity or TPR)</th>\n",
              "      <th>f1 score</th>\n",
              "      <th>AUC_ROC</th>\n",
              "      <th>Specificty (or TNR)</th>\n",
              "      <th>NPV</th>\n",
              "      <th>True Positive</th>\n",
              "      <th>True Negative</th>\n",
              "      <th>False Positive</th>\n",
              "      <th>False Negative</th>\n",
              "    </tr>\n",
              "  </thead>\n",
              "  <tbody>\n",
              "    <tr>\n",
              "      <th>0</th>\n",
              "      <td>0.94</td>\n",
              "      <td>0.98</td>\n",
              "      <td>0.9</td>\n",
              "      <td>0.94</td>\n",
              "      <td>0.94</td>\n",
              "      <td>0.98</td>\n",
              "      <td>0.9</td>\n",
              "      <td>198</td>\n",
              "      <td>179</td>\n",
              "      <td>4</td>\n",
              "      <td>19</td>\n",
              "    </tr>\n",
              "  </tbody>\n",
              "</table>\n",
              "</div>\n",
              "      <button class=\"colab-df-convert\" onclick=\"convertToInteractive('df-5506b769-cf9a-437d-8379-e2f7a7b58d77')\"\n",
              "              title=\"Convert this dataframe to an interactive table.\"\n",
              "              style=\"display:none;\">\n",
              "        \n",
              "  <svg xmlns=\"http://www.w3.org/2000/svg\" height=\"24px\"viewBox=\"0 0 24 24\"\n",
              "       width=\"24px\">\n",
              "    <path d=\"M0 0h24v24H0V0z\" fill=\"none\"/>\n",
              "    <path d=\"M18.56 5.44l.94 2.06.94-2.06 2.06-.94-2.06-.94-.94-2.06-.94 2.06-2.06.94zm-11 1L8.5 8.5l.94-2.06 2.06-.94-2.06-.94L8.5 2.5l-.94 2.06-2.06.94zm10 10l.94 2.06.94-2.06 2.06-.94-2.06-.94-.94-2.06-.94 2.06-2.06.94z\"/><path d=\"M17.41 7.96l-1.37-1.37c-.4-.4-.92-.59-1.43-.59-.52 0-1.04.2-1.43.59L10.3 9.45l-7.72 7.72c-.78.78-.78 2.05 0 2.83L4 21.41c.39.39.9.59 1.41.59.51 0 1.02-.2 1.41-.59l7.78-7.78 2.81-2.81c.8-.78.8-2.07 0-2.86zM5.41 20L4 18.59l7.72-7.72 1.47 1.35L5.41 20z\"/>\n",
              "  </svg>\n",
              "      </button>\n",
              "      \n",
              "  <style>\n",
              "    .colab-df-container {\n",
              "      display:flex;\n",
              "      flex-wrap:wrap;\n",
              "      gap: 12px;\n",
              "    }\n",
              "\n",
              "    .colab-df-convert {\n",
              "      background-color: #E8F0FE;\n",
              "      border: none;\n",
              "      border-radius: 50%;\n",
              "      cursor: pointer;\n",
              "      display: none;\n",
              "      fill: #1967D2;\n",
              "      height: 32px;\n",
              "      padding: 0 0 0 0;\n",
              "      width: 32px;\n",
              "    }\n",
              "\n",
              "    .colab-df-convert:hover {\n",
              "      background-color: #E2EBFA;\n",
              "      box-shadow: 0px 1px 2px rgba(60, 64, 67, 0.3), 0px 1px 3px 1px rgba(60, 64, 67, 0.15);\n",
              "      fill: #174EA6;\n",
              "    }\n",
              "\n",
              "    [theme=dark] .colab-df-convert {\n",
              "      background-color: #3B4455;\n",
              "      fill: #D2E3FC;\n",
              "    }\n",
              "\n",
              "    [theme=dark] .colab-df-convert:hover {\n",
              "      background-color: #434B5C;\n",
              "      box-shadow: 0px 1px 3px 1px rgba(0, 0, 0, 0.15);\n",
              "      filter: drop-shadow(0px 1px 2px rgba(0, 0, 0, 0.3));\n",
              "      fill: #FFFFFF;\n",
              "    }\n",
              "  </style>\n",
              "\n",
              "      <script>\n",
              "        const buttonEl =\n",
              "          document.querySelector('#df-5506b769-cf9a-437d-8379-e2f7a7b58d77 button.colab-df-convert');\n",
              "        buttonEl.style.display =\n",
              "          google.colab.kernel.accessAllowed ? 'block' : 'none';\n",
              "\n",
              "        async function convertToInteractive(key) {\n",
              "          const element = document.querySelector('#df-5506b769-cf9a-437d-8379-e2f7a7b58d77');\n",
              "          const dataTable =\n",
              "            await google.colab.kernel.invokeFunction('convertToInteractive',\n",
              "                                                     [key], {});\n",
              "          if (!dataTable) return;\n",
              "\n",
              "          const docLinkHtml = 'Like what you see? Visit the ' +\n",
              "            '<a target=\"_blank\" href=https://colab.research.google.com/notebooks/data_table.ipynb>data table notebook</a>'\n",
              "            + ' to learn more about interactive tables.';\n",
              "          element.innerHTML = '';\n",
              "          dataTable['output_type'] = 'display_data';\n",
              "          await google.colab.output.renderOutput(dataTable, element);\n",
              "          const docLink = document.createElement('div');\n",
              "          docLink.innerHTML = docLinkHtml;\n",
              "          element.appendChild(docLink);\n",
              "        }\n",
              "      </script>\n",
              "    </div>\n",
              "  </div>\n",
              "  "
            ],
            "text/plain": [
              "   Accuracy  Precision (or PPV)  Recall (senitivity or TPR)  f1 score  \\\n",
              "0      0.94                0.98                         0.9      0.94   \n",
              "\n",
              "   AUC_ROC  Specificty (or TNR)  NPV  True Positive  True Negative  \\\n",
              "0     0.94                 0.98  0.9            198            179   \n",
              "\n",
              "   False Positive  False Negative  \n",
              "0               4              19  "
            ]
          },
          "execution_count": 42,
          "metadata": {},
          "output_type": "execute_result"
        }
      ],
      "source": [
        "y_pred = ensemble.predict([X_test_original, X_test_original, X_test_original])\n",
        "y_pred[y_pred > 0.7] = 1.0\n",
        "y_pred[y_pred <= 0.7] = 0.0\n",
        "print(\"threshold - 0.7\")\n",
        "result7 = binary_classification_performance(y_test_enc, y_pred)\n",
        "binary_classification_performance(y_test_enc, y_pred)"
      ]
    },
    {
      "cell_type": "code",
      "execution_count": null,
      "metadata": {
        "colab": {
          "base_uri": "https://localhost:8080/",
          "height": 150
        },
        "id": "EaY3MyGcSaKm",
        "outputId": "4868cb1c-ee11-4c8e-e76c-4bad1c17449c"
      },
      "outputs": [
        {
          "name": "stdout",
          "output_type": "stream",
          "text": [
            "threshold - 0.8\n"
          ]
        },
        {
          "data": {
            "text/html": [
              "\n",
              "  <div id=\"df-29569b52-48a1-42bd-82f4-46f6ac2f349f\">\n",
              "    <div class=\"colab-df-container\">\n",
              "      <div>\n",
              "<style scoped>\n",
              "    .dataframe tbody tr th:only-of-type {\n",
              "        vertical-align: middle;\n",
              "    }\n",
              "\n",
              "    .dataframe tbody tr th {\n",
              "        vertical-align: top;\n",
              "    }\n",
              "\n",
              "    .dataframe thead th {\n",
              "        text-align: right;\n",
              "    }\n",
              "</style>\n",
              "<table border=\"1\" class=\"dataframe\">\n",
              "  <thead>\n",
              "    <tr style=\"text-align: right;\">\n",
              "      <th></th>\n",
              "      <th>Accuracy</th>\n",
              "      <th>Precision (or PPV)</th>\n",
              "      <th>Recall (senitivity or TPR)</th>\n",
              "      <th>f1 score</th>\n",
              "      <th>AUC_ROC</th>\n",
              "      <th>Specificty (or TNR)</th>\n",
              "      <th>NPV</th>\n",
              "      <th>True Positive</th>\n",
              "      <th>True Negative</th>\n",
              "      <th>False Positive</th>\n",
              "      <th>False Negative</th>\n",
              "    </tr>\n",
              "  </thead>\n",
              "  <tbody>\n",
              "    <tr>\n",
              "      <th>0</th>\n",
              "      <td>0.93</td>\n",
              "      <td>0.98</td>\n",
              "      <td>0.87</td>\n",
              "      <td>0.92</td>\n",
              "      <td>0.93</td>\n",
              "      <td>0.98</td>\n",
              "      <td>0.87</td>\n",
              "      <td>199</td>\n",
              "      <td>173</td>\n",
              "      <td>3</td>\n",
              "      <td>25</td>\n",
              "    </tr>\n",
              "  </tbody>\n",
              "</table>\n",
              "</div>\n",
              "      <button class=\"colab-df-convert\" onclick=\"convertToInteractive('df-29569b52-48a1-42bd-82f4-46f6ac2f349f')\"\n",
              "              title=\"Convert this dataframe to an interactive table.\"\n",
              "              style=\"display:none;\">\n",
              "        \n",
              "  <svg xmlns=\"http://www.w3.org/2000/svg\" height=\"24px\"viewBox=\"0 0 24 24\"\n",
              "       width=\"24px\">\n",
              "    <path d=\"M0 0h24v24H0V0z\" fill=\"none\"/>\n",
              "    <path d=\"M18.56 5.44l.94 2.06.94-2.06 2.06-.94-2.06-.94-.94-2.06-.94 2.06-2.06.94zm-11 1L8.5 8.5l.94-2.06 2.06-.94-2.06-.94L8.5 2.5l-.94 2.06-2.06.94zm10 10l.94 2.06.94-2.06 2.06-.94-2.06-.94-.94-2.06-.94 2.06-2.06.94z\"/><path d=\"M17.41 7.96l-1.37-1.37c-.4-.4-.92-.59-1.43-.59-.52 0-1.04.2-1.43.59L10.3 9.45l-7.72 7.72c-.78.78-.78 2.05 0 2.83L4 21.41c.39.39.9.59 1.41.59.51 0 1.02-.2 1.41-.59l7.78-7.78 2.81-2.81c.8-.78.8-2.07 0-2.86zM5.41 20L4 18.59l7.72-7.72 1.47 1.35L5.41 20z\"/>\n",
              "  </svg>\n",
              "      </button>\n",
              "      \n",
              "  <style>\n",
              "    .colab-df-container {\n",
              "      display:flex;\n",
              "      flex-wrap:wrap;\n",
              "      gap: 12px;\n",
              "    }\n",
              "\n",
              "    .colab-df-convert {\n",
              "      background-color: #E8F0FE;\n",
              "      border: none;\n",
              "      border-radius: 50%;\n",
              "      cursor: pointer;\n",
              "      display: none;\n",
              "      fill: #1967D2;\n",
              "      height: 32px;\n",
              "      padding: 0 0 0 0;\n",
              "      width: 32px;\n",
              "    }\n",
              "\n",
              "    .colab-df-convert:hover {\n",
              "      background-color: #E2EBFA;\n",
              "      box-shadow: 0px 1px 2px rgba(60, 64, 67, 0.3), 0px 1px 3px 1px rgba(60, 64, 67, 0.15);\n",
              "      fill: #174EA6;\n",
              "    }\n",
              "\n",
              "    [theme=dark] .colab-df-convert {\n",
              "      background-color: #3B4455;\n",
              "      fill: #D2E3FC;\n",
              "    }\n",
              "\n",
              "    [theme=dark] .colab-df-convert:hover {\n",
              "      background-color: #434B5C;\n",
              "      box-shadow: 0px 1px 3px 1px rgba(0, 0, 0, 0.15);\n",
              "      filter: drop-shadow(0px 1px 2px rgba(0, 0, 0, 0.3));\n",
              "      fill: #FFFFFF;\n",
              "    }\n",
              "  </style>\n",
              "\n",
              "      <script>\n",
              "        const buttonEl =\n",
              "          document.querySelector('#df-29569b52-48a1-42bd-82f4-46f6ac2f349f button.colab-df-convert');\n",
              "        buttonEl.style.display =\n",
              "          google.colab.kernel.accessAllowed ? 'block' : 'none';\n",
              "\n",
              "        async function convertToInteractive(key) {\n",
              "          const element = document.querySelector('#df-29569b52-48a1-42bd-82f4-46f6ac2f349f');\n",
              "          const dataTable =\n",
              "            await google.colab.kernel.invokeFunction('convertToInteractive',\n",
              "                                                     [key], {});\n",
              "          if (!dataTable) return;\n",
              "\n",
              "          const docLinkHtml = 'Like what you see? Visit the ' +\n",
              "            '<a target=\"_blank\" href=https://colab.research.google.com/notebooks/data_table.ipynb>data table notebook</a>'\n",
              "            + ' to learn more about interactive tables.';\n",
              "          element.innerHTML = '';\n",
              "          dataTable['output_type'] = 'display_data';\n",
              "          await google.colab.output.renderOutput(dataTable, element);\n",
              "          const docLink = document.createElement('div');\n",
              "          docLink.innerHTML = docLinkHtml;\n",
              "          element.appendChild(docLink);\n",
              "        }\n",
              "      </script>\n",
              "    </div>\n",
              "  </div>\n",
              "  "
            ],
            "text/plain": [
              "   Accuracy  Precision (or PPV)  Recall (senitivity or TPR)  f1 score  \\\n",
              "0      0.93                0.98                        0.87      0.92   \n",
              "\n",
              "   AUC_ROC  Specificty (or TNR)   NPV  True Positive  True Negative  \\\n",
              "0     0.93                 0.98  0.87            199            173   \n",
              "\n",
              "   False Positive  False Negative  \n",
              "0               3              25  "
            ]
          },
          "execution_count": 43,
          "metadata": {},
          "output_type": "execute_result"
        }
      ],
      "source": [
        "y_pred = ensemble.predict([X_test_original, X_test_original, X_test_original])\n",
        "y_pred[y_pred > 0.8] = 1.0\n",
        "y_pred[y_pred <= 0.8] = 0.0\n",
        "print(\"threshold - 0.8\")\n",
        "result8 = binary_classification_performance(y_test_enc, y_pred)\n",
        "binary_classification_performance(y_test_enc, y_pred)"
      ]
    },
    {
      "cell_type": "code",
      "execution_count": null,
      "metadata": {
        "colab": {
          "base_uri": "https://localhost:8080/",
          "height": 150
        },
        "id": "SPHOktcSSffR",
        "outputId": "32df8085-8314-4680-d88b-e41eecb4269b"
      },
      "outputs": [
        {
          "name": "stdout",
          "output_type": "stream",
          "text": [
            "threshold - 0.9\n"
          ]
        },
        {
          "data": {
            "text/html": [
              "\n",
              "  <div id=\"df-434dc841-8521-4b29-b6a9-70169f58680f\">\n",
              "    <div class=\"colab-df-container\">\n",
              "      <div>\n",
              "<style scoped>\n",
              "    .dataframe tbody tr th:only-of-type {\n",
              "        vertical-align: middle;\n",
              "    }\n",
              "\n",
              "    .dataframe tbody tr th {\n",
              "        vertical-align: top;\n",
              "    }\n",
              "\n",
              "    .dataframe thead th {\n",
              "        text-align: right;\n",
              "    }\n",
              "</style>\n",
              "<table border=\"1\" class=\"dataframe\">\n",
              "  <thead>\n",
              "    <tr style=\"text-align: right;\">\n",
              "      <th></th>\n",
              "      <th>Accuracy</th>\n",
              "      <th>Precision (or PPV)</th>\n",
              "      <th>Recall (senitivity or TPR)</th>\n",
              "      <th>f1 score</th>\n",
              "      <th>AUC_ROC</th>\n",
              "      <th>Specificty (or TNR)</th>\n",
              "      <th>NPV</th>\n",
              "      <th>True Positive</th>\n",
              "      <th>True Negative</th>\n",
              "      <th>False Positive</th>\n",
              "      <th>False Negative</th>\n",
              "    </tr>\n",
              "  </thead>\n",
              "  <tbody>\n",
              "    <tr>\n",
              "      <th>0</th>\n",
              "      <td>0.92</td>\n",
              "      <td>0.98</td>\n",
              "      <td>0.85</td>\n",
              "      <td>0.91</td>\n",
              "      <td>0.92</td>\n",
              "      <td>0.98</td>\n",
              "      <td>0.85</td>\n",
              "      <td>199</td>\n",
              "      <td>168</td>\n",
              "      <td>3</td>\n",
              "      <td>30</td>\n",
              "    </tr>\n",
              "  </tbody>\n",
              "</table>\n",
              "</div>\n",
              "      <button class=\"colab-df-convert\" onclick=\"convertToInteractive('df-434dc841-8521-4b29-b6a9-70169f58680f')\"\n",
              "              title=\"Convert this dataframe to an interactive table.\"\n",
              "              style=\"display:none;\">\n",
              "        \n",
              "  <svg xmlns=\"http://www.w3.org/2000/svg\" height=\"24px\"viewBox=\"0 0 24 24\"\n",
              "       width=\"24px\">\n",
              "    <path d=\"M0 0h24v24H0V0z\" fill=\"none\"/>\n",
              "    <path d=\"M18.56 5.44l.94 2.06.94-2.06 2.06-.94-2.06-.94-.94-2.06-.94 2.06-2.06.94zm-11 1L8.5 8.5l.94-2.06 2.06-.94-2.06-.94L8.5 2.5l-.94 2.06-2.06.94zm10 10l.94 2.06.94-2.06 2.06-.94-2.06-.94-.94-2.06-.94 2.06-2.06.94z\"/><path d=\"M17.41 7.96l-1.37-1.37c-.4-.4-.92-.59-1.43-.59-.52 0-1.04.2-1.43.59L10.3 9.45l-7.72 7.72c-.78.78-.78 2.05 0 2.83L4 21.41c.39.39.9.59 1.41.59.51 0 1.02-.2 1.41-.59l7.78-7.78 2.81-2.81c.8-.78.8-2.07 0-2.86zM5.41 20L4 18.59l7.72-7.72 1.47 1.35L5.41 20z\"/>\n",
              "  </svg>\n",
              "      </button>\n",
              "      \n",
              "  <style>\n",
              "    .colab-df-container {\n",
              "      display:flex;\n",
              "      flex-wrap:wrap;\n",
              "      gap: 12px;\n",
              "    }\n",
              "\n",
              "    .colab-df-convert {\n",
              "      background-color: #E8F0FE;\n",
              "      border: none;\n",
              "      border-radius: 50%;\n",
              "      cursor: pointer;\n",
              "      display: none;\n",
              "      fill: #1967D2;\n",
              "      height: 32px;\n",
              "      padding: 0 0 0 0;\n",
              "      width: 32px;\n",
              "    }\n",
              "\n",
              "    .colab-df-convert:hover {\n",
              "      background-color: #E2EBFA;\n",
              "      box-shadow: 0px 1px 2px rgba(60, 64, 67, 0.3), 0px 1px 3px 1px rgba(60, 64, 67, 0.15);\n",
              "      fill: #174EA6;\n",
              "    }\n",
              "\n",
              "    [theme=dark] .colab-df-convert {\n",
              "      background-color: #3B4455;\n",
              "      fill: #D2E3FC;\n",
              "    }\n",
              "\n",
              "    [theme=dark] .colab-df-convert:hover {\n",
              "      background-color: #434B5C;\n",
              "      box-shadow: 0px 1px 3px 1px rgba(0, 0, 0, 0.15);\n",
              "      filter: drop-shadow(0px 1px 2px rgba(0, 0, 0, 0.3));\n",
              "      fill: #FFFFFF;\n",
              "    }\n",
              "  </style>\n",
              "\n",
              "      <script>\n",
              "        const buttonEl =\n",
              "          document.querySelector('#df-434dc841-8521-4b29-b6a9-70169f58680f button.colab-df-convert');\n",
              "        buttonEl.style.display =\n",
              "          google.colab.kernel.accessAllowed ? 'block' : 'none';\n",
              "\n",
              "        async function convertToInteractive(key) {\n",
              "          const element = document.querySelector('#df-434dc841-8521-4b29-b6a9-70169f58680f');\n",
              "          const dataTable =\n",
              "            await google.colab.kernel.invokeFunction('convertToInteractive',\n",
              "                                                     [key], {});\n",
              "          if (!dataTable) return;\n",
              "\n",
              "          const docLinkHtml = 'Like what you see? Visit the ' +\n",
              "            '<a target=\"_blank\" href=https://colab.research.google.com/notebooks/data_table.ipynb>data table notebook</a>'\n",
              "            + ' to learn more about interactive tables.';\n",
              "          element.innerHTML = '';\n",
              "          dataTable['output_type'] = 'display_data';\n",
              "          await google.colab.output.renderOutput(dataTable, element);\n",
              "          const docLink = document.createElement('div');\n",
              "          docLink.innerHTML = docLinkHtml;\n",
              "          element.appendChild(docLink);\n",
              "        }\n",
              "      </script>\n",
              "    </div>\n",
              "  </div>\n",
              "  "
            ],
            "text/plain": [
              "   Accuracy  Precision (or PPV)  Recall (senitivity or TPR)  f1 score  \\\n",
              "0      0.92                0.98                        0.85      0.91   \n",
              "\n",
              "   AUC_ROC  Specificty (or TNR)   NPV  True Positive  True Negative  \\\n",
              "0     0.92                 0.98  0.85            199            168   \n",
              "\n",
              "   False Positive  False Negative  \n",
              "0               3              30  "
            ]
          },
          "execution_count": 44,
          "metadata": {},
          "output_type": "execute_result"
        }
      ],
      "source": [
        "y_pred = ensemble.predict([X_test_original, X_test_original, X_test_original])\n",
        "y_pred[y_pred > 0.9] = 1.0\n",
        "y_pred[y_pred <= 0.9] = 0.0\n",
        "print(\"threshold - 0.9\")\n",
        "result9 = binary_classification_performance(y_test_enc, y_pred)\n",
        "binary_classification_performance(y_test_enc, y_pred)"
      ]
    },
    {
      "cell_type": "code",
      "execution_count": null,
      "metadata": {
        "id": "o6jNxuL1SgVX"
      },
      "outputs": [],
      "source": [
        "results = [result1, result2, result3, result4, result5, result6, result7, result8, result9 ]"
      ]
    },
    {
      "cell_type": "code",
      "execution_count": null,
      "metadata": {
        "id": "DpcwiszBSinL"
      },
      "outputs": [],
      "source": [
        "accuracies = [i['Accuracy'] for i in results ]\n",
        "recalls = [i['Recall (senitivity or TPR)'] for i in results ]\n",
        "precisions = [i['Precision (or PPV)'] for i in results ]\n",
        "f1s = [i['f1 score'] for i in results ]"
      ]
    },
    {
      "cell_type": "code",
      "execution_count": null,
      "metadata": {
        "colab": {
          "base_uri": "https://localhost:8080/",
          "height": 265
        },
        "id": "xm6QqkjBSlrd",
        "outputId": "3e056d1d-26d4-408c-edf6-ee3c72597f5c"
      },
      "outputs": [
        {
          "data": {
            "image/png": "[encoded data removed]",
            "text/plain": [
              "<Figure size 432x288 with 1 Axes>"
            ]
          },
          "metadata": {},
          "output_type": "display_data"
        }
      ],
      "source": [
        "X = np.linspace(0.1, 0.9, 9)\n",
        "plt.plot(X, accuracies, label=\"accuracy\")\n",
        "plt.plot(X, recalls, label='recall')\n",
        "plt.plot(X, precisions, label='precision')\n",
        "plt.plot(X, f1s, label='f1 score')\n",
        "plt.legend()\n",
        "plt.show()"
      ]
    },
    {
      "cell_type": "code",
      "execution_count": null,
      "metadata": {
        "id": "5PwPA7vIWHK2"
      },
      "outputs": [],
      "source": [
        "results = pd.concat(results)"
      ]
    },
    {
      "cell_type": "code",
      "execution_count": null,
      "metadata": {
        "id": "I2_ST8VNWJ0v"
      },
      "outputs": [],
      "source": [
        "results.insert(0, \"Threshold\", X, True)"
      ]
    },
    {
      "cell_type": "code",
      "execution_count": null,
      "metadata": {
        "id": "mmPuA6mDWKXO"
      },
      "outputs": [],
      "source": [
        "results = results.reset_index(drop=True)"
      ]
    },
    {
      "cell_type": "code",
      "execution_count": null,
      "metadata": {
        "id": "rZzrwpp1WNv_"
      },
      "outputs": [],
      "source": [
        "pd.set_option('precision', 3)"
      ]
    },
    {
      "cell_type": "code",
      "execution_count": null,
      "metadata": {
        "colab": {
          "base_uri": "https://localhost:8080/",
          "height": 316
        },
        "id": "wbvBfdXDWScs",
        "outputId": "30a85b5e-6008-47e0-b590-881b9cf4d76b"
      },
      "outputs": [
        {
          "data": {
            "text/html": [
              "<style type=\"text/css\">\n",
              "#T_44d0e_row0_col3, #T_44d0e_row0_col7, #T_44d0e_row0_col9, #T_44d0e_row0_col10, #T_44d0e_row2_col11, #T_44d0e_row4_col1, #T_44d0e_row4_col5, #T_44d0e_row5_col1, #T_44d0e_row5_col4, #T_44d0e_row5_col5, #T_44d0e_row6_col1, #T_44d0e_row6_col2, #T_44d0e_row6_col4, #T_44d0e_row6_col5, #T_44d0e_row6_col6, #T_44d0e_row7_col2, #T_44d0e_row7_col6, #T_44d0e_row7_col8, #T_44d0e_row8_col0, #T_44d0e_row8_col2, #T_44d0e_row8_col6, #T_44d0e_row8_col8 {\n",
              "  background-color: black;\n",
              "}\n",
              "</style>\n",
              "<table id=\"T_44d0e_\" class=\"dataframe\">\n",
              "  <thead>\n",
              "    <tr>\n",
              "      <th class=\"blank level0\" >&nbsp;</th>\n",
              "      <th class=\"col_heading level0 col0\" >Threshold</th>\n",
              "      <th class=\"col_heading level0 col1\" >Accuracy</th>\n",
              "      <th class=\"col_heading level0 col2\" >Precision (or PPV)</th>\n",
              "      <th class=\"col_heading level0 col3\" >Recall (senitivity or TPR)</th>\n",
              "      <th class=\"col_heading level0 col4\" >f1 score</th>\n",
              "      <th class=\"col_heading level0 col5\" >AUC_ROC</th>\n",
              "      <th class=\"col_heading level0 col6\" >Specificty (or TNR)</th>\n",
              "      <th class=\"col_heading level0 col7\" >NPV</th>\n",
              "      <th class=\"col_heading level0 col8\" >True Positive</th>\n",
              "      <th class=\"col_heading level0 col9\" >True Negative</th>\n",
              "      <th class=\"col_heading level0 col10\" >False Positive</th>\n",
              "      <th class=\"col_heading level0 col11\" >False Negative</th>\n",
              "    </tr>\n",
              "  </thead>\n",
              "  <tbody>\n",
              "    <tr>\n",
              "      <th id=\"T_44d0e_level0_row0\" class=\"row_heading level0 row0\" >0</th>\n",
              "      <td id=\"T_44d0e_row0_col0\" class=\"data row0 col0\" >0.100</td>\n",
              "      <td id=\"T_44d0e_row0_col1\" class=\"data row0 col1\" >0.900</td>\n",
              "      <td id=\"T_44d0e_row0_col2\" class=\"data row0 col2\" >0.840</td>\n",
              "      <td id=\"T_44d0e_row0_col3\" class=\"data row0 col3\" >0.980</td>\n",
              "      <td id=\"T_44d0e_row0_col4\" class=\"data row0 col4\" >0.900</td>\n",
              "      <td id=\"T_44d0e_row0_col5\" class=\"data row0 col5\" >0.900</td>\n",
              "      <td id=\"T_44d0e_row0_col6\" class=\"data row0 col6\" >0.840</td>\n",
              "      <td id=\"T_44d0e_row0_col7\" class=\"data row0 col7\" >0.980</td>\n",
              "      <td id=\"T_44d0e_row0_col8\" class=\"data row0 col8\" >166</td>\n",
              "      <td id=\"T_44d0e_row0_col9\" class=\"data row0 col9\" >194</td>\n",
              "      <td id=\"T_44d0e_row0_col10\" class=\"data row0 col10\" >36</td>\n",
              "      <td id=\"T_44d0e_row0_col11\" class=\"data row0 col11\" >4</td>\n",
              "    </tr>\n",
              "    <tr>\n",
              "      <th id=\"T_44d0e_level0_row1\" class=\"row_heading level0 row1\" >1</th>\n",
              "      <td id=\"T_44d0e_row1_col0\" class=\"data row1 col0\" >0.200</td>\n",
              "      <td id=\"T_44d0e_row1_col1\" class=\"data row1 col1\" >0.930</td>\n",
              "      <td id=\"T_44d0e_row1_col2\" class=\"data row1 col2\" >0.900</td>\n",
              "      <td id=\"T_44d0e_row1_col3\" class=\"data row1 col3\" >0.960</td>\n",
              "      <td id=\"T_44d0e_row1_col4\" class=\"data row1 col4\" >0.930</td>\n",
              "      <td id=\"T_44d0e_row1_col5\" class=\"data row1 col5\" >0.930</td>\n",
              "      <td id=\"T_44d0e_row1_col6\" class=\"data row1 col6\" >0.900</td>\n",
              "      <td id=\"T_44d0e_row1_col7\" class=\"data row1 col7\" >0.960</td>\n",
              "      <td id=\"T_44d0e_row1_col8\" class=\"data row1 col8\" >181</td>\n",
              "      <td id=\"T_44d0e_row1_col9\" class=\"data row1 col9\" >191</td>\n",
              "      <td id=\"T_44d0e_row1_col10\" class=\"data row1 col10\" >21</td>\n",
              "      <td id=\"T_44d0e_row1_col11\" class=\"data row1 col11\" >7</td>\n",
              "    </tr>\n",
              "    <tr>\n",
              "      <th id=\"T_44d0e_level0_row2\" class=\"row_heading level0 row2\" >2</th>\n",
              "      <td id=\"T_44d0e_row2_col0\" class=\"data row2 col0\" >0.300</td>\n",
              "      <td id=\"T_44d0e_row2_col1\" class=\"data row2 col1\" >0.870</td>\n",
              "      <td id=\"T_44d0e_row2_col2\" class=\"data row2 col2\" >0.910</td>\n",
              "      <td id=\"T_44d0e_row2_col3\" class=\"data row2 col3\" >0.820</td>\n",
              "      <td id=\"T_44d0e_row2_col4\" class=\"data row2 col4\" >0.860</td>\n",
              "      <td id=\"T_44d0e_row2_col5\" class=\"data row2 col5\" >0.870</td>\n",
              "      <td id=\"T_44d0e_row2_col6\" class=\"data row2 col6\" >0.910</td>\n",
              "      <td id=\"T_44d0e_row2_col7\" class=\"data row2 col7\" >0.820</td>\n",
              "      <td id=\"T_44d0e_row2_col8\" class=\"data row2 col8\" >186</td>\n",
              "      <td id=\"T_44d0e_row2_col9\" class=\"data row2 col9\" >163</td>\n",
              "      <td id=\"T_44d0e_row2_col10\" class=\"data row2 col10\" >16</td>\n",
              "      <td id=\"T_44d0e_row2_col11\" class=\"data row2 col11\" >35</td>\n",
              "    </tr>\n",
              "    <tr>\n",
              "      <th id=\"T_44d0e_level0_row3\" class=\"row_heading level0 row3\" >3</th>\n",
              "      <td id=\"T_44d0e_row3_col0\" class=\"data row3 col0\" >0.400</td>\n",
              "      <td id=\"T_44d0e_row3_col1\" class=\"data row3 col1\" >0.930</td>\n",
              "      <td id=\"T_44d0e_row3_col2\" class=\"data row3 col2\" >0.930</td>\n",
              "      <td id=\"T_44d0e_row3_col3\" class=\"data row3 col3\" >0.940</td>\n",
              "      <td id=\"T_44d0e_row3_col4\" class=\"data row3 col4\" >0.930</td>\n",
              "      <td id=\"T_44d0e_row3_col5\" class=\"data row3 col5\" >0.930</td>\n",
              "      <td id=\"T_44d0e_row3_col6\" class=\"data row3 col6\" >0.930</td>\n",
              "      <td id=\"T_44d0e_row3_col7\" class=\"data row3 col7\" >0.940</td>\n",
              "      <td id=\"T_44d0e_row3_col8\" class=\"data row3 col8\" >187</td>\n",
              "      <td id=\"T_44d0e_row3_col9\" class=\"data row3 col9\" >186</td>\n",
              "      <td id=\"T_44d0e_row3_col10\" class=\"data row3 col10\" >15</td>\n",
              "      <td id=\"T_44d0e_row3_col11\" class=\"data row3 col11\" >12</td>\n",
              "    </tr>\n",
              "    <tr>\n",
              "      <th id=\"T_44d0e_level0_row4\" class=\"row_heading level0 row4\" >4</th>\n",
              "      <td id=\"T_44d0e_row4_col0\" class=\"data row4 col0\" >0.500</td>\n",
              "      <td id=\"T_44d0e_row4_col1\" class=\"data row4 col1\" >0.940</td>\n",
              "      <td id=\"T_44d0e_row4_col2\" class=\"data row4 col2\" >0.950</td>\n",
              "      <td id=\"T_44d0e_row4_col3\" class=\"data row4 col3\" >0.920</td>\n",
              "      <td id=\"T_44d0e_row4_col4\" class=\"data row4 col4\" >0.930</td>\n",
              "      <td id=\"T_44d0e_row4_col5\" class=\"data row4 col5\" >0.940</td>\n",
              "      <td id=\"T_44d0e_row4_col6\" class=\"data row4 col6\" >0.950</td>\n",
              "      <td id=\"T_44d0e_row4_col7\" class=\"data row4 col7\" >0.920</td>\n",
              "      <td id=\"T_44d0e_row4_col8\" class=\"data row4 col8\" >192</td>\n",
              "      <td id=\"T_44d0e_row4_col9\" class=\"data row4 col9\" >183</td>\n",
              "      <td id=\"T_44d0e_row4_col10\" class=\"data row4 col10\" >10</td>\n",
              "      <td id=\"T_44d0e_row4_col11\" class=\"data row4 col11\" >15</td>\n",
              "    </tr>\n",
              "    <tr>\n",
              "      <th id=\"T_44d0e_level0_row5\" class=\"row_heading level0 row5\" >5</th>\n",
              "      <td id=\"T_44d0e_row5_col0\" class=\"data row5 col0\" >0.600</td>\n",
              "      <td id=\"T_44d0e_row5_col1\" class=\"data row5 col1\" >0.940</td>\n",
              "      <td id=\"T_44d0e_row5_col2\" class=\"data row5 col2\" >0.960</td>\n",
              "      <td id=\"T_44d0e_row5_col3\" class=\"data row5 col3\" >0.920</td>\n",
              "      <td id=\"T_44d0e_row5_col4\" class=\"data row5 col4\" >0.940</td>\n",
              "      <td id=\"T_44d0e_row5_col5\" class=\"data row5 col5\" >0.940</td>\n",
              "      <td id=\"T_44d0e_row5_col6\" class=\"data row5 col6\" >0.960</td>\n",
              "      <td id=\"T_44d0e_row5_col7\" class=\"data row5 col7\" >0.920</td>\n",
              "      <td id=\"T_44d0e_row5_col8\" class=\"data row5 col8\" >194</td>\n",
              "      <td id=\"T_44d0e_row5_col9\" class=\"data row5 col9\" >183</td>\n",
              "      <td id=\"T_44d0e_row5_col10\" class=\"data row5 col10\" >8</td>\n",
              "      <td id=\"T_44d0e_row5_col11\" class=\"data row5 col11\" >15</td>\n",
              "    </tr>\n",
              "    <tr>\n",
              "      <th id=\"T_44d0e_level0_row6\" class=\"row_heading level0 row6\" >6</th>\n",
              "      <td id=\"T_44d0e_row6_col0\" class=\"data row6 col0\" >0.700</td>\n",
              "      <td id=\"T_44d0e_row6_col1\" class=\"data row6 col1\" >0.940</td>\n",
              "      <td id=\"T_44d0e_row6_col2\" class=\"data row6 col2\" >0.980</td>\n",
              "      <td id=\"T_44d0e_row6_col3\" class=\"data row6 col3\" >0.900</td>\n",
              "      <td id=\"T_44d0e_row6_col4\" class=\"data row6 col4\" >0.940</td>\n",
              "      <td id=\"T_44d0e_row6_col5\" class=\"data row6 col5\" >0.940</td>\n",
              "      <td id=\"T_44d0e_row6_col6\" class=\"data row6 col6\" >0.980</td>\n",
              "      <td id=\"T_44d0e_row6_col7\" class=\"data row6 col7\" >0.900</td>\n",
              "      <td id=\"T_44d0e_row6_col8\" class=\"data row6 col8\" >198</td>\n",
              "      <td id=\"T_44d0e_row6_col9\" class=\"data row6 col9\" >179</td>\n",
              "      <td id=\"T_44d0e_row6_col10\" class=\"data row6 col10\" >4</td>\n",
              "      <td id=\"T_44d0e_row6_col11\" class=\"data row6 col11\" >19</td>\n",
              "    </tr>\n",
              "    <tr>\n",
              "      <th id=\"T_44d0e_level0_row7\" class=\"row_heading level0 row7\" >7</th>\n",
              "      <td id=\"T_44d0e_row7_col0\" class=\"data row7 col0\" >0.800</td>\n",
              "      <td id=\"T_44d0e_row7_col1\" class=\"data row7 col1\" >0.930</td>\n",
              "      <td id=\"T_44d0e_row7_col2\" class=\"data row7 col2\" >0.980</td>\n",
              "      <td id=\"T_44d0e_row7_col3\" class=\"data row7 col3\" >0.870</td>\n",
              "      <td id=\"T_44d0e_row7_col4\" class=\"data row7 col4\" >0.920</td>\n",
              "      <td id=\"T_44d0e_row7_col5\" class=\"data row7 col5\" >0.930</td>\n",
              "      <td id=\"T_44d0e_row7_col6\" class=\"data row7 col6\" >0.980</td>\n",
              "      <td id=\"T_44d0e_row7_col7\" class=\"data row7 col7\" >0.870</td>\n",
              "      <td id=\"T_44d0e_row7_col8\" class=\"data row7 col8\" >199</td>\n",
              "      <td id=\"T_44d0e_row7_col9\" class=\"data row7 col9\" >173</td>\n",
              "      <td id=\"T_44d0e_row7_col10\" class=\"data row7 col10\" >3</td>\n",
              "      <td id=\"T_44d0e_row7_col11\" class=\"data row7 col11\" >25</td>\n",
              "    </tr>\n",
              "    <tr>\n",
              "      <th id=\"T_44d0e_level0_row8\" class=\"row_heading level0 row8\" >8</th>\n",
              "      <td id=\"T_44d0e_row8_col0\" class=\"data row8 col0\" >0.900</td>\n",
              "      <td id=\"T_44d0e_row8_col1\" class=\"data row8 col1\" >0.920</td>\n",
              "      <td id=\"T_44d0e_row8_col2\" class=\"data row8 col2\" >0.980</td>\n",
              "      <td id=\"T_44d0e_row8_col3\" class=\"data row8 col3\" >0.850</td>\n",
              "      <td id=\"T_44d0e_row8_col4\" class=\"data row8 col4\" >0.910</td>\n",
              "      <td id=\"T_44d0e_row8_col5\" class=\"data row8 col5\" >0.920</td>\n",
              "      <td id=\"T_44d0e_row8_col6\" class=\"data row8 col6\" >0.980</td>\n",
              "      <td id=\"T_44d0e_row8_col7\" class=\"data row8 col7\" >0.850</td>\n",
              "      <td id=\"T_44d0e_row8_col8\" class=\"data row8 col8\" >199</td>\n",
              "      <td id=\"T_44d0e_row8_col9\" class=\"data row8 col9\" >168</td>\n",
              "      <td id=\"T_44d0e_row8_col10\" class=\"data row8 col10\" >3</td>\n",
              "      <td id=\"T_44d0e_row8_col11\" class=\"data row8 col11\" >30</td>\n",
              "    </tr>\n",
              "  </tbody>\n",
              "</table>\n"
            ],
            "text/plain": [
              "<pandas.io.formats.style.Styler at 0x7f4eb9937190>"
            ]
          },
          "execution_count": 52,
          "metadata": {},
          "output_type": "execute_result"
        }
      ],
      "source": [
        "results.style.highlight_max(color = 'black')"
      ]
    },
    {
      "cell_type": "code",
      "execution_count": null,
      "metadata": {
        "colab": {
          "base_uri": "https://localhost:8080/",
          "height": 150
        },
        "id": "ycg4iKgh8lfV",
        "outputId": "5f79869d-9fd1-4ff2-c421-9616fcee2d24"
      },
      "outputs": [
        {
          "name": "stdout",
          "output_type": "stream",
          "text": [
            "threshold - 0.3\n"
          ]
        },
        {
          "data": {
            "text/html": [
              "\n",
              "  <div id=\"df-cdc23488-25b8-44f6-bbbb-8a0cdc7ab1f1\">\n",
              "    <div class=\"colab-df-container\">\n",
              "      <div>\n",
              "<style scoped>\n",
              "    .dataframe tbody tr th:only-of-type {\n",
              "        vertical-align: middle;\n",
              "    }\n",
              "\n",
              "    .dataframe tbody tr th {\n",
              "        vertical-align: top;\n",
              "    }\n",
              "\n",
              "    .dataframe thead th {\n",
              "        text-align: right;\n",
              "    }\n",
              "</style>\n",
              "<table border=\"1\" class=\"dataframe\">\n",
              "  <thead>\n",
              "    <tr style=\"text-align: right;\">\n",
              "      <th></th>\n",
              "      <th>Accuracy</th>\n",
              "      <th>Precision (or PPV)</th>\n",
              "      <th>Recall (senitivity or TPR)</th>\n",
              "      <th>f1 score</th>\n",
              "      <th>AUC_ROC</th>\n",
              "      <th>Specificty (or TNR)</th>\n",
              "      <th>NPV</th>\n",
              "      <th>True Positive</th>\n",
              "      <th>True Negative</th>\n",
              "      <th>False Positive</th>\n",
              "      <th>False Negative</th>\n",
              "    </tr>\n",
              "  </thead>\n",
              "  <tbody>\n",
              "    <tr>\n",
              "      <th>0</th>\n",
              "      <td>0.87</td>\n",
              "      <td>0.91</td>\n",
              "      <td>0.82</td>\n",
              "      <td>0.86</td>\n",
              "      <td>0.87</td>\n",
              "      <td>0.91</td>\n",
              "      <td>0.82</td>\n",
              "      <td>186</td>\n",
              "      <td>163</td>\n",
              "      <td>16</td>\n",
              "      <td>35</td>\n",
              "    </tr>\n",
              "  </tbody>\n",
              "</table>\n",
              "</div>\n",
              "      <button class=\"colab-df-convert\" onclick=\"convertToInteractive('df-cdc23488-25b8-44f6-bbbb-8a0cdc7ab1f1')\"\n",
              "              title=\"Convert this dataframe to an interactive table.\"\n",
              "              style=\"display:none;\">\n",
              "        \n",
              "  <svg xmlns=\"http://www.w3.org/2000/svg\" height=\"24px\"viewBox=\"0 0 24 24\"\n",
              "       width=\"24px\">\n",
              "    <path d=\"M0 0h24v24H0V0z\" fill=\"none\"/>\n",
              "    <path d=\"M18.56 5.44l.94 2.06.94-2.06 2.06-.94-2.06-.94-.94-2.06-.94 2.06-2.06.94zm-11 1L8.5 8.5l.94-2.06 2.06-.94-2.06-.94L8.5 2.5l-.94 2.06-2.06.94zm10 10l.94 2.06.94-2.06 2.06-.94-2.06-.94-.94-2.06-.94 2.06-2.06.94z\"/><path d=\"M17.41 7.96l-1.37-1.37c-.4-.4-.92-.59-1.43-.59-.52 0-1.04.2-1.43.59L10.3 9.45l-7.72 7.72c-.78.78-.78 2.05 0 2.83L4 21.41c.39.39.9.59 1.41.59.51 0 1.02-.2 1.41-.59l7.78-7.78 2.81-2.81c.8-.78.8-2.07 0-2.86zM5.41 20L4 18.59l7.72-7.72 1.47 1.35L5.41 20z\"/>\n",
              "  </svg>\n",
              "      </button>\n",
              "      \n",
              "  <style>\n",
              "    .colab-df-container {\n",
              "      display:flex;\n",
              "      flex-wrap:wrap;\n",
              "      gap: 12px;\n",
              "    }\n",
              "\n",
              "    .colab-df-convert {\n",
              "      background-color: #E8F0FE;\n",
              "      border: none;\n",
              "      border-radius: 50%;\n",
              "      cursor: pointer;\n",
              "      display: none;\n",
              "      fill: #1967D2;\n",
              "      height: 32px;\n",
              "      padding: 0 0 0 0;\n",
              "      width: 32px;\n",
              "    }\n",
              "\n",
              "    .colab-df-convert:hover {\n",
              "      background-color: #E2EBFA;\n",
              "      box-shadow: 0px 1px 2px rgba(60, 64, 67, 0.3), 0px 1px 3px 1px rgba(60, 64, 67, 0.15);\n",
              "      fill: #174EA6;\n",
              "    }\n",
              "\n",
              "    [theme=dark] .colab-df-convert {\n",
              "      background-color: #3B4455;\n",
              "      fill: #D2E3FC;\n",
              "    }\n",
              "\n",
              "    [theme=dark] .colab-df-convert:hover {\n",
              "      background-color: #434B5C;\n",
              "      box-shadow: 0px 1px 3px 1px rgba(0, 0, 0, 0.15);\n",
              "      filter: drop-shadow(0px 1px 2px rgba(0, 0, 0, 0.3));\n",
              "      fill: #FFFFFF;\n",
              "    }\n",
              "  </style>\n",
              "\n",
              "      <script>\n",
              "        const buttonEl =\n",
              "          document.querySelector('#df-cdc23488-25b8-44f6-bbbb-8a0cdc7ab1f1 button.colab-df-convert');\n",
              "        buttonEl.style.display =\n",
              "          google.colab.kernel.accessAllowed ? 'block' : 'none';\n",
              "\n",
              "        async function convertToInteractive(key) {\n",
              "          const element = document.querySelector('#df-cdc23488-25b8-44f6-bbbb-8a0cdc7ab1f1');\n",
              "          const dataTable =\n",
              "            await google.colab.kernel.invokeFunction('convertToInteractive',\n",
              "                                                     [key], {});\n",
              "          if (!dataTable) return;\n",
              "\n",
              "          const docLinkHtml = 'Like what you see? Visit the ' +\n",
              "            '<a target=\"_blank\" href=https://colab.research.google.com/notebooks/data_table.ipynb>data table notebook</a>'\n",
              "            + ' to learn more about interactive tables.';\n",
              "          element.innerHTML = '';\n",
              "          dataTable['output_type'] = 'display_data';\n",
              "          await google.colab.output.renderOutput(dataTable, element);\n",
              "          const docLink = document.createElement('div');\n",
              "          docLink.innerHTML = docLinkHtml;\n",
              "          element.appendChild(docLink);\n",
              "        }\n",
              "      </script>\n",
              "    </div>\n",
              "  </div>\n",
              "  "
            ],
            "text/plain": [
              "   Accuracy  Precision (or PPV)  Recall (senitivity or TPR)  f1 score  \\\n",
              "0      0.87                0.91                        0.82      0.86   \n",
              "\n",
              "   AUC_ROC  Specificty (or TNR)   NPV  True Positive  True Negative  \\\n",
              "0     0.87                 0.91  0.82            186            163   \n",
              "\n",
              "   False Positive  False Negative  \n",
              "0              16              35  "
            ]
          },
          "metadata": {},
          "output_type": "display_data"
        }
      ],
      "source": [
        "y_pred = ensemble.predict([X_test, X_test, X_test])\n",
        "y_pred[y_pred > 0.3] = 1.0\n",
        "y_pred[y_pred <= 0.3] = 0.0\n",
        "print(\"threshold - 0.3\")\n",
        "result9 = binary_classification_performance(y_test_enc, y_pred)\n",
        "display(binary_classification_performance(y_test_enc, y_pred))"
      ]
    }
  ],
  "metadata": {
    "accelerator": "GPU",
    "colab": {
      "collapsed_sections": [],
      "name": "covidDataset_D5_final_implementation.ipynb",
      "provenance": []
    },
    "kernelspec": {
      "display_name": "Python 3",
      "language": "python",
      "name": "python3"
    },
    "language_info": {
      "codemirror_mode": {
        "name": "ipython",
        "version": 3
      },
      "file_extension": ".py",
      "mimetype": "text/x-python",
      "name": "python",
      "nbconvert_exporter": "python",
      "pygments_lexer": "ipython3",
      "version": "3.8.10"
    }
  },
  "nbformat": 4,
  "nbformat_minor": 0
}