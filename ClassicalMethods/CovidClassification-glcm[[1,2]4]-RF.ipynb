{
 "cells": [
  {
   "cell_type": "code",
   "execution_count": 1,
   "id": "25bd5c35",
   "metadata": {
    "execution": {
     "iopub.execute_input": "2022-11-20T17:04:28.758642Z",
     "iopub.status.busy": "2022-11-20T17:04:28.758174Z",
     "iopub.status.idle": "2022-11-20T17:04:28.768969Z",
     "shell.execute_reply": "2022-11-20T17:04:28.767917Z"
    },
    "id": "oxPLBm2N7pdp",
    "papermill": {
     "duration": 0.02836,
     "end_time": "2022-11-20T17:04:28.771697",
     "exception": false,
     "start_time": "2022-11-20T17:04:28.743337",
     "status": "completed"
    },
    "tags": []
   },
   "outputs": [],
   "source": [
    "import numpy as np\n",
    "import matplotlib.pyplot as plt\n",
    "import time"
   ]
  },
  {
   "cell_type": "markdown",
   "id": "656178d0",
   "metadata": {
    "id": "T-mzrRD17Ff_",
    "papermill": {
     "duration": 0.012376,
     "end_time": "2022-11-20T17:04:28.795411",
     "exception": false,
     "start_time": "2022-11-20T17:04:28.783035",
     "status": "completed"
    },
    "tags": []
   },
   "source": [
    "Load COVID-19 data"
   ]
  },
  {
   "cell_type": "code",
   "execution_count": 2,
   "id": "a74e8ea0",
   "metadata": {
    "execution": {
     "iopub.execute_input": "2022-11-20T17:04:28.819029Z",
     "iopub.status.busy": "2022-11-20T17:04:28.818584Z",
     "iopub.status.idle": "2022-11-20T17:04:28.822859Z",
     "shell.execute_reply": "2022-11-20T17:04:28.821944Z"
    },
    "id": "JyoJ-ozr7Bc1",
    "outputId": "74c3b317-b935-4063-b795-fa89691d996e",
    "papermill": {
     "duration": 0.018892,
     "end_time": "2022-11-20T17:04:28.825187",
     "exception": false,
     "start_time": "2022-11-20T17:04:28.806295",
     "status": "completed"
    },
    "tags": []
   },
   "outputs": [],
   "source": [
    "# from google.colab import drive\n",
    "# drive.mount('/content/drive')"
   ]
  },
  {
   "cell_type": "code",
   "execution_count": 3,
   "id": "07401948",
   "metadata": {
    "execution": {
     "iopub.execute_input": "2022-11-20T17:04:28.850094Z",
     "iopub.status.busy": "2022-11-20T17:04:28.848909Z",
     "iopub.status.idle": "2022-11-20T17:04:29.400940Z",
     "shell.execute_reply": "2022-11-20T17:04:29.399711Z"
    },
    "id": "30SbkEvO7UjL",
    "outputId": "16f20350-199d-4a48-9e68-6a1e68beaecc",
    "papermill": {
     "duration": 0.567728,
     "end_time": "2022-11-20T17:04:29.404277",
     "exception": false,
     "start_time": "2022-11-20T17:04:28.836549",
     "status": "completed"
    },
    "tags": []
   },
   "outputs": [
    {
     "name": "stdout",
     "output_type": "stream",
     "text": [
      "2481\n",
      "2481\n"
     ]
    }
   ],
   "source": [
    "# datapath = \"/content/drive/MyDrive/covidDataset/dataset\"\n",
    "datapath = \"../input/coviddataset-nosplit/covidDataset\" # kaggle\n",
    "\n",
    "\n",
    "import pathlib\n",
    "def get_imagepath_and_labels(datapath):\n",
    "    data_root = pathlib.Path(datapath)\n",
    "    all_image_path = [str(path) for path in list(data_root.glob('*/*'))]\n",
    "\n",
    "    all_image_label = [pathlib.Path(single_image_path).parent.name for single_image_path in all_image_path]\n",
    "\n",
    "    return all_image_path, all_image_label\n",
    "\n",
    "all_image_path, all_image_label = get_imagepath_and_labels(datapath)\n",
    "print(len(all_image_path))\n",
    "print(len(all_image_label))"
   ]
  },
  {
   "cell_type": "code",
   "execution_count": 4,
   "id": "eea33f1c",
   "metadata": {
    "execution": {
     "iopub.execute_input": "2022-11-20T17:04:29.432305Z",
     "iopub.status.busy": "2022-11-20T17:04:29.431921Z",
     "iopub.status.idle": "2022-11-20T17:04:29.435670Z",
     "shell.execute_reply": "2022-11-20T17:04:29.434947Z"
    },
    "id": "a4GLa4J-Udw4",
    "papermill": {
     "duration": 0.0185,
     "end_time": "2022-11-20T17:04:29.437735",
     "exception": false,
     "start_time": "2022-11-20T17:04:29.419235",
     "status": "completed"
    },
    "tags": []
   },
   "outputs": [],
   "source": [
    "# images = all_image_path[:10]+all_image_path[2471:]\n",
    "# labels = all_image_label[:10]+all_image_label[2471:]"
   ]
  },
  {
   "cell_type": "code",
   "execution_count": 5,
   "id": "ee289efc",
   "metadata": {
    "execution": {
     "iopub.execute_input": "2022-11-20T17:04:29.462052Z",
     "iopub.status.busy": "2022-11-20T17:04:29.461598Z",
     "iopub.status.idle": "2022-11-20T17:05:03.211379Z",
     "shell.execute_reply": "2022-11-20T17:05:03.209970Z"
    },
    "id": "x5U7Dsbv7hue",
    "outputId": "8a7711a0-6cf7-407d-8fe8-b0d339302b57",
    "papermill": {
     "duration": 33.775789,
     "end_time": "2022-11-20T17:05:03.224853",
     "exception": false,
     "start_time": "2022-11-20T17:04:29.449064",
     "status": "completed"
    },
    "tags": []
   },
   "outputs": [
    {
     "name": "stdout",
     "output_type": "stream",
     "text": [
      "--- 33.5189573764801 seconds ---\n"
     ]
    }
   ],
   "source": [
    "import numpy as np\n",
    "import cv2\n",
    "\n",
    "def get_images_and_labels_astensor(image_path, image_labels, channels):\n",
    "    images = []\n",
    "    labels = []\n",
    "    for i in range(0, len(image_path)):\n",
    "        image = image_astensor(image_path[i], channels=channels)\n",
    "        images.append(image)\n",
    "        labels.append(image_labels[i])\n",
    "    \n",
    "    images = np.array(images)\n",
    "    labels = np.array(labels)\n",
    "    return images, labels\n",
    "\n",
    "def image_astensor(image_path, channels):\n",
    "        image = cv2.imread(image_path, cv2.IMREAD_GRAYSCALE)\n",
    "        image = cv2.resize(image, (180, 180), interpolation= cv2.INTER_LINEAR)\n",
    "        image = np.array(image).astype('float32')\n",
    "        image = image / 255\n",
    "\n",
    "        return image\n",
    "\n",
    "start_time = time.time()\n",
    "images, labels = get_images_and_labels_astensor(all_image_path, all_image_label, channels=1)\n",
    "# images, labels = get_images_and_labels_astensor(images, labels, channels=1)\n",
    "print(\"--- %s seconds ---\" % (time.time() - start_time))"
   ]
  },
  {
   "cell_type": "code",
   "execution_count": 6,
   "id": "bd7c4e21",
   "metadata": {
    "execution": {
     "iopub.execute_input": "2022-11-20T17:05:03.249001Z",
     "iopub.status.busy": "2022-11-20T17:05:03.248588Z",
     "iopub.status.idle": "2022-11-20T17:05:03.257227Z",
     "shell.execute_reply": "2022-11-20T17:05:03.255751Z"
    },
    "id": "3ku0ijHZVF1Q",
    "outputId": "a337a544-7a47-45d8-f75c-66b913943e1f",
    "papermill": {
     "duration": 0.024323,
     "end_time": "2022-11-20T17:05:03.260393",
     "exception": false,
     "start_time": "2022-11-20T17:05:03.236070",
     "status": "completed"
    },
    "tags": []
   },
   "outputs": [
    {
     "name": "stdout",
     "output_type": "stream",
     "text": [
      "(array(['COVID', 'non-COVID'], dtype='<U9'), array([1252, 1229]))\n"
     ]
    }
   ],
   "source": [
    "print(np.unique(labels, return_counts=True))"
   ]
  },
  {
   "cell_type": "code",
   "execution_count": 7,
   "id": "60b92070",
   "metadata": {
    "execution": {
     "iopub.execute_input": "2022-11-20T17:05:03.286163Z",
     "iopub.status.busy": "2022-11-20T17:05:03.285313Z",
     "iopub.status.idle": "2022-11-20T17:05:03.510468Z",
     "shell.execute_reply": "2022-11-20T17:05:03.509139Z"
    },
    "id": "cn_PTnxp9kSy",
    "outputId": "87a5da43-a409-472d-9700-02c2a25892a5",
    "papermill": {
     "duration": 0.240859,
     "end_time": "2022-11-20T17:05:03.513354",
     "exception": false,
     "start_time": "2022-11-20T17:05:03.272495",
     "status": "completed"
    },
    "tags": []
   },
   "outputs": [
    {
     "name": "stdout",
     "output_type": "stream",
     "text": [
      "(180, 180)\n",
      "0.21568628\n",
      "1.0\n",
      "float32\n"
     ]
    },
    {
     "data": {
      "image/png": "[encoded data removed]",
      "text/plain": [
       "<Figure size 432x288 with 1 Axes>"
      ]
     },
     "metadata": {
      "needs_background": "light"
     },
     "output_type": "display_data"
    }
   ],
   "source": [
    "print(np.shape(images[1]))\n",
    "print(np.amin(images[1]))\n",
    "print(np.amax(images[1]))\n",
    "print(images[1].dtype)\n",
    "\n",
    "plt.imshow(images[1], cmap='gray')\n",
    "plt.title(\"Original Image\")\n",
    "plt.show()"
   ]
  },
  {
   "cell_type": "code",
   "execution_count": 8,
   "id": "a1a78451",
   "metadata": {
    "execution": {
     "iopub.execute_input": "2022-11-20T17:05:03.540978Z",
     "iopub.status.busy": "2022-11-20T17:05:03.539916Z",
     "iopub.status.idle": "2022-11-20T17:05:03.825805Z",
     "shell.execute_reply": "2022-11-20T17:05:03.824627Z"
    },
    "id": "ZiHYtx6n-T5a",
    "papermill": {
     "duration": 0.302568,
     "end_time": "2022-11-20T17:05:03.828572",
     "exception": false,
     "start_time": "2022-11-20T17:05:03.526004",
     "status": "completed"
    },
    "tags": []
   },
   "outputs": [],
   "source": [
    "import pywt\n",
    "from matplotlib import pyplot as plt"
   ]
  },
  {
   "cell_type": "code",
   "execution_count": 9,
   "id": "1e0c5b02",
   "metadata": {
    "execution": {
     "iopub.execute_input": "2022-11-20T17:05:03.856300Z",
     "iopub.status.busy": "2022-11-20T17:05:03.855007Z",
     "iopub.status.idle": "2022-11-20T17:05:03.863306Z",
     "shell.execute_reply": "2022-11-20T17:05:03.862231Z"
    },
    "id": "4RLm4Vk84Cus",
    "papermill": {
     "duration": 0.0245,
     "end_time": "2022-11-20T17:05:03.865674",
     "exception": false,
     "start_time": "2022-11-20T17:05:03.841174",
     "status": "completed"
    },
    "tags": []
   },
   "outputs": [],
   "source": [
    " def decompose_images(images):\n",
    "    decomposed_images = []\n",
    "    for i in images:\n",
    "      a, b ,c, d = get_coeffs(i)\n",
    "      e, f, g, h = get_coeffs(a)\n",
    "#       j, k, l, m = get_coeffs(e)\n",
    "#       decomposed_images.append([ b, c, d, f, g, h, k, l, m])\n",
    "      decomposed_images.append([ b, c, d, f, g, h])\n",
    "    return decomposed_images\n",
    "\n",
    "def get_coeffs(image):\n",
    "    coeffs = pywt.dwt2(image,'bior4.4', mode='periodization', axes=(-2, -1))\n",
    "    cA, (cH, cV, cD) = coeffs\n",
    "    return cA, cH, cV, cD"
   ]
  },
  {
   "cell_type": "code",
   "execution_count": 10,
   "id": "eb7bb512",
   "metadata": {
    "execution": {
     "iopub.execute_input": "2022-11-20T17:05:03.892726Z",
     "iopub.status.busy": "2022-11-20T17:05:03.891982Z",
     "iopub.status.idle": "2022-11-20T17:05:08.092813Z",
     "shell.execute_reply": "2022-11-20T17:05:08.091509Z"
    },
    "id": "7NydMnVi59-t",
    "outputId": "e77f1df2-ad3d-46b6-e656-36de027707ce",
    "papermill": {
     "duration": 4.216936,
     "end_time": "2022-11-20T17:05:08.095143",
     "exception": false,
     "start_time": "2022-11-20T17:05:03.878207",
     "status": "completed"
    },
    "tags": []
   },
   "outputs": [
    {
     "name": "stdout",
     "output_type": "stream",
     "text": [
      "--- 4.189426898956299 seconds ---\n",
      "(2481, 6)\n"
     ]
    }
   ],
   "source": [
    "start_time = time.time()\n",
    "d_images = decompose_images(images)\n",
    "print(\"--- %s seconds ---\" % (time.time() - start_time))\n",
    "\n",
    "d_images = np.array(d_images, dtype=object)\n",
    "print(d_images.shape)"
   ]
  },
  {
   "cell_type": "code",
   "execution_count": 11,
   "id": "c3f86763",
   "metadata": {
    "execution": {
     "iopub.execute_input": "2022-11-20T17:05:08.124532Z",
     "iopub.status.busy": "2022-11-20T17:05:08.124099Z",
     "iopub.status.idle": "2022-11-20T17:05:08.130859Z",
     "shell.execute_reply": "2022-11-20T17:05:08.129621Z"
    },
    "id": "5tD5piTtDsEI",
    "outputId": "03391526-d220-41a8-dbe5-a1a7b186a788",
    "papermill": {
     "duration": 0.025067,
     "end_time": "2022-11-20T17:05:08.133444",
     "exception": false,
     "start_time": "2022-11-20T17:05:08.108377",
     "status": "completed"
    },
    "tags": []
   },
   "outputs": [
    {
     "name": "stdout",
     "output_type": "stream",
     "text": [
      "2481\n",
      "6\n"
     ]
    }
   ],
   "source": [
    "print(d_images.shape[0])\n",
    "print(d_images.shape[1])"
   ]
  },
  {
   "cell_type": "code",
   "execution_count": 12,
   "id": "2a58c9fb",
   "metadata": {
    "execution": {
     "iopub.execute_input": "2022-11-20T17:05:08.160576Z",
     "iopub.status.busy": "2022-11-20T17:05:08.160143Z",
     "iopub.status.idle": "2022-11-20T17:05:08.181022Z",
     "shell.execute_reply": "2022-11-20T17:05:08.179574Z"
    },
    "id": "72ZatMIv1cv9",
    "outputId": "28a60b06-422d-4577-92af-f083b3f7bcbb",
    "papermill": {
     "duration": 0.037572,
     "end_time": "2022-11-20T17:05:08.183711",
     "exception": false,
     "start_time": "2022-11-20T17:05:08.146139",
     "status": "completed"
    },
    "tags": []
   },
   "outputs": [
    {
     "data": {
      "text/plain": [
       "<Figure size 432x288 with 0 Axes>"
      ]
     },
     "metadata": {},
     "output_type": "display_data"
    }
   ],
   "source": [
    "# %run /content/drive/MyDrive/WT-GLCM-NN/haralick_feature_test/haralick_features_V1.03.py\n",
    "%run ../input/haralickfeaturespy/haralick_features_V1.03.py #kaggle"
   ]
  },
  {
   "cell_type": "code",
   "execution_count": 13,
   "id": "f4109b5c",
   "metadata": {
    "execution": {
     "iopub.execute_input": "2022-11-20T17:05:08.212412Z",
     "iopub.status.busy": "2022-11-20T17:05:08.212018Z",
     "iopub.status.idle": "2022-11-20T17:05:09.301016Z",
     "shell.execute_reply": "2022-11-20T17:05:09.299981Z"
    },
    "id": "djrsxEft9mUs",
    "papermill": {
     "duration": 1.106549,
     "end_time": "2022-11-20T17:05:09.303758",
     "exception": false,
     "start_time": "2022-11-20T17:05:08.197209",
     "status": "completed"
    },
    "tags": []
   },
   "outputs": [],
   "source": [
    "# from skimage.feature import greycomatrix\n",
    "from skimage.feature import graycomatrix #kaggle\n",
    "def extract_features(d_images):\n",
    "    feature_vector = []\n",
    "    for i in range(d_images.shape[0]):\n",
    "        feature = []\n",
    "        for j in range(d_images.shape[1]):\n",
    "            image = d_images[i, j].astype(np.uint8)\n",
    "            g = get_glcm(image)\n",
    "            for p in range(g.shape[2]):\n",
    "                for k in range(g.shape[3]):\n",
    "                    feature.append(glcm_features(g[:, :, p, k].reshape(256, 256, 1, 1)))\n",
    "        feature_vector.append(feature)\n",
    "    return feature_vector\n",
    "\n",
    "def glcm_features(glcm):\n",
    "    features = get_haralick_features(glcm)\n",
    "    return features\n",
    "\n",
    "def get_glcm(image):\n",
    "    distances = [1, 2]\n",
    "    # distances = [2, 3]\n",
    "    # angles = [0, np.pi/4, np.pi/2, 3*np.pi/4, np.pi, 5*np.pi/4, 3*np.pi/2, 7*np.pi/4]\n",
    "    # angles = [np.pi/4, 3*np.pi/4, 5*np.pi/4, 7*np.pi/4]\n",
    "    angles = [0, np.pi/4, np.pi/2, 3*np.pi/4]\n",
    "#     glcm = greycomatrix(image, distances, angles, levels = 256)\n",
    "    glcm = graycomatrix(image, distances, angles, levels = 256)\n",
    "    return glcm"
   ]
  },
  {
   "cell_type": "code",
   "execution_count": 14,
   "id": "b4e928cf",
   "metadata": {
    "execution": {
     "iopub.execute_input": "2022-11-20T17:05:09.333819Z",
     "iopub.status.busy": "2022-11-20T17:05:09.333414Z",
     "iopub.status.idle": "2022-11-20T17:05:09.547872Z",
     "shell.execute_reply": "2022-11-20T17:05:09.546494Z"
    },
    "id": "AdGzcWpFV3J_",
    "papermill": {
     "duration": 0.233017,
     "end_time": "2022-11-20T17:05:09.550851",
     "exception": false,
     "start_time": "2022-11-20T17:05:09.317834",
     "status": "completed"
    },
    "tags": []
   },
   "outputs": [],
   "source": [
    "def find_min_max(im):\n",
    "    MAX = 0\n",
    "    MIN = 0\n",
    "    for i in range(im.shape[0]):\n",
    "        for j in range(im.shape[1]):\n",
    "            if MAX < np.amax(im[i][j]):\n",
    "                MAX = np.amax(im[i][j])\n",
    "            else: pass\n",
    "            if MIN > np.amin(im[i][j]):\n",
    "                MIN = np.amin(im[i][j])              \n",
    "    return [MAX, MIN]\n",
    "\n",
    "MAX, MIN = find_min_max(d_images) "
   ]
  },
  {
   "cell_type": "code",
   "execution_count": 15,
   "id": "637d71c5",
   "metadata": {
    "execution": {
     "iopub.execute_input": "2022-11-20T17:05:09.580365Z",
     "iopub.status.busy": "2022-11-20T17:05:09.578310Z",
     "iopub.status.idle": "2022-11-20T17:05:09.585061Z",
     "shell.execute_reply": "2022-11-20T17:05:09.583966Z"
    },
    "id": "RLd8k-04VaO0",
    "outputId": "e8deb3c5-f6a5-46e1-c9a2-457ccb622713",
    "papermill": {
     "duration": 0.023601,
     "end_time": "2022-11-20T17:05:09.587628",
     "exception": false,
     "start_time": "2022-11-20T17:05:09.564027",
     "status": "completed"
    },
    "tags": []
   },
   "outputs": [
    {
     "name": "stdout",
     "output_type": "stream",
     "text": [
      "1.5229372\n",
      "-1.6244205\n"
     ]
    }
   ],
   "source": [
    "print(MAX)\n",
    "print(MIN)"
   ]
  },
  {
   "cell_type": "code",
   "execution_count": 16,
   "id": "168890bf",
   "metadata": {
    "execution": {
     "iopub.execute_input": "2022-11-20T17:05:09.616157Z",
     "iopub.status.busy": "2022-11-20T17:05:09.615458Z",
     "iopub.status.idle": "2022-11-20T17:05:10.433963Z",
     "shell.execute_reply": "2022-11-20T17:05:10.432753Z"
    },
    "id": "1b4sQxDCC_B5",
    "outputId": "f2760b7a-72fe-4b13-b970-eaa716800b66",
    "papermill": {
     "duration": 0.836353,
     "end_time": "2022-11-20T17:05:10.436531",
     "exception": false,
     "start_time": "2022-11-20T17:05:09.600178",
     "status": "completed"
    },
    "tags": []
   },
   "outputs": [
    {
     "name": "stdout",
     "output_type": "stream",
     "text": [
      "(45, 45)\n",
      "177.44096\n",
      "72.85742\n"
     ]
    }
   ],
   "source": [
    "d_images = (d_images+ np.abs(MIN) ) * (1 / (np.abs(MIN) + np.abs(MAX)))  * 255\n",
    "print(d_images[1][4].shape)\n",
    "print(np.amax(d_images[1][4]))\n",
    "print(np.amin(d_images[1][4]))"
   ]
  },
  {
   "cell_type": "code",
   "execution_count": 17,
   "id": "5b40ac07",
   "metadata": {
    "execution": {
     "iopub.execute_input": "2022-11-20T17:05:10.466136Z",
     "iopub.status.busy": "2022-11-20T17:05:10.465704Z",
     "iopub.status.idle": "2022-11-20T21:50:21.153486Z",
     "shell.execute_reply": "2022-11-20T21:50:21.152228Z"
    },
    "id": "0O4khR2rbEfp",
    "outputId": "74a61dfe-9727-4be5-e3b3-be57099f168b",
    "papermill": {
     "duration": 17110.718491,
     "end_time": "2022-11-20T21:50:21.168357",
     "exception": false,
     "start_time": "2022-11-20T17:05:10.449866",
     "status": "completed"
    },
    "tags": []
   },
   "outputs": [
    {
     "name": "stderr",
     "output_type": "stream",
     "text": [
      "/kaggle/input/haralickfeaturespy/haralick_features_V1.03.py:183: RuntimeWarning: invalid value encountered in sqrt\n",
      "  result = np.sqrt(maxlist[1])\n"
     ]
    },
    {
     "name": "stdout",
     "output_type": "stream",
     "text": [
      "--- 17110.35839653015 seconds ---\n",
      "(2481, 48, 15)\n"
     ]
    }
   ],
   "source": [
    "start_time = time.time()\n",
    "group_tensor = extract_features(d_images=d_images)\n",
    "print(\"--- %s seconds ---\" % (time.time() - start_time))\n",
    "\n",
    "f_tensor = np.array(group_tensor, dtype=object)\n",
    "print(f_tensor.shape)"
   ]
  },
  {
   "cell_type": "markdown",
   "id": "8f7b80c9",
   "metadata": {
    "id": "LB9TPp3Jk9GN",
    "papermill": {
     "duration": 0.012312,
     "end_time": "2022-11-20T21:50:21.193239",
     "exception": false,
     "start_time": "2022-11-20T21:50:21.180927",
     "status": "completed"
    },
    "tags": []
   },
   "source": [
    "reshaping the feature matrix to (1, N)"
   ]
  },
  {
   "cell_type": "code",
   "execution_count": 18,
   "id": "f5adaa2d",
   "metadata": {
    "execution": {
     "iopub.execute_input": "2022-11-20T21:50:21.219925Z",
     "iopub.status.busy": "2022-11-20T21:50:21.219486Z",
     "iopub.status.idle": "2022-11-20T21:50:23.562875Z",
     "shell.execute_reply": "2022-11-20T21:50:23.561586Z"
    },
    "id": "mB3d0NcVk8ve",
    "papermill": {
     "duration": 2.359697,
     "end_time": "2022-11-20T21:50:23.565490",
     "exception": false,
     "start_time": "2022-11-20T21:50:21.205793",
     "status": "completed"
    },
    "tags": []
   },
   "outputs": [
    {
     "name": "stdout",
     "output_type": "stream",
     "text": [
      "(2481, 720)\n",
      "17267.8895359564\n",
      "[[-0.32243163]]\n"
     ]
    }
   ],
   "source": [
    "feature_tensor = f_tensor.reshape(f_tensor.shape[0], -1)\n",
    "print(feature_tensor.shape)\n",
    "print(np.amax(feature_tensor))\n",
    "print(np.amin(feature_tensor))"
   ]
  },
  {
   "cell_type": "code",
   "execution_count": 19,
   "id": "325b1f0e",
   "metadata": {
    "execution": {
     "iopub.execute_input": "2022-11-20T21:50:23.593956Z",
     "iopub.status.busy": "2022-11-20T21:50:23.593477Z",
     "iopub.status.idle": "2022-11-20T21:50:25.558445Z",
     "shell.execute_reply": "2022-11-20T21:50:25.557088Z"
    },
    "id": "Y6iIh0iXcW_r",
    "papermill": {
     "duration": 1.982617,
     "end_time": "2022-11-20T21:50:25.561691",
     "exception": false,
     "start_time": "2022-11-20T21:50:23.579074",
     "status": "completed"
    },
    "tags": []
   },
   "outputs": [],
   "source": [
    "# file = \"/content/drive/MyDrive/WT-GLCM-NN/haralick_feature_test/features-[[01, 02,] 4].csv\"\n",
    "file = \"/kaggle/working/features-[[01, 02,] 4].csv\" #kaggle\n",
    "np.savetxt(file, feature_tensor, delimiter=\",\")"
   ]
  },
  {
   "cell_type": "markdown",
   "id": "63770e4a",
   "metadata": {
    "id": "JspdVtfDqvgX",
    "papermill": {
     "duration": 0.013062,
     "end_time": "2022-11-20T21:50:25.592122",
     "exception": false,
     "start_time": "2022-11-20T21:50:25.579060",
     "status": "completed"
    },
    "tags": []
   },
   "source": [
    "Scikit learn deal with Nan values : [reference](https://scikit-learn.org/stable/modules/impute.html#multivariate-feature-imputation)"
   ]
  },
  {
   "cell_type": "code",
   "execution_count": 20,
   "id": "3396d74f",
   "metadata": {
    "execution": {
     "iopub.execute_input": "2022-11-20T21:50:25.619612Z",
     "iopub.status.busy": "2022-11-20T21:50:25.619246Z",
     "iopub.status.idle": "2022-11-20T21:59:11.319477Z",
     "shell.execute_reply": "2022-11-20T21:59:11.317980Z"
    },
    "id": "AOb_CS8JdIf7",
    "papermill": {
     "duration": 525.729945,
     "end_time": "2022-11-20T21:59:11.335113",
     "exception": false,
     "start_time": "2022-11-20T21:50:25.605168",
     "status": "completed"
    },
    "tags": []
   },
   "outputs": [
    {
     "name": "stdout",
     "output_type": "stream",
     "text": [
      "1304\n",
      "Nan Counts:  0\n"
     ]
    }
   ],
   "source": [
    "# file = \"/content/drive/MyDrive/WT-GLCM-NN/haralick_feature_test/featuresWithMaxCorrCoeff2.csv\"\n",
    "import pandas as pd\n",
    "from sklearn.experimental import enable_iterative_imputer\n",
    "from sklearn.impute import IterativeImputer\n",
    "\n",
    "df = pd.read_csv(file, sep=\",\")\n",
    "print(df.isna().sum().sum())\n",
    "if df.isna().sum().sum() != 0:\n",
    "    imp = IterativeImputer(max_iter=20, random_state=42)\n",
    "    imp.fit(feature_tensor)\n",
    "    tensor = imp.transform(feature_tensor)\n",
    "    # file = \"/content/drive/MyDrive/WT-GLCM-NN/haralick_feature_test/features-[[01, 02,] 4]-NoNan.csv\"\n",
    "    file = \"/kaggle/working/features-[[01, 02,] 4-NoNan].csv\" #kaggle\n",
    "    np.savetxt(file, tensor, delimiter=\",\")\n",
    "    df = pd.read_csv(file, sep=\",\")\n",
    "    print(\"Nan Counts: \",df.isna().sum().sum())\n",
    "else:\n",
    "    tensor = feature_tensor"
   ]
  },
  {
   "cell_type": "code",
   "execution_count": 21,
   "id": "70a86628",
   "metadata": {
    "execution": {
     "iopub.execute_input": "2022-11-20T21:59:11.364114Z",
     "iopub.status.busy": "2022-11-20T21:59:11.363621Z",
     "iopub.status.idle": "2022-11-20T21:59:11.374434Z",
     "shell.execute_reply": "2022-11-20T21:59:11.372980Z"
    },
    "id": "EYuiwS9AZ1BW",
    "papermill": {
     "duration": 0.028306,
     "end_time": "2022-11-20T21:59:11.376666",
     "exception": false,
     "start_time": "2022-11-20T21:59:11.348360",
     "status": "completed"
    },
    "tags": []
   },
   "outputs": [
    {
     "name": "stdout",
     "output_type": "stream",
     "text": [
      "(2481, 720)\n",
      "<class 'numpy.ndarray'>\n",
      "17635.223754331335\n",
      "-0.6462626804042385\n"
     ]
    }
   ],
   "source": [
    "print(tensor.shape)\n",
    "print(type(tensor))\n",
    "print(np.amax(tensor))\n",
    "print(np.amin(tensor))"
   ]
  },
  {
   "cell_type": "markdown",
   "id": "4b2575b3",
   "metadata": {
    "papermill": {
     "duration": 0.012843,
     "end_time": "2022-11-20T21:59:11.402829",
     "exception": false,
     "start_time": "2022-11-20T21:59:11.389986",
     "status": "completed"
    },
    "tags": []
   },
   "source": [
    "## Feature Selection"
   ]
  },
  {
   "cell_type": "code",
   "execution_count": 22,
   "id": "37337763",
   "metadata": {
    "execution": {
     "iopub.execute_input": "2022-11-20T21:59:11.432237Z",
     "iopub.status.busy": "2022-11-20T21:59:11.431213Z",
     "iopub.status.idle": "2022-11-20T21:59:11.437351Z",
     "shell.execute_reply": "2022-11-20T21:59:11.435998Z"
    },
    "papermill": {
     "duration": 0.023568,
     "end_time": "2022-11-20T21:59:11.439936",
     "exception": false,
     "start_time": "2022-11-20T21:59:11.416368",
     "status": "completed"
    },
    "tags": []
   },
   "outputs": [],
   "source": [
    "import scipy.stats as stats"
   ]
  },
  {
   "cell_type": "code",
   "execution_count": 23,
   "id": "2b138ca3",
   "metadata": {
    "execution": {
     "iopub.execute_input": "2022-11-20T21:59:11.468566Z",
     "iopub.status.busy": "2022-11-20T21:59:11.467806Z",
     "iopub.status.idle": "2022-11-20T22:01:41.880654Z",
     "shell.execute_reply": "2022-11-20T22:01:41.879314Z"
    },
    "papermill": {
     "duration": 150.444449,
     "end_time": "2022-11-20T22:01:41.897784",
     "exception": false,
     "start_time": "2022-11-20T21:59:11.453335",
     "status": "completed"
    },
    "tags": []
   },
   "outputs": [
    {
     "name": "stdout",
     "output_type": "stream",
     "text": [
      "(720, 720)\n"
     ]
    }
   ],
   "source": [
    "def get_p_value(data1, data2):\n",
    "    _, p_value = stats.ttest_ind(a = data1, b=data2)\n",
    "    return p_value\n",
    "\n",
    "\n",
    "def twosample_ttest(population):\n",
    "    x = []\n",
    "    for i in range(population.shape[1]):\n",
    "        y = []\n",
    "        for j in range(population.shape[1]):\n",
    "            p_val = get_p_value( population[0:, i], population[0:, j])\n",
    "            y.append(p_val)\n",
    "        x.append(y)\n",
    "    return x\n",
    "\n",
    "p_value_stat = twosample_ttest(tensor)\n",
    "p_value_stat = np.array(p_value_stat, dtype=object)\n",
    "print(p_value_stat.shape)"
   ]
  },
  {
   "cell_type": "code",
   "execution_count": 24,
   "id": "88e40fb4",
   "metadata": {
    "execution": {
     "iopub.execute_input": "2022-11-20T22:01:41.932251Z",
     "iopub.status.busy": "2022-11-20T22:01:41.931447Z",
     "iopub.status.idle": "2022-11-20T22:01:41.939297Z",
     "shell.execute_reply": "2022-11-20T22:01:41.938206Z"
    },
    "papermill": {
     "duration": 0.025028,
     "end_time": "2022-11-20T22:01:41.941521",
     "exception": false,
     "start_time": "2022-11-20T22:01:41.916493",
     "status": "completed"
    },
    "tags": []
   },
   "outputs": [
    {
     "data": {
      "text/plain": [
       "0.0"
      ]
     },
     "execution_count": 24,
     "metadata": {},
     "output_type": "execute_result"
    }
   ],
   "source": [
    "p_value_stat[1][5]"
   ]
  },
  {
   "cell_type": "code",
   "execution_count": 25,
   "id": "fc5f65d4",
   "metadata": {
    "execution": {
     "iopub.execute_input": "2022-11-20T22:01:41.970227Z",
     "iopub.status.busy": "2022-11-20T22:01:41.969480Z",
     "iopub.status.idle": "2022-11-20T22:01:42.524277Z",
     "shell.execute_reply": "2022-11-20T22:01:42.523134Z"
    },
    "papermill": {
     "duration": 0.572591,
     "end_time": "2022-11-20T22:01:42.527302",
     "exception": false,
     "start_time": "2022-11-20T22:01:41.954711",
     "status": "completed"
    },
    "tags": []
   },
   "outputs": [
    {
     "name": "stderr",
     "output_type": "stream",
     "text": [
      "/opt/conda/lib/python3.7/site-packages/ipykernel_launcher.py:3: RuntimeWarning: invalid value encountered in greater\n",
      "  This is separate from the ipykernel package so we can avoid doing imports until\n"
     ]
    },
    {
     "data": {
      "image/png": "[encoded data removed]",
      "text/plain": [
       "<Figure size 720x720 with 2 Axes>"
      ]
     },
     "metadata": {
      "needs_background": "light"
     },
     "output_type": "display_data"
    }
   ],
   "source": [
    "# p_value_stat = np.array(p_value_stat, dtype=np.float64)\n",
    "mat = np.copy(p_value_stat)\n",
    "mat[mat > 0.05 ] = 1\n",
    "mat[mat != 1] = 0 \n",
    "plt.figure(figsize=(10, 10))\n",
    "plt.imshow(mat.astype(float))\n",
    "plt.grid(True)\n",
    "plt.colorbar()\n",
    "plt.title(\"Paired T test, P_value at significance of 5%\")\n",
    "plt.show()"
   ]
  },
  {
   "cell_type": "code",
   "execution_count": 26,
   "id": "23803e20",
   "metadata": {
    "execution": {
     "iopub.execute_input": "2022-11-20T22:01:42.559181Z",
     "iopub.status.busy": "2022-11-20T22:01:42.558071Z",
     "iopub.status.idle": "2022-11-20T22:01:42.861809Z",
     "shell.execute_reply": "2022-11-20T22:01:42.860623Z"
    },
    "papermill": {
     "duration": 0.322008,
     "end_time": "2022-11-20T22:01:42.864382",
     "exception": false,
     "start_time": "2022-11-20T22:01:42.542374",
     "status": "completed"
    },
    "tags": []
   },
   "outputs": [
    {
     "name": "stdout",
     "output_type": "stream",
     "text": [
      "(array([0, 1], dtype=object), array([513686,   4714]))\n"
     ]
    }
   ],
   "source": [
    "print(np.unique(mat, return_counts=True))"
   ]
  },
  {
   "cell_type": "code",
   "execution_count": 27,
   "id": "360c6943",
   "metadata": {
    "execution": {
     "iopub.execute_input": "2022-11-20T22:01:42.895903Z",
     "iopub.status.busy": "2022-11-20T22:01:42.895482Z",
     "iopub.status.idle": "2022-11-20T22:01:42.920107Z",
     "shell.execute_reply": "2022-11-20T22:01:42.918861Z"
    },
    "papermill": {
     "duration": 0.043288,
     "end_time": "2022-11-20T22:01:42.922348",
     "exception": false,
     "start_time": "2022-11-20T22:01:42.879060",
     "status": "completed"
    },
    "tags": []
   },
   "outputs": [
    {
     "name": "stdout",
     "output_type": "stream",
     "text": [
      "543\n",
      "(2481, 543)\n"
     ]
    }
   ],
   "source": [
    "def feature_selection(mat, tensor):\n",
    "    indexes = []\n",
    "    for i in range(mat.shape[1]):\n",
    "        if np.sum(mat[i, :]) > 2:\n",
    "            indexes.append(i)\n",
    "  \n",
    "    print(len(indexes))\n",
    "    features = []\n",
    "    for i in range(len(indexes)):\n",
    "        features.append(tensor[:, indexes[i]])\n",
    "    return features\n",
    "\n",
    "selected_tensor = feature_selection(mat, tensor)\n",
    "selected_tensor = np.array(selected_tensor)\n",
    "selected_tensor = np.transpose(selected_tensor)\n",
    "print(selected_tensor.shape)"
   ]
  },
  {
   "cell_type": "markdown",
   "id": "1ca3915d",
   "metadata": {
    "id": "Y-nMJZcgmKfq",
    "papermill": {
     "duration": 0.014763,
     "end_time": "2022-11-20T22:01:42.952354",
     "exception": false,
     "start_time": "2022-11-20T22:01:42.937591",
     "status": "completed"
    },
    "tags": []
   },
   "source": [
    "Preparing data\n",
    "\n",
    "\n",
    "\n",
    "\n",
    "\n"
   ]
  },
  {
   "cell_type": "code",
   "execution_count": 28,
   "id": "0c56e8ba",
   "metadata": {
    "execution": {
     "iopub.execute_input": "2022-11-20T22:01:42.984589Z",
     "iopub.status.busy": "2022-11-20T22:01:42.984176Z",
     "iopub.status.idle": "2022-11-20T22:01:42.994074Z",
     "shell.execute_reply": "2022-11-20T22:01:42.990189Z"
    },
    "id": "wAGgP8FlxghZ",
    "papermill": {
     "duration": 0.029195,
     "end_time": "2022-11-20T22:01:42.996769",
     "exception": false,
     "start_time": "2022-11-20T22:01:42.967574",
     "status": "completed"
    },
    "tags": []
   },
   "outputs": [
    {
     "name": "stdout",
     "output_type": "stream",
     "text": [
      "(array(['COVID', 'non-COVID'], dtype='<U9'), array([1252, 1229]))\n"
     ]
    }
   ],
   "source": [
    "print(np.unique(labels, return_counts=True))"
   ]
  },
  {
   "cell_type": "code",
   "execution_count": 29,
   "id": "f8ecf286",
   "metadata": {
    "execution": {
     "iopub.execute_input": "2022-11-20T22:01:43.030038Z",
     "iopub.status.busy": "2022-11-20T22:01:43.029615Z",
     "iopub.status.idle": "2022-11-20T22:01:43.048205Z",
     "shell.execute_reply": "2022-11-20T22:01:43.046723Z"
    },
    "id": "Wb0ggA_2xi4y",
    "papermill": {
     "duration": 0.037577,
     "end_time": "2022-11-20T22:01:43.050549",
     "exception": false,
     "start_time": "2022-11-20T22:01:43.012972",
     "status": "completed"
    },
    "tags": []
   },
   "outputs": [
    {
     "name": "stdout",
     "output_type": "stream",
     "text": [
      "(2181, 543)\n",
      "(2181,)\n",
      "(300, 543)\n",
      "(300,)\n"
     ]
    }
   ],
   "source": [
    "from sklearn.model_selection import train_test_split\n",
    " \n",
    "X_train, X_test, y_train, y_test = train_test_split(\n",
    "    selected_tensor, \n",
    "    labels, \n",
    "    test_size=300, \n",
    "    shuffle=True,\n",
    "    random_state=42,\n",
    "    stratify=labels\n",
    ")\n",
    "\n",
    "print(X_train.shape)\n",
    "print(y_train.shape)\n",
    "print(X_test.shape)\n",
    "print(y_test.shape)"
   ]
  },
  {
   "cell_type": "code",
   "execution_count": 30,
   "id": "d13bed7c",
   "metadata": {
    "execution": {
     "iopub.execute_input": "2022-11-20T22:01:43.081291Z",
     "iopub.status.busy": "2022-11-20T22:01:43.080928Z",
     "iopub.status.idle": "2022-11-20T22:01:43.088031Z",
     "shell.execute_reply": "2022-11-20T22:01:43.086672Z"
    },
    "id": "YK-vwciJpZ-I",
    "papermill": {
     "duration": 0.025032,
     "end_time": "2022-11-20T22:01:43.090234",
     "exception": false,
     "start_time": "2022-11-20T22:01:43.065202",
     "status": "completed"
    },
    "tags": []
   },
   "outputs": [
    {
     "name": "stdout",
     "output_type": "stream",
     "text": [
      "(array(['COVID', 'non-COVID'], dtype='<U9'), array([1101, 1080]))\n",
      "(array(['COVID', 'non-COVID'], dtype='<U9'), array([151, 149]))\n"
     ]
    }
   ],
   "source": [
    "print(np.unique(y_train, return_counts=True))\n",
    "print(np.unique(y_test, return_counts=True)) "
   ]
  },
  {
   "cell_type": "code",
   "execution_count": 31,
   "id": "724d4738",
   "metadata": {
    "execution": {
     "iopub.execute_input": "2022-11-20T22:01:43.195955Z",
     "iopub.status.busy": "2022-11-20T22:01:43.195478Z",
     "iopub.status.idle": "2022-11-20T22:01:43.203974Z",
     "shell.execute_reply": "2022-11-20T22:01:43.202734Z"
    },
    "id": "RzNIFeMEe6ym",
    "papermill": {
     "duration": 0.027622,
     "end_time": "2022-11-20T22:01:43.206314",
     "exception": false,
     "start_time": "2022-11-20T22:01:43.178692",
     "status": "completed"
    },
    "tags": []
   },
   "outputs": [],
   "source": [
    "from sklearn.preprocessing import LabelEncoder\n",
    "# prepare target\n",
    "\n",
    "def prepare_targets(y_train, y_test):\n",
    "    le = LabelEncoder()\n",
    "    le.fit(y_train)\n",
    "    y_train_enc = le.transform(y_train)\n",
    "    y_test_enc = le.transform(y_test)\n",
    "    # y_valid_enc = le.transform(y_valid)\n",
    "    return y_train_enc, y_test_enc\n",
    "\n",
    "y_train_enc, y_test_enc = prepare_targets(y_train, y_test)"
   ]
  },
  {
   "cell_type": "code",
   "execution_count": 32,
   "id": "e961d0de",
   "metadata": {
    "execution": {
     "iopub.execute_input": "2022-11-20T22:01:43.239561Z",
     "iopub.status.busy": "2022-11-20T22:01:43.239146Z",
     "iopub.status.idle": "2022-11-20T22:01:43.248924Z",
     "shell.execute_reply": "2022-11-20T22:01:43.247419Z"
    },
    "id": "JCFFLWLTfKdQ",
    "papermill": {
     "duration": 0.029041,
     "end_time": "2022-11-20T22:01:43.251240",
     "exception": false,
     "start_time": "2022-11-20T22:01:43.222199",
     "status": "completed"
    },
    "tags": []
   },
   "outputs": [
    {
     "name": "stdout",
     "output_type": "stream",
     "text": [
      "(2181, 543)\n",
      "(300, 543)\n",
      "17635.223754331335\n",
      "-0.44399377097926407\n",
      "17606.566007219095\n",
      "-0.41712622543014494\n",
      "(2181,)\n",
      "(300,)\n"
     ]
    }
   ],
   "source": [
    "print(X_train.shape)\n",
    "print(X_test.shape)\n",
    "\n",
    "print(np.amax(X_train))\n",
    "print(np.amin(X_train))\n",
    "print(np.amax(X_test))\n",
    "print(np.amin(X_test))\n",
    "\n",
    "\n",
    "print(y_train_enc.shape)\n",
    "print(y_test_enc.shape)"
   ]
  },
  {
   "cell_type": "code",
   "execution_count": 33,
   "id": "40a12524",
   "metadata": {
    "execution": {
     "iopub.execute_input": "2022-11-20T22:01:43.284323Z",
     "iopub.status.busy": "2022-11-20T22:01:43.283867Z",
     "iopub.status.idle": "2022-11-20T22:01:43.305119Z",
     "shell.execute_reply": "2022-11-20T22:01:43.303994Z"
    },
    "id": "SK4rmvOMflfr",
    "papermill": {
     "duration": 0.041105,
     "end_time": "2022-11-20T22:01:43.308053",
     "exception": false,
     "start_time": "2022-11-20T22:01:43.266948",
     "status": "completed"
    },
    "tags": []
   },
   "outputs": [],
   "source": [
    "from sklearn.preprocessing import StandardScaler\n",
    "sc = StandardScaler()\n",
    "X_train = sc.fit_transform(X_train)\n",
    "X_test = sc.fit_transform(X_test)"
   ]
  },
  {
   "cell_type": "code",
   "execution_count": 34,
   "id": "980e9f6a",
   "metadata": {
    "execution": {
     "iopub.execute_input": "2022-11-20T22:01:43.341556Z",
     "iopub.status.busy": "2022-11-20T22:01:43.340737Z",
     "iopub.status.idle": "2022-11-20T22:01:43.349722Z",
     "shell.execute_reply": "2022-11-20T22:01:43.348647Z"
    },
    "id": "KASWz5mvfSiV",
    "papermill": {
     "duration": 0.027673,
     "end_time": "2022-11-20T22:01:43.351735",
     "exception": false,
     "start_time": "2022-11-20T22:01:43.324062",
     "status": "completed"
    },
    "tags": []
   },
   "outputs": [
    {
     "name": "stdout",
     "output_type": "stream",
     "text": [
      "(2181, 543)\n",
      "(300, 543)\n",
      "19.637817810784398\n",
      "-7.380221735017483\n",
      "11.521118243136245\n",
      "-6.891263293792788\n"
     ]
    }
   ],
   "source": [
    "print(X_train.shape)\n",
    "print(X_test.shape)\n",
    "\n",
    "print(np.amax(X_train))\n",
    "print(np.amin(X_train))\n",
    "print(np.amax(X_test))\n",
    "print(np.amin(X_test))"
   ]
  },
  {
   "cell_type": "code",
   "execution_count": 35,
   "id": "e0afd04e",
   "metadata": {
    "execution": {
     "iopub.execute_input": "2022-11-20T22:01:43.384707Z",
     "iopub.status.busy": "2022-11-20T22:01:43.383777Z",
     "iopub.status.idle": "2022-11-20T22:01:43.391712Z",
     "shell.execute_reply": "2022-11-20T22:01:43.390365Z"
    },
    "id": "AG08FQb5hiWR",
    "papermill": {
     "duration": 0.026915,
     "end_time": "2022-11-20T22:01:43.393876",
     "exception": false,
     "start_time": "2022-11-20T22:01:43.366961",
     "status": "completed"
    },
    "tags": []
   },
   "outputs": [
    {
     "name": "stdout",
     "output_type": "stream",
     "text": [
      "0\n",
      "0\n"
     ]
    }
   ],
   "source": [
    "print(np.count_nonzero(np.isnan(X_train)))\n",
    "print(np.count_nonzero(np.isnan(X_test)))"
   ]
  },
  {
   "cell_type": "code",
   "execution_count": 36,
   "id": "addb1fcd",
   "metadata": {
    "execution": {
     "iopub.execute_input": "2022-11-20T22:01:43.426263Z",
     "iopub.status.busy": "2022-11-20T22:01:43.425857Z",
     "iopub.status.idle": "2022-11-20T22:01:43.433654Z",
     "shell.execute_reply": "2022-11-20T22:01:43.432442Z"
    },
    "id": "P7tU3okMk7XS",
    "papermill": {
     "duration": 0.026366,
     "end_time": "2022-11-20T22:01:43.435721",
     "exception": false,
     "start_time": "2022-11-20T22:01:43.409355",
     "status": "completed"
    },
    "tags": []
   },
   "outputs": [
    {
     "name": "stdout",
     "output_type": "stream",
     "text": [
      "19.637817810784398\n",
      "-7.380221735017483\n",
      "11.521118243136245\n",
      "-6.891263293792788\n"
     ]
    }
   ],
   "source": [
    "print(np.amax(X_train))\n",
    "print(np.amin(X_train))\n",
    "print(np.amax(X_test))\n",
    "print(np.amin(X_test))"
   ]
  },
  {
   "cell_type": "code",
   "execution_count": 37,
   "id": "794f4c15",
   "metadata": {
    "execution": {
     "iopub.execute_input": "2022-11-20T22:01:43.468200Z",
     "iopub.status.busy": "2022-11-20T22:01:43.467796Z",
     "iopub.status.idle": "2022-11-20T22:02:29.558672Z",
     "shell.execute_reply": "2022-11-20T22:02:29.557595Z"
    },
    "id": "iCneoNzkhrPT",
    "papermill": {
     "duration": 46.124462,
     "end_time": "2022-11-20T22:02:29.575566",
     "exception": false,
     "start_time": "2022-11-20T22:01:43.451104",
     "status": "completed"
    },
    "tags": []
   },
   "outputs": [
    {
     "data": {
      "text/plain": [
       "RandomForestClassifier(n_estimators=38, random_state=0)"
      ]
     },
     "execution_count": 37,
     "metadata": {},
     "output_type": "execute_result"
    }
   ],
   "source": [
    "from sklearn.ensemble import RandomForestClassifier\n",
    "from sklearn.metrics import accuracy_score\n",
    "max_accuracy = 0\n",
    "\n",
    "\n",
    "for x in range(1, 50):\n",
    "    rf = RandomForestClassifier(n_estimators=x)\n",
    "    rf.fit(X_train,y_train_enc)\n",
    "    Y_pred_rf = rf.predict(X_test)\n",
    "    current_accuracy = round(accuracy_score(Y_pred_rf,y_test_enc)*100,2)\n",
    "    if(current_accuracy>max_accuracy):\n",
    "        max_accuracy = current_accuracy\n",
    "        best_x = x\n",
    "\n",
    "classifier = RandomForestClassifier(n_estimators=best_x, random_state=0)\n",
    "classifier.fit(X_train, y_train_enc)"
   ]
  },
  {
   "cell_type": "code",
   "execution_count": 38,
   "id": "02bf830d",
   "metadata": {
    "execution": {
     "iopub.execute_input": "2022-11-20T22:02:29.608866Z",
     "iopub.status.busy": "2022-11-20T22:02:29.608421Z",
     "iopub.status.idle": "2022-11-20T22:02:29.837780Z",
     "shell.execute_reply": "2022-11-20T22:02:29.836707Z"
    },
    "id": "Y0-veeR8i3EC",
    "papermill": {
     "duration": 0.24885,
     "end_time": "2022-11-20T22:02:29.840158",
     "exception": false,
     "start_time": "2022-11-20T22:02:29.591308",
     "status": "completed"
    },
    "tags": []
   },
   "outputs": [
    {
     "data": {
      "image/png": "[encoded data removed]",
      "text/plain": [
       "<Figure size 432x288 with 2 Axes>"
      ]
     },
     "metadata": {
      "needs_background": "light"
     },
     "output_type": "display_data"
    }
   ],
   "source": [
    "from sklearn.metrics import ConfusionMatrixDisplay\n",
    "from sklearn.metrics import confusion_matrix\n",
    "\n",
    "y_pred = classifier.predict(X_test)\n",
    "cm = confusion_matrix(y_test_enc, y_pred)\n",
    "disp = ConfusionMatrixDisplay(confusion_matrix=cm)\n",
    "disp.plot(cmap=plt.cm.Blues)\n",
    "plt.show()"
   ]
  },
  {
   "cell_type": "code",
   "execution_count": 39,
   "id": "9ece5d34",
   "metadata": {
    "execution": {
     "iopub.execute_input": "2022-11-20T22:02:29.872667Z",
     "iopub.status.busy": "2022-11-20T22:02:29.872309Z",
     "iopub.status.idle": "2022-11-20T22:02:29.876838Z",
     "shell.execute_reply": "2022-11-20T22:02:29.875828Z"
    },
    "id": "sdtaTuWujSjQ",
    "papermill": {
     "duration": 0.023361,
     "end_time": "2022-11-20T22:02:29.878963",
     "exception": false,
     "start_time": "2022-11-20T22:02:29.855602",
     "status": "completed"
    },
    "tags": []
   },
   "outputs": [],
   "source": [
    "import pandas as pd\n",
    "from sklearn.metrics import recall_score ,precision_score,accuracy_score, f1_score,roc_auc_score"
   ]
  },
  {
   "cell_type": "code",
   "execution_count": 40,
   "id": "718a7f96",
   "metadata": {
    "execution": {
     "iopub.execute_input": "2022-11-20T22:02:29.911966Z",
     "iopub.status.busy": "2022-11-20T22:02:29.911553Z",
     "iopub.status.idle": "2022-11-20T22:02:29.921755Z",
     "shell.execute_reply": "2022-11-20T22:02:29.920938Z"
    },
    "id": "iusE1yFsjM7h",
    "papermill": {
     "duration": 0.028804,
     "end_time": "2022-11-20T22:02:29.923852",
     "exception": false,
     "start_time": "2022-11-20T22:02:29.895048",
     "status": "completed"
    },
    "tags": []
   },
   "outputs": [],
   "source": [
    "def binary_classification_performance(y_test, y_pred):\n",
    "    tp, fp, fn, tn = confusion_matrix(y_test, y_pred).ravel()\n",
    "    accuracy = round(accuracy_score(y_pred = y_pred, y_true = y_test),2)\n",
    "    precision = round(precision_score(y_pred = y_pred, y_true = y_test),2)\n",
    "    recall = round(recall_score(y_pred = y_pred, y_true = y_test),2)\n",
    "    f1_score = round(2*precision*recall/(precision + recall),2)\n",
    "    specificity = round(tn/(tn+fp),2)\n",
    "    npv = round(tn/(tn+fn),2)\n",
    "    auc_roc = round(roc_auc_score(y_score = y_pred, y_true = y_test),2)\n",
    "\n",
    "\n",
    "    result = pd.DataFrame({'Accuracy' : [accuracy],\n",
    "                         'Precision (or PPV)' : [precision],\n",
    "                         'Recall (senitivity or TPR)' : [recall],\n",
    "                         'f1 score' : [f1_score],\n",
    "                         'AUC_ROC' : [auc_roc],\n",
    "                         'Specificty (or TNR)': [specificity],\n",
    "                         'NPV' : [npv],\n",
    "                         'True Positive' : [tp],\n",
    "                         'True Negative' : [tn],\n",
    "                         'False Positive':[fp],\n",
    "                         'False Negative':[fn]})\n",
    "    return result"
   ]
  },
  {
   "cell_type": "code",
   "execution_count": 41,
   "id": "298821b6",
   "metadata": {
    "execution": {
     "iopub.execute_input": "2022-11-20T22:02:29.956663Z",
     "iopub.status.busy": "2022-11-20T22:02:29.955947Z",
     "iopub.status.idle": "2022-11-20T22:02:29.981131Z",
     "shell.execute_reply": "2022-11-20T22:02:29.980325Z"
    },
    "id": "-bvXa5wvjoXi",
    "papermill": {
     "duration": 0.044016,
     "end_time": "2022-11-20T22:02:29.983204",
     "exception": false,
     "start_time": "2022-11-20T22:02:29.939188",
     "status": "completed"
    },
    "tags": []
   },
   "outputs": [
    {
     "data": {
      "text/html": [
       "<div>\n",
       "<style scoped>\n",
       "    .dataframe tbody tr th:only-of-type {\n",
       "        vertical-align: middle;\n",
       "    }\n",
       "\n",
       "    .dataframe tbody tr th {\n",
       "        vertical-align: top;\n",
       "    }\n",
       "\n",
       "    .dataframe thead th {\n",
       "        text-align: right;\n",
       "    }\n",
       "</style>\n",
       "<table border=\"1\" class=\"dataframe\">\n",
       "  <thead>\n",
       "    <tr style=\"text-align: right;\">\n",
       "      <th></th>\n",
       "      <th>Accuracy</th>\n",
       "      <th>Precision (or PPV)</th>\n",
       "      <th>Recall (senitivity or TPR)</th>\n",
       "      <th>f1 score</th>\n",
       "      <th>AUC_ROC</th>\n",
       "      <th>Specificty (or TNR)</th>\n",
       "      <th>NPV</th>\n",
       "      <th>True Positive</th>\n",
       "      <th>True Negative</th>\n",
       "      <th>False Positive</th>\n",
       "      <th>False Negative</th>\n",
       "    </tr>\n",
       "  </thead>\n",
       "  <tbody>\n",
       "    <tr>\n",
       "      <th>0</th>\n",
       "      <td>0.86</td>\n",
       "      <td>0.85</td>\n",
       "      <td>0.87</td>\n",
       "      <td>0.86</td>\n",
       "      <td>0.86</td>\n",
       "      <td>0.85</td>\n",
       "      <td>0.87</td>\n",
       "      <td>128</td>\n",
       "      <td>129</td>\n",
       "      <td>23</td>\n",
       "      <td>20</td>\n",
       "    </tr>\n",
       "  </tbody>\n",
       "</table>\n",
       "</div>"
      ],
      "text/plain": [
       "   Accuracy  Precision (or PPV)  Recall (senitivity or TPR)  f1 score  \\\n",
       "0      0.86                0.85                        0.87      0.86   \n",
       "\n",
       "   AUC_ROC  Specificty (or TNR)   NPV  True Positive  True Negative  \\\n",
       "0     0.86                 0.85  0.87            128            129   \n",
       "\n",
       "   False Positive  False Negative  \n",
       "0              23              20  "
      ]
     },
     "execution_count": 41,
     "metadata": {},
     "output_type": "execute_result"
    }
   ],
   "source": [
    "binary_classification_performance(y_test_enc,y_pred)"
   ]
  },
  {
   "cell_type": "code",
   "execution_count": 42,
   "id": "67c30f89",
   "metadata": {
    "execution": {
     "iopub.execute_input": "2022-11-20T22:02:30.016267Z",
     "iopub.status.busy": "2022-11-20T22:02:30.015619Z",
     "iopub.status.idle": "2022-11-20T22:02:30.024081Z",
     "shell.execute_reply": "2022-11-20T22:02:30.023072Z"
    },
    "papermill": {
     "duration": 0.027727,
     "end_time": "2022-11-20T22:02:30.026432",
     "exception": false,
     "start_time": "2022-11-20T22:02:29.998705",
     "status": "completed"
    },
    "tags": []
   },
   "outputs": [],
   "source": [
    "import pickle\n",
    "# save the model to disk\n",
    "filename = \"/kaggle/working/finalized_model.sav\"\n",
    "pickle.dump(classifier, open(filename, 'wb'))"
   ]
  },
  {
   "cell_type": "markdown",
   "id": "5cd64bbb",
   "metadata": {
    "id": "cKStBtCJNXYl",
    "papermill": {
     "duration": 0.015162,
     "end_time": "2022-11-20T22:02:30.057184",
     "exception": false,
     "start_time": "2022-11-20T22:02:30.042022",
     "status": "completed"
    },
    "tags": []
   },
   "source": [
    "Resources\n",
    "\n",
    "[Kaggle Example using sklearn classifiers](https://www.kaggle.com/code/jashsheth5/binary-classification-with-sklearn-and-keras-95)\n",
    "\n",
    "[Introduction to SGD Classifier](https://michael-fuchs-python.netlify.app/2019/11/11/introduction-to-sgd-classifier/)\n",
    "\n",
    "[Machine Learning Mastery: Save Model](https://machinelearningmastery.com/save-load-machine-learning-models-python-scikit-learn/)\n"
   ]
  }
 ],
 "metadata": {
  "kernelspec": {
   "display_name": "Python 3",
   "language": "python",
   "name": "python3"
  },
  "language_info": {
   "codemirror_mode": {
    "name": "ipython",
    "version": 3
   },
   "file_extension": ".py",
   "mimetype": "text/x-python",
   "name": "python",
   "nbconvert_exporter": "python",
   "pygments_lexer": "ipython3",
   "version": "3.7.12"
  },
  "papermill": {
   "default_parameters": {},
   "duration": 17891.227029,
   "end_time": "2022-11-20T22:02:31.328079",
   "environment_variables": {},
   "exception": null,
   "input_path": "__notebook__.ipynb",
   "output_path": "__notebook__.ipynb",
   "parameters": {},
   "start_time": "2022-11-20T17:04:20.101050",
   "version": "2.3.4"
  }
 },
 "nbformat": 4,
 "nbformat_minor": 5
}
