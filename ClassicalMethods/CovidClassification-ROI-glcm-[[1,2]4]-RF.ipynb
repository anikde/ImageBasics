{
 "cells": [
  {
   "cell_type": "code",
   "execution_count": 1,
   "id": "2d6fac35",
   "metadata": {
    "execution": {
     "iopub.execute_input": "2022-11-24T19:55:34.772145Z",
     "iopub.status.busy": "2022-11-24T19:55:34.771543Z",
     "iopub.status.idle": "2022-11-24T19:55:34.782261Z",
     "shell.execute_reply": "2022-11-24T19:55:34.781028Z"
    },
    "papermill": {
     "duration": 0.028239,
     "end_time": "2022-11-24T19:55:34.784963",
     "exception": false,
     "start_time": "2022-11-24T19:55:34.756724",
     "status": "completed"
    },
    "tags": []
   },
   "outputs": [],
   "source": [
    "import numpy as np\n",
    "import matplotlib.pyplot as plt\n",
    "import time"
   ]
  },
  {
   "cell_type": "markdown",
   "id": "d7f0508c",
   "metadata": {
    "id": "T-mzrRD17Ff_",
    "papermill": {
     "duration": 0.012606,
     "end_time": "2022-11-24T19:55:34.809222",
     "exception": false,
     "start_time": "2022-11-24T19:55:34.796616",
     "status": "completed"
    },
    "tags": []
   },
   "source": [
    "Load COVID-19 data"
   ]
  },
  {
   "cell_type": "code",
   "execution_count": 2,
   "id": "0509d7c6",
   "metadata": {
    "execution": {
     "iopub.execute_input": "2022-11-24T19:55:34.833555Z",
     "iopub.status.busy": "2022-11-24T19:55:34.832801Z",
     "iopub.status.idle": "2022-11-24T19:55:34.837762Z",
     "shell.execute_reply": "2022-11-24T19:55:34.836789Z"
    },
    "id": "JyoJ-ozr7Bc1",
    "outputId": "74c3b317-b935-4063-b795-fa89691d996e",
    "papermill": {
     "duration": 0.019582,
     "end_time": "2022-11-24T19:55:34.839991",
     "exception": false,
     "start_time": "2022-11-24T19:55:34.820409",
     "status": "completed"
    },
    "tags": []
   },
   "outputs": [],
   "source": [
    "# from google.colab import drive\n",
    "# drive.mount('/content/drive')"
   ]
  },
  {
   "cell_type": "code",
   "execution_count": 3,
   "id": "c5d5eaf7",
   "metadata": {
    "execution": {
     "iopub.execute_input": "2022-11-24T19:55:34.865567Z",
     "iopub.status.busy": "2022-11-24T19:55:34.865125Z",
     "iopub.status.idle": "2022-11-24T19:55:35.075474Z",
     "shell.execute_reply": "2022-11-24T19:55:35.074072Z"
    },
    "id": "30SbkEvO7UjL",
    "outputId": "16f20350-199d-4a48-9e68-6a1e68beaecc",
    "papermill": {
     "duration": 0.226309,
     "end_time": "2022-11-24T19:55:35.078581",
     "exception": false,
     "start_time": "2022-11-24T19:55:34.852272",
     "status": "completed"
    },
    "tags": []
   },
   "outputs": [
    {
     "name": "stdout",
     "output_type": "stream",
     "text": [
      "2481\n",
      "2481\n"
     ]
    }
   ],
   "source": [
    "# datapath = \"/content/drive/MyDrive/covidDataset/dataset\"\n",
    "datapath = \"/kaggle/input/coviddatasetroi/NEW-covidDataset\" # kaggle\n",
    "\n",
    "\n",
    "import pathlib\n",
    "def get_imagepath_and_labels(datapath):\n",
    "    data_root = pathlib.Path(datapath)\n",
    "    all_image_path = [str(path) for path in list(data_root.glob('*/*'))]\n",
    "\n",
    "    all_image_label = [pathlib.Path(single_image_path).parent.name for single_image_path in all_image_path]\n",
    "\n",
    "    return all_image_path, all_image_label\n",
    "\n",
    "all_image_path, all_image_label = get_imagepath_and_labels(datapath)\n",
    "print(len(all_image_path))\n",
    "print(len(all_image_label))"
   ]
  },
  {
   "cell_type": "code",
   "execution_count": 4,
   "id": "90bda407",
   "metadata": {
    "execution": {
     "iopub.execute_input": "2022-11-24T19:55:35.106481Z",
     "iopub.status.busy": "2022-11-24T19:55:35.105156Z",
     "iopub.status.idle": "2022-11-24T19:55:35.110513Z",
     "shell.execute_reply": "2022-11-24T19:55:35.109606Z"
    },
    "id": "a4GLa4J-Udw4",
    "papermill": {
     "duration": 0.020157,
     "end_time": "2022-11-24T19:55:35.112840",
     "exception": false,
     "start_time": "2022-11-24T19:55:35.092683",
     "status": "completed"
    },
    "tags": []
   },
   "outputs": [],
   "source": [
    "# images = all_image_path[:10]+all_image_path[2471:]\n",
    "# labels = all_image_label[:10]+all_image_label[2471:]"
   ]
  },
  {
   "cell_type": "code",
   "execution_count": 5,
   "id": "7f9e6b6b",
   "metadata": {
    "execution": {
     "iopub.execute_input": "2022-11-24T19:55:35.138551Z",
     "iopub.status.busy": "2022-11-24T19:55:35.137718Z",
     "iopub.status.idle": "2022-11-24T19:55:43.691272Z",
     "shell.execute_reply": "2022-11-24T19:55:43.689943Z"
    },
    "id": "x5U7Dsbv7hue",
    "outputId": "8a7711a0-6cf7-407d-8fe8-b0d339302b57",
    "papermill": {
     "duration": 8.569797,
     "end_time": "2022-11-24T19:55:43.694535",
     "exception": false,
     "start_time": "2022-11-24T19:55:35.124738",
     "status": "completed"
    },
    "tags": []
   },
   "outputs": [
    {
     "name": "stdout",
     "output_type": "stream",
     "text": [
      "--- 8.31294059753418 seconds ---\n"
     ]
    }
   ],
   "source": [
    "import cv2\n",
    "\n",
    "def get_images_and_labels_astensor(image_path, image_labels, channels):\n",
    "    images = []\n",
    "    labels = []\n",
    "    for i in range(0, len(image_path)):\n",
    "        image = image_astensor(image_path[i], channels=channels)\n",
    "        images.append(image)\n",
    "        labels.append(image_labels[i])\n",
    "    \n",
    "    images = np.array(images)\n",
    "    labels = np.array(labels)\n",
    "    return images, labels\n",
    "\n",
    "def image_astensor(image_path, channels):\n",
    "        image = cv2.imread(image_path, cv2.IMREAD_GRAYSCALE)\n",
    "        image = cv2.resize(image, (100, 100), interpolation= cv2.INTER_LINEAR)\n",
    "        image = np.array(image).astype('float32')\n",
    "        image = image / 255\n",
    "\n",
    "        return image\n",
    "\n",
    "start_time = time.time()\n",
    "images, labels = get_images_and_labels_astensor(all_image_path, all_image_label, channels=1)\n",
    "# images, labels = get_images_and_labels_astensor(images, labels, channels=1)\n",
    "print(\"--- %s seconds ---\" % (time.time() - start_time))"
   ]
  },
  {
   "cell_type": "code",
   "execution_count": 6,
   "id": "d4d2d3b7",
   "metadata": {
    "execution": {
     "iopub.execute_input": "2022-11-24T19:55:43.719790Z",
     "iopub.status.busy": "2022-11-24T19:55:43.719386Z",
     "iopub.status.idle": "2022-11-24T19:55:43.728064Z",
     "shell.execute_reply": "2022-11-24T19:55:43.726407Z"
    },
    "id": "3ku0ijHZVF1Q",
    "outputId": "a337a544-7a47-45d8-f75c-66b913943e1f",
    "papermill": {
     "duration": 0.023908,
     "end_time": "2022-11-24T19:55:43.730475",
     "exception": false,
     "start_time": "2022-11-24T19:55:43.706567",
     "status": "completed"
    },
    "tags": []
   },
   "outputs": [
    {
     "name": "stdout",
     "output_type": "stream",
     "text": [
      "(array(['COVID', 'non-COVID'], dtype='<U9'), array([1252, 1229]))\n"
     ]
    }
   ],
   "source": [
    "print(np.unique(labels, return_counts=True))"
   ]
  },
  {
   "cell_type": "code",
   "execution_count": 7,
   "id": "8bb7aff8",
   "metadata": {
    "execution": {
     "iopub.execute_input": "2022-11-24T19:55:43.756054Z",
     "iopub.status.busy": "2022-11-24T19:55:43.754993Z",
     "iopub.status.idle": "2022-11-24T19:55:43.943134Z",
     "shell.execute_reply": "2022-11-24T19:55:43.941878Z"
    },
    "id": "cn_PTnxp9kSy",
    "outputId": "87a5da43-a409-472d-9700-02c2a25892a5",
    "papermill": {
     "duration": 0.203529,
     "end_time": "2022-11-24T19:55:43.945828",
     "exception": false,
     "start_time": "2022-11-24T19:55:43.742299",
     "status": "completed"
    },
    "tags": []
   },
   "outputs": [
    {
     "name": "stdout",
     "output_type": "stream",
     "text": [
      "(100, 100)\n",
      "0.1882353\n",
      "1.0\n",
      "float32\n"
     ]
    },
    {
     "data": {
      "image/png": "[encoded data removed]",
      "text/plain": [
       "<Figure size 432x288 with 1 Axes>"
      ]
     },
     "metadata": {
      "needs_background": "light"
     },
     "output_type": "display_data"
    }
   ],
   "source": [
    "print(np.shape(images[1]))\n",
    "print(np.amin(images[1]))\n",
    "print(np.amax(images[1]))\n",
    "print(images[1].dtype)\n",
    "\n",
    "plt.imshow(images[1], cmap='gray')\n",
    "plt.title(\"Original Image\")\n",
    "plt.show()"
   ]
  },
  {
   "cell_type": "code",
   "execution_count": 8,
   "id": "a05b7f71",
   "metadata": {
    "execution": {
     "iopub.execute_input": "2022-11-24T19:55:43.973793Z",
     "iopub.status.busy": "2022-11-24T19:55:43.972998Z",
     "iopub.status.idle": "2022-11-24T19:55:44.288466Z",
     "shell.execute_reply": "2022-11-24T19:55:44.287247Z"
    },
    "id": "ZiHYtx6n-T5a",
    "papermill": {
     "duration": 0.332545,
     "end_time": "2022-11-24T19:55:44.291363",
     "exception": false,
     "start_time": "2022-11-24T19:55:43.958818",
     "status": "completed"
    },
    "tags": []
   },
   "outputs": [],
   "source": [
    "import pywt\n",
    "from matplotlib import pyplot as plt"
   ]
  },
  {
   "cell_type": "code",
   "execution_count": 9,
   "id": "c4e6b042",
   "metadata": {
    "execution": {
     "iopub.execute_input": "2022-11-24T19:55:44.319183Z",
     "iopub.status.busy": "2022-11-24T19:55:44.318774Z",
     "iopub.status.idle": "2022-11-24T19:55:44.328415Z",
     "shell.execute_reply": "2022-11-24T19:55:44.327111Z"
    },
    "id": "4RLm4Vk84Cus",
    "papermill": {
     "duration": 0.02691,
     "end_time": "2022-11-24T19:55:44.330946",
     "exception": false,
     "start_time": "2022-11-24T19:55:44.304036",
     "status": "completed"
    },
    "tags": []
   },
   "outputs": [],
   "source": [
    " def decompose_images(images):\n",
    "    decomposed_images = []\n",
    "    for i in images:\n",
    "      a, b ,c, d = get_coeffs(i)\n",
    "      e, f, g, h = get_coeffs(a)\n",
    "#       j, k, l, m = get_coeffs(e)\n",
    "#       decomposed_images.append([ b, c, d, f, g, h, k, l, m])\n",
    "      decomposed_images.append([ b, c, d, f, g, h])\n",
    "    return decomposed_images\n",
    "\n",
    "def get_coeffs(image):\n",
    "    coeffs = pywt.dwt2(image,'bior4.4', mode='periodization', axes=(-2, -1))\n",
    "    cA, (cH, cV, cD) = coeffs\n",
    "    return cA, cH, cV, cD"
   ]
  },
  {
   "cell_type": "code",
   "execution_count": 10,
   "id": "5fdae915",
   "metadata": {
    "execution": {
     "iopub.execute_input": "2022-11-24T19:55:44.358293Z",
     "iopub.status.busy": "2022-11-24T19:55:44.357546Z",
     "iopub.status.idle": "2022-11-24T19:55:45.865473Z",
     "shell.execute_reply": "2022-11-24T19:55:45.863583Z"
    },
    "id": "7NydMnVi59-t",
    "outputId": "e77f1df2-ad3d-46b6-e656-36de027707ce",
    "papermill": {
     "duration": 1.524791,
     "end_time": "2022-11-24T19:55:45.868395",
     "exception": false,
     "start_time": "2022-11-24T19:55:44.343604",
     "status": "completed"
    },
    "tags": []
   },
   "outputs": [
    {
     "name": "stdout",
     "output_type": "stream",
     "text": [
      "--- 1.4956693649291992 seconds ---\n",
      "(2481, 6)\n"
     ]
    }
   ],
   "source": [
    "start_time = time.time()\n",
    "d_images = decompose_images(images)\n",
    "print(\"--- %s seconds ---\" % (time.time() - start_time))\n",
    "\n",
    "d_images = np.array(d_images, dtype=object)\n",
    "print(d_images.shape)"
   ]
  },
  {
   "cell_type": "code",
   "execution_count": 11,
   "id": "ce853f0f",
   "metadata": {
    "execution": {
     "iopub.execute_input": "2022-11-24T19:55:45.895910Z",
     "iopub.status.busy": "2022-11-24T19:55:45.895474Z",
     "iopub.status.idle": "2022-11-24T19:55:45.901901Z",
     "shell.execute_reply": "2022-11-24T19:55:45.900616Z"
    },
    "id": "5tD5piTtDsEI",
    "outputId": "03391526-d220-41a8-dbe5-a1a7b186a788",
    "papermill": {
     "duration": 0.023118,
     "end_time": "2022-11-24T19:55:45.904392",
     "exception": false,
     "start_time": "2022-11-24T19:55:45.881274",
     "status": "completed"
    },
    "tags": []
   },
   "outputs": [
    {
     "name": "stdout",
     "output_type": "stream",
     "text": [
      "2481\n",
      "6\n"
     ]
    }
   ],
   "source": [
    "print(d_images.shape[0])\n",
    "print(d_images.shape[1])"
   ]
  },
  {
   "cell_type": "code",
   "execution_count": 12,
   "id": "5efbf8a8",
   "metadata": {
    "execution": {
     "iopub.execute_input": "2022-11-24T19:55:45.931870Z",
     "iopub.status.busy": "2022-11-24T19:55:45.931416Z",
     "iopub.status.idle": "2022-11-24T19:55:45.958379Z",
     "shell.execute_reply": "2022-11-24T19:55:45.957401Z"
    },
    "id": "72ZatMIv1cv9",
    "outputId": "28a60b06-422d-4577-92af-f083b3f7bcbb",
    "papermill": {
     "duration": 0.044501,
     "end_time": "2022-11-24T19:55:45.961811",
     "exception": false,
     "start_time": "2022-11-24T19:55:45.917310",
     "status": "completed"
    },
    "tags": []
   },
   "outputs": [
    {
     "data": {
      "text/plain": [
       "<Figure size 432x288 with 0 Axes>"
      ]
     },
     "metadata": {},
     "output_type": "display_data"
    }
   ],
   "source": [
    "# %run /content/drive/MyDrive/WT-GLCM-NN/haralick_feature_test/haralick_features_V1.03.py\n",
    "%run ../input/haralickfeaturespy/haralick_features_V1.03.py #kaggle"
   ]
  },
  {
   "cell_type": "code",
   "execution_count": 13,
   "id": "c9251eb1",
   "metadata": {
    "execution": {
     "iopub.execute_input": "2022-11-24T19:55:45.992013Z",
     "iopub.status.busy": "2022-11-24T19:55:45.990975Z",
     "iopub.status.idle": "2022-11-24T19:55:47.164200Z",
     "shell.execute_reply": "2022-11-24T19:55:47.162717Z"
    },
    "id": "djrsxEft9mUs",
    "papermill": {
     "duration": 1.189835,
     "end_time": "2022-11-24T19:55:47.166971",
     "exception": false,
     "start_time": "2022-11-24T19:55:45.977136",
     "status": "completed"
    },
    "tags": []
   },
   "outputs": [],
   "source": [
    "# from skimage.feature import greycomatrix\n",
    "from skimage.feature import graycomatrix #kaggle\n",
    "def extract_features(d_images):\n",
    "    feature_vector = []\n",
    "    for i in range(d_images.shape[0]):\n",
    "        feature = []\n",
    "        for j in range(d_images.shape[1]):\n",
    "            image = d_images[i, j].astype(np.uint8)\n",
    "            g = get_glcm(image)\n",
    "            for p in range(g.shape[2]):\n",
    "                for k in range(g.shape[3]):\n",
    "                    feature.append(glcm_features(g[:, :, p, k].reshape(256, 256, 1, 1)))\n",
    "        feature_vector.append(feature)\n",
    "    return feature_vector\n",
    "\n",
    "def glcm_features(glcm):\n",
    "    features = get_haralick_features(glcm)\n",
    "    return features\n",
    "\n",
    "def get_glcm(image):\n",
    "    distances = [1, 2]\n",
    "    # distances = [2, 3]\n",
    "    # angles = [0, np.pi/4, np.pi/2, 3*np.pi/4, np.pi, 5*np.pi/4, 3*np.pi/2, 7*np.pi/4]\n",
    "    # angles = [np.pi/4, 3*np.pi/4, 5*np.pi/4, 7*np.pi/4]\n",
    "    angles = [0, np.pi/4, np.pi/2, 3*np.pi/4]\n",
    "#     glcm = greycomatrix(image, distances, angles, levels = 256)\n",
    "    glcm = graycomatrix(image, distances, angles, levels = 256)\n",
    "    return glcm"
   ]
  },
  {
   "cell_type": "code",
   "execution_count": 14,
   "id": "1d6dcca0",
   "metadata": {
    "execution": {
     "iopub.execute_input": "2022-11-24T19:55:47.194908Z",
     "iopub.status.busy": "2022-11-24T19:55:47.193898Z",
     "iopub.status.idle": "2022-11-24T19:55:47.376393Z",
     "shell.execute_reply": "2022-11-24T19:55:47.375102Z"
    },
    "id": "AdGzcWpFV3J_",
    "papermill": {
     "duration": 0.199233,
     "end_time": "2022-11-24T19:55:47.379064",
     "exception": false,
     "start_time": "2022-11-24T19:55:47.179831",
     "status": "completed"
    },
    "tags": []
   },
   "outputs": [],
   "source": [
    "def find_min_max(im):\n",
    "    MAX = 0\n",
    "    MIN = 0\n",
    "    for i in range(im.shape[0]):\n",
    "        for j in range(im.shape[1]):\n",
    "            if MAX < np.amax(im[i][j]):\n",
    "                MAX = np.amax(im[i][j])\n",
    "            else: pass\n",
    "            if MIN > np.amin(im[i][j]):\n",
    "                MIN = np.amin(im[i][j])              \n",
    "    return [MAX, MIN]\n",
    "\n",
    "MAX, MIN = find_min_max(d_images) "
   ]
  },
  {
   "cell_type": "code",
   "execution_count": 15,
   "id": "d8f02b3d",
   "metadata": {
    "execution": {
     "iopub.execute_input": "2022-11-24T19:55:47.406432Z",
     "iopub.status.busy": "2022-11-24T19:55:47.406015Z",
     "iopub.status.idle": "2022-11-24T19:55:47.411834Z",
     "shell.execute_reply": "2022-11-24T19:55:47.410477Z"
    },
    "id": "RLd8k-04VaO0",
    "outputId": "e8deb3c5-f6a5-46e1-c9a2-457ccb622713",
    "papermill": {
     "duration": 0.022563,
     "end_time": "2022-11-24T19:55:47.414414",
     "exception": false,
     "start_time": "2022-11-24T19:55:47.391851",
     "status": "completed"
    },
    "tags": []
   },
   "outputs": [
    {
     "name": "stdout",
     "output_type": "stream",
     "text": [
      "1.3100318\n",
      "-1.4949001\n"
     ]
    }
   ],
   "source": [
    "print(MAX)\n",
    "print(MIN)"
   ]
  },
  {
   "cell_type": "code",
   "execution_count": 16,
   "id": "3736d303",
   "metadata": {
    "execution": {
     "iopub.execute_input": "2022-11-24T19:55:47.442253Z",
     "iopub.status.busy": "2022-11-24T19:55:47.441205Z",
     "iopub.status.idle": "2022-11-24T19:55:47.777272Z",
     "shell.execute_reply": "2022-11-24T19:55:47.775275Z"
    },
    "id": "1b4sQxDCC_B5",
    "outputId": "f2760b7a-72fe-4b13-b970-eaa716800b66",
    "papermill": {
     "duration": 0.353359,
     "end_time": "2022-11-24T19:55:47.780607",
     "exception": false,
     "start_time": "2022-11-24T19:55:47.427248",
     "status": "completed"
    },
    "tags": []
   },
   "outputs": [
    {
     "name": "stdout",
     "output_type": "stream",
     "text": [
      "(25, 25)\n",
      "225.55458\n",
      "31.466717\n"
     ]
    }
   ],
   "source": [
    "d_images = (d_images+ np.abs(MIN) ) * (1 / (np.abs(MIN) + np.abs(MAX)))  * 255\n",
    "print(d_images[1][4].shape)\n",
    "print(np.amax(d_images[1][4]))\n",
    "print(np.amin(d_images[1][4]))"
   ]
  },
  {
   "cell_type": "code",
   "execution_count": 17,
   "id": "d74be801",
   "metadata": {
    "execution": {
     "iopub.execute_input": "2022-11-24T19:55:47.808473Z",
     "iopub.status.busy": "2022-11-24T19:55:47.808010Z",
     "iopub.status.idle": "2022-11-24T23:17:49.455248Z",
     "shell.execute_reply": "2022-11-24T23:17:49.453996Z"
    },
    "id": "0O4khR2rbEfp",
    "outputId": "74a61dfe-9727-4be5-e3b3-be57099f168b",
    "papermill": {
     "duration": 12121.677402,
     "end_time": "2022-11-24T23:17:49.471133",
     "exception": false,
     "start_time": "2022-11-24T19:55:47.793731",
     "status": "completed"
    },
    "tags": []
   },
   "outputs": [
    {
     "name": "stderr",
     "output_type": "stream",
     "text": [
      "/kaggle/input/haralickfeaturespy/haralick_features_V1.03.py:183: RuntimeWarning: invalid value encountered in sqrt\n",
      "  result = np.sqrt(maxlist[1])\n"
     ]
    },
    {
     "name": "stdout",
     "output_type": "stream",
     "text": [
      "--- 12121.32592511177 seconds ---\n",
      "(2481, 48, 15)\n"
     ]
    }
   ],
   "source": [
    "start_time = time.time()\n",
    "group_tensor = extract_features(d_images=d_images)\n",
    "print(\"--- %s seconds ---\" % (time.time() - start_time))\n",
    "\n",
    "f_tensor = np.array(group_tensor, dtype=object)\n",
    "print(f_tensor.shape)"
   ]
  },
  {
   "cell_type": "markdown",
   "id": "4d153e9a",
   "metadata": {
    "id": "LB9TPp3Jk9GN",
    "papermill": {
     "duration": 0.012394,
     "end_time": "2022-11-24T23:17:49.496661",
     "exception": false,
     "start_time": "2022-11-24T23:17:49.484267",
     "status": "completed"
    },
    "tags": []
   },
   "source": [
    "reshaping the feature matrix to (1, N)"
   ]
  },
  {
   "cell_type": "code",
   "execution_count": 18,
   "id": "ef8a4053",
   "metadata": {
    "execution": {
     "iopub.execute_input": "2022-11-24T23:17:49.524158Z",
     "iopub.status.busy": "2022-11-24T23:17:49.523346Z",
     "iopub.status.idle": "2022-11-24T23:17:51.840615Z",
     "shell.execute_reply": "2022-11-24T23:17:51.839068Z"
    },
    "id": "mB3d0NcVk8ve",
    "papermill": {
     "duration": 2.334152,
     "end_time": "2022-11-24T23:17:51.843529",
     "exception": false,
     "start_time": "2022-11-24T23:17:49.509377",
     "status": "completed"
    },
    "tags": []
   },
   "outputs": [
    {
     "name": "stdout",
     "output_type": "stream",
     "text": [
      "(2481, 720)\n",
      "18659.41251055423\n",
      "[[-0.5571457]]\n"
     ]
    }
   ],
   "source": [
    "feature_tensor = f_tensor.reshape(f_tensor.shape[0], -1)\n",
    "print(feature_tensor.shape)\n",
    "print(np.amax(feature_tensor))\n",
    "print(np.amin(feature_tensor))"
   ]
  },
  {
   "cell_type": "code",
   "execution_count": 19,
   "id": "099717b0",
   "metadata": {
    "execution": {
     "iopub.execute_input": "2022-11-24T23:17:51.871576Z",
     "iopub.status.busy": "2022-11-24T23:17:51.871151Z",
     "iopub.status.idle": "2022-11-24T23:17:53.631872Z",
     "shell.execute_reply": "2022-11-24T23:17:53.630580Z"
    },
    "id": "Y6iIh0iXcW_r",
    "papermill": {
     "duration": 1.778436,
     "end_time": "2022-11-24T23:17:53.635293",
     "exception": false,
     "start_time": "2022-11-24T23:17:51.856857",
     "status": "completed"
    },
    "tags": []
   },
   "outputs": [],
   "source": [
    "# file = \"/content/drive/MyDrive/WT-GLCM-NN/haralick_feature_test/features-[[01, 02,] 4].csv\"\n",
    "file = \"/kaggle/working/roi-features-[[1, 2] 4].csv\" #kaggle\n",
    "np.savetxt(file, feature_tensor, delimiter=\",\")"
   ]
  },
  {
   "cell_type": "markdown",
   "id": "dcb68a9a",
   "metadata": {
    "id": "JspdVtfDqvgX",
    "papermill": {
     "duration": 0.013019,
     "end_time": "2022-11-24T23:17:53.661436",
     "exception": false,
     "start_time": "2022-11-24T23:17:53.648417",
     "status": "completed"
    },
    "tags": []
   },
   "source": [
    "Scikit learn deal with Nan values : [reference](https://scikit-learn.org/stable/modules/impute.html#multivariate-feature-imputation)"
   ]
  },
  {
   "cell_type": "code",
   "execution_count": 20,
   "id": "0831af2f",
   "metadata": {
    "execution": {
     "iopub.execute_input": "2022-11-24T23:17:53.690095Z",
     "iopub.status.busy": "2022-11-24T23:17:53.689007Z",
     "iopub.status.idle": "2022-11-24T23:26:28.715848Z",
     "shell.execute_reply": "2022-11-24T23:26:28.714574Z"
    },
    "id": "AOb_CS8JdIf7",
    "papermill": {
     "duration": 515.056196,
     "end_time": "2022-11-24T23:26:28.730734",
     "exception": false,
     "start_time": "2022-11-24T23:17:53.674538",
     "status": "completed"
    },
    "tags": []
   },
   "outputs": [
    {
     "name": "stdout",
     "output_type": "stream",
     "text": [
      "4632\n",
      "Nan Counts:  0\n"
     ]
    }
   ],
   "source": [
    "# file = \"/content/drive/MyDrive/WT-GLCM-NN/haralick_feature_test/featuresWithMaxCorrCoeff2.csv\"\n",
    "import pandas as pd\n",
    "from sklearn.experimental import enable_iterative_imputer\n",
    "from sklearn.impute import IterativeImputer\n",
    "\n",
    "df = pd.read_csv(file, sep=\",\")\n",
    "print(df.isna().sum().sum())\n",
    "if df.isna().sum().sum() != 0:\n",
    "    imp = IterativeImputer(max_iter=20, random_state=42)\n",
    "    imp.fit(feature_tensor)\n",
    "    tensor = imp.transform(feature_tensor)\n",
    "    # file = \"/content/drive/MyDrive/WT-GLCM-NN/haralick_feature_test/features-[[01, 02,] 4]-NoNan.csv\"\n",
    "    file = \"/kaggle/working/features-[[01, 02,] 4-NoNan].csv\" #kaggle\n",
    "    np.savetxt(file, tensor, delimiter=\",\")\n",
    "    df = pd.read_csv(file, sep=\",\")\n",
    "    print(\"Nan Counts: \",df.isna().sum().sum())\n",
    "else:\n",
    "    tensor = feature_tensor"
   ]
  },
  {
   "cell_type": "code",
   "execution_count": 21,
   "id": "9f0805ac",
   "metadata": {
    "execution": {
     "iopub.execute_input": "2022-11-24T23:26:28.758826Z",
     "iopub.status.busy": "2022-11-24T23:26:28.758054Z",
     "iopub.status.idle": "2022-11-24T23:26:28.768149Z",
     "shell.execute_reply": "2022-11-24T23:26:28.766646Z"
    },
    "id": "EYuiwS9AZ1BW",
    "papermill": {
     "duration": 0.027162,
     "end_time": "2022-11-24T23:26:28.770994",
     "exception": false,
     "start_time": "2022-11-24T23:26:28.743832",
     "status": "completed"
    },
    "tags": []
   },
   "outputs": [
    {
     "name": "stdout",
     "output_type": "stream",
     "text": [
      "(2481, 720)\n",
      "<class 'numpy.ndarray'>\n",
      "19256.542492879464\n",
      "-0.7369582016930996\n"
     ]
    }
   ],
   "source": [
    "print(tensor.shape)\n",
    "print(type(tensor))\n",
    "print(np.amax(tensor))\n",
    "print(np.amin(tensor))"
   ]
  },
  {
   "cell_type": "markdown",
   "id": "198d71ad",
   "metadata": {
    "papermill": {
     "duration": 0.013094,
     "end_time": "2022-11-24T23:26:28.797780",
     "exception": false,
     "start_time": "2022-11-24T23:26:28.784686",
     "status": "completed"
    },
    "tags": []
   },
   "source": [
    "## Feature Selection"
   ]
  },
  {
   "cell_type": "code",
   "execution_count": 22,
   "id": "29bbd9d5",
   "metadata": {
    "execution": {
     "iopub.execute_input": "2022-11-24T23:26:28.826702Z",
     "iopub.status.busy": "2022-11-24T23:26:28.825892Z",
     "iopub.status.idle": "2022-11-24T23:26:28.831523Z",
     "shell.execute_reply": "2022-11-24T23:26:28.830381Z"
    },
    "papermill": {
     "duration": 0.02274,
     "end_time": "2022-11-24T23:26:28.833970",
     "exception": false,
     "start_time": "2022-11-24T23:26:28.811230",
     "status": "completed"
    },
    "tags": []
   },
   "outputs": [],
   "source": [
    "import scipy.stats as stats"
   ]
  },
  {
   "cell_type": "code",
   "execution_count": 23,
   "id": "38aa8478",
   "metadata": {
    "execution": {
     "iopub.execute_input": "2022-11-24T23:26:28.862714Z",
     "iopub.status.busy": "2022-11-24T23:26:28.861931Z",
     "iopub.status.idle": "2022-11-24T23:28:42.450599Z",
     "shell.execute_reply": "2022-11-24T23:28:42.449067Z"
    },
    "papermill": {
     "duration": 133.618856,
     "end_time": "2022-11-24T23:28:42.466287",
     "exception": false,
     "start_time": "2022-11-24T23:26:28.847431",
     "status": "completed"
    },
    "tags": []
   },
   "outputs": [
    {
     "name": "stdout",
     "output_type": "stream",
     "text": [
      "(720, 720)\n"
     ]
    }
   ],
   "source": [
    "def get_p_value(data1, data2):\n",
    "    _, p_value = stats.ttest_ind(a = data1, b=data2)\n",
    "    return p_value\n",
    "\n",
    "\n",
    "def twosample_ttest(population):\n",
    "    x = []\n",
    "    for i in range(population.shape[1]):\n",
    "        y = []\n",
    "        for j in range(population.shape[1]):\n",
    "            p_val = get_p_value( population[0:, i], population[0:, j])\n",
    "            y.append(p_val)\n",
    "        x.append(y)\n",
    "    return x\n",
    "\n",
    "p_value_stat = twosample_ttest(tensor)\n",
    "p_value_stat = np.array(p_value_stat, dtype=object)\n",
    "print(p_value_stat.shape)"
   ]
  },
  {
   "cell_type": "code",
   "execution_count": 24,
   "id": "ef77a8e6",
   "metadata": {
    "execution": {
     "iopub.execute_input": "2022-11-24T23:28:42.496369Z",
     "iopub.status.busy": "2022-11-24T23:28:42.495940Z",
     "iopub.status.idle": "2022-11-24T23:28:42.503652Z",
     "shell.execute_reply": "2022-11-24T23:28:42.502339Z"
    },
    "papermill": {
     "duration": 0.026027,
     "end_time": "2022-11-24T23:28:42.506076",
     "exception": false,
     "start_time": "2022-11-24T23:28:42.480049",
     "status": "completed"
    },
    "tags": []
   },
   "outputs": [
    {
     "data": {
      "text/plain": [
       "0.0"
      ]
     },
     "execution_count": 24,
     "metadata": {},
     "output_type": "execute_result"
    }
   ],
   "source": [
    "p_value_stat[1][5]"
   ]
  },
  {
   "cell_type": "code",
   "execution_count": 25,
   "id": "6454b35a",
   "metadata": {
    "execution": {
     "iopub.execute_input": "2022-11-24T23:28:42.536487Z",
     "iopub.status.busy": "2022-11-24T23:28:42.536067Z",
     "iopub.status.idle": "2022-11-24T23:28:43.084487Z",
     "shell.execute_reply": "2022-11-24T23:28:43.083215Z"
    },
    "papermill": {
     "duration": 0.567299,
     "end_time": "2022-11-24T23:28:43.087396",
     "exception": false,
     "start_time": "2022-11-24T23:28:42.520097",
     "status": "completed"
    },
    "tags": []
   },
   "outputs": [
    {
     "name": "stderr",
     "output_type": "stream",
     "text": [
      "/opt/conda/lib/python3.7/site-packages/ipykernel_launcher.py:3: RuntimeWarning: invalid value encountered in greater\n",
      "  This is separate from the ipykernel package so we can avoid doing imports until\n"
     ]
    },
    {
     "data": {
      "image/png": "[encoded data removed]",
      "text/plain": [
       "<Figure size 720x720 with 2 Axes>"
      ]
     },
     "metadata": {
      "needs_background": "light"
     },
     "output_type": "display_data"
    }
   ],
   "source": [
    "# p_value_stat = np.array(p_value_stat, dtype=np.float64)\n",
    "mat = np.copy(p_value_stat)\n",
    "mat[mat > 0.05 ] = 1\n",
    "mat[mat != 1] = 0 \n",
    "plt.figure(figsize=(10, 10))\n",
    "plt.imshow(mat.astype(float))\n",
    "plt.grid(True)\n",
    "plt.colorbar()\n",
    "plt.title(\"Paired T test, P_value at significance of 5%\")\n",
    "plt.show()"
   ]
  },
  {
   "cell_type": "code",
   "execution_count": 26,
   "id": "91230c97",
   "metadata": {
    "execution": {
     "iopub.execute_input": "2022-11-24T23:28:43.120598Z",
     "iopub.status.busy": "2022-11-24T23:28:43.120154Z",
     "iopub.status.idle": "2022-11-24T23:28:43.419038Z",
     "shell.execute_reply": "2022-11-24T23:28:43.417541Z"
    },
    "papermill": {
     "duration": 0.318787,
     "end_time": "2022-11-24T23:28:43.421873",
     "exception": false,
     "start_time": "2022-11-24T23:28:43.103086",
     "status": "completed"
    },
    "tags": []
   },
   "outputs": [
    {
     "name": "stdout",
     "output_type": "stream",
     "text": [
      "(array([0, 1], dtype=object), array([513304,   5096]))\n"
     ]
    }
   ],
   "source": [
    "print(np.unique(mat, return_counts=True))"
   ]
  },
  {
   "cell_type": "code",
   "execution_count": 27,
   "id": "292bb818",
   "metadata": {
    "execution": {
     "iopub.execute_input": "2022-11-24T23:28:43.454384Z",
     "iopub.status.busy": "2022-11-24T23:28:43.453957Z",
     "iopub.status.idle": "2022-11-24T23:28:43.477145Z",
     "shell.execute_reply": "2022-11-24T23:28:43.475612Z"
    },
    "papermill": {
     "duration": 0.04278,
     "end_time": "2022-11-24T23:28:43.479835",
     "exception": false,
     "start_time": "2022-11-24T23:28:43.437055",
     "status": "completed"
    },
    "tags": []
   },
   "outputs": [
    {
     "name": "stdout",
     "output_type": "stream",
     "text": [
      "(2481, 527)\n"
     ]
    }
   ],
   "source": [
    "def feature_selection(mat, tensor):\n",
    "    indexes = []\n",
    "    sums = np.sum(mat, axis=1)\n",
    "    sorted_ = -np.sort(-sums)\n",
    "\n",
    "    sorted_ = sorted_[:500]\n",
    "    sorted_ = np.unique(sorted_)\n",
    "\n",
    "    for i in range(len(sorted_)):\n",
    "        id = []      \n",
    "        index = np.where(sums == sorted_[i])\n",
    "        for j in range(len(index[0])):\n",
    "            id.append(index[0][j])\n",
    "        for k in range(len(id)):\n",
    "            indexes.append(id[k])\n",
    "    \n",
    "    # print(len(indexes))\n",
    "    features = []\n",
    "    for i in range(len(indexes)):\n",
    "        features.append(tensor[:, indexes[i]])\n",
    "    return features\n",
    "\n",
    "selected_tensor = feature_selection(mat, tensor)\n",
    "selected_tensor = np.array(selected_tensor)\n",
    "selected_tensor = np.transpose(selected_tensor)\n",
    "print(selected_tensor.shape)"
   ]
  },
  {
   "cell_type": "markdown",
   "id": "11e44959",
   "metadata": {
    "id": "Y-nMJZcgmKfq",
    "papermill": {
     "duration": 0.014669,
     "end_time": "2022-11-24T23:28:43.509961",
     "exception": false,
     "start_time": "2022-11-24T23:28:43.495292",
     "status": "completed"
    },
    "tags": []
   },
   "source": [
    "Preparing data\n",
    "\n",
    "\n",
    "\n",
    "\n",
    "\n"
   ]
  },
  {
   "cell_type": "code",
   "execution_count": 28,
   "id": "77644689",
   "metadata": {
    "execution": {
     "iopub.execute_input": "2022-11-24T23:28:43.541939Z",
     "iopub.status.busy": "2022-11-24T23:28:43.541252Z",
     "iopub.status.idle": "2022-11-24T23:28:43.548263Z",
     "shell.execute_reply": "2022-11-24T23:28:43.546872Z"
    },
    "id": "wAGgP8FlxghZ",
    "papermill": {
     "duration": 0.025652,
     "end_time": "2022-11-24T23:28:43.550487",
     "exception": false,
     "start_time": "2022-11-24T23:28:43.524835",
     "status": "completed"
    },
    "tags": []
   },
   "outputs": [
    {
     "name": "stdout",
     "output_type": "stream",
     "text": [
      "(array(['COVID', 'non-COVID'], dtype='<U9'), array([1252, 1229]))\n"
     ]
    }
   ],
   "source": [
    "print(np.unique(labels, return_counts=True))"
   ]
  },
  {
   "cell_type": "code",
   "execution_count": 29,
   "id": "671df6e5",
   "metadata": {
    "execution": {
     "iopub.execute_input": "2022-11-24T23:28:43.582266Z",
     "iopub.status.busy": "2022-11-24T23:28:43.581717Z",
     "iopub.status.idle": "2022-11-24T23:28:43.599003Z",
     "shell.execute_reply": "2022-11-24T23:28:43.597569Z"
    },
    "id": "Wb0ggA_2xi4y",
    "papermill": {
     "duration": 0.03586,
     "end_time": "2022-11-24T23:28:43.601372",
     "exception": false,
     "start_time": "2022-11-24T23:28:43.565512",
     "status": "completed"
    },
    "tags": []
   },
   "outputs": [
    {
     "name": "stdout",
     "output_type": "stream",
     "text": [
      "(2181, 527)\n",
      "(2181,)\n",
      "(300, 527)\n",
      "(300,)\n"
     ]
    }
   ],
   "source": [
    "from sklearn.model_selection import train_test_split\n",
    " \n",
    "X_train, X_test, y_train, y_test = train_test_split(\n",
    "    selected_tensor, \n",
    "    labels, \n",
    "    test_size=300, \n",
    "    shuffle=True,\n",
    "    random_state=42,\n",
    "    stratify=labels\n",
    ")\n",
    "\n",
    "print(X_train.shape)\n",
    "print(y_train.shape)\n",
    "print(X_test.shape)\n",
    "print(y_test.shape)"
   ]
  },
  {
   "cell_type": "code",
   "execution_count": 30,
   "id": "b0bcfded",
   "metadata": {
    "execution": {
     "iopub.execute_input": "2022-11-24T23:28:43.635079Z",
     "iopub.status.busy": "2022-11-24T23:28:43.634249Z",
     "iopub.status.idle": "2022-11-24T23:28:43.641886Z",
     "shell.execute_reply": "2022-11-24T23:28:43.640543Z"
    },
    "id": "YK-vwciJpZ-I",
    "papermill": {
     "duration": 0.027195,
     "end_time": "2022-11-24T23:28:43.644209",
     "exception": false,
     "start_time": "2022-11-24T23:28:43.617014",
     "status": "completed"
    },
    "tags": []
   },
   "outputs": [
    {
     "name": "stdout",
     "output_type": "stream",
     "text": [
      "(array(['COVID', 'non-COVID'], dtype='<U9'), array([1101, 1080]))\n",
      "(array(['COVID', 'non-COVID'], dtype='<U9'), array([151, 149]))\n"
     ]
    }
   ],
   "source": [
    "print(np.unique(y_train, return_counts=True))\n",
    "print(np.unique(y_test, return_counts=True)) "
   ]
  },
  {
   "cell_type": "code",
   "execution_count": 31,
   "id": "9fe92e66",
   "metadata": {
    "execution": {
     "iopub.execute_input": "2022-11-24T23:28:43.676572Z",
     "iopub.status.busy": "2022-11-24T23:28:43.675883Z",
     "iopub.status.idle": "2022-11-24T23:28:43.685635Z",
     "shell.execute_reply": "2022-11-24T23:28:43.684609Z"
    },
    "id": "RzNIFeMEe6ym",
    "papermill": {
     "duration": 0.028621,
     "end_time": "2022-11-24T23:28:43.688032",
     "exception": false,
     "start_time": "2022-11-24T23:28:43.659411",
     "status": "completed"
    },
    "tags": []
   },
   "outputs": [],
   "source": [
    "from sklearn.preprocessing import LabelEncoder\n",
    "# prepare target\n",
    "\n",
    "def prepare_targets(y_train, y_test):\n",
    "    le = LabelEncoder()\n",
    "    le.fit(y_train)\n",
    "    y_train_enc = le.transform(y_train)\n",
    "    y_test_enc = le.transform(y_test)\n",
    "    # y_valid_enc = le.transform(y_valid)\n",
    "    return y_train_enc, y_test_enc\n",
    "\n",
    "y_train_enc, y_test_enc = prepare_targets(y_train, y_test)"
   ]
  },
  {
   "cell_type": "code",
   "execution_count": 32,
   "id": "5738fd6b",
   "metadata": {
    "execution": {
     "iopub.execute_input": "2022-11-24T23:28:43.720246Z",
     "iopub.status.busy": "2022-11-24T23:28:43.719824Z",
     "iopub.status.idle": "2022-11-24T23:28:43.729427Z",
     "shell.execute_reply": "2022-11-24T23:28:43.728075Z"
    },
    "id": "JCFFLWLTfKdQ",
    "papermill": {
     "duration": 0.028603,
     "end_time": "2022-11-24T23:28:43.731886",
     "exception": false,
     "start_time": "2022-11-24T23:28:43.703283",
     "status": "completed"
    },
    "tags": []
   },
   "outputs": [
    {
     "name": "stdout",
     "output_type": "stream",
     "text": [
      "(2181, 527)\n",
      "(300, 527)\n",
      "19256.542492879464\n",
      "-0.7235709058666795\n",
      "18930.343061129483\n",
      "-0.7038694239162548\n",
      "(2181,)\n",
      "(300,)\n"
     ]
    }
   ],
   "source": [
    "print(X_train.shape)\n",
    "print(X_test.shape)\n",
    "\n",
    "print(np.amax(X_train))\n",
    "print(np.amin(X_train))\n",
    "print(np.amax(X_test))\n",
    "print(np.amin(X_test))\n",
    "\n",
    "\n",
    "print(y_train_enc.shape)\n",
    "print(y_test_enc.shape)"
   ]
  },
  {
   "cell_type": "code",
   "execution_count": 33,
   "id": "fd7a60b9",
   "metadata": {
    "execution": {
     "iopub.execute_input": "2022-11-24T23:28:43.764374Z",
     "iopub.status.busy": "2022-11-24T23:28:43.763683Z",
     "iopub.status.idle": "2022-11-24T23:28:43.786522Z",
     "shell.execute_reply": "2022-11-24T23:28:43.785488Z"
    },
    "id": "SK4rmvOMflfr",
    "papermill": {
     "duration": 0.041919,
     "end_time": "2022-11-24T23:28:43.789281",
     "exception": false,
     "start_time": "2022-11-24T23:28:43.747362",
     "status": "completed"
    },
    "tags": []
   },
   "outputs": [],
   "source": [
    "from sklearn.preprocessing import StandardScaler\n",
    "sc = StandardScaler()\n",
    "X_train = sc.fit_transform(X_train)\n",
    "X_test = sc.fit_transform(X_test)"
   ]
  },
  {
   "cell_type": "code",
   "execution_count": 34,
   "id": "02cd7593",
   "metadata": {
    "execution": {
     "iopub.execute_input": "2022-11-24T23:28:43.821822Z",
     "iopub.status.busy": "2022-11-24T23:28:43.820983Z",
     "iopub.status.idle": "2022-11-24T23:28:43.831084Z",
     "shell.execute_reply": "2022-11-24T23:28:43.829672Z"
    },
    "id": "KASWz5mvfSiV",
    "papermill": {
     "duration": 0.028869,
     "end_time": "2022-11-24T23:28:43.833430",
     "exception": false,
     "start_time": "2022-11-24T23:28:43.804561",
     "status": "completed"
    },
    "tags": []
   },
   "outputs": [
    {
     "name": "stdout",
     "output_type": "stream",
     "text": [
      "(2181, 527)\n",
      "(300, 527)\n",
      "42.40635318679535\n",
      "-8.971628841352386\n",
      "6.963524658746433\n",
      "-4.89008163484887\n"
     ]
    }
   ],
   "source": [
    "print(X_train.shape)\n",
    "print(X_test.shape)\n",
    "\n",
    "print(np.amax(X_train))\n",
    "print(np.amin(X_train))\n",
    "print(np.amax(X_test))\n",
    "print(np.amin(X_test))"
   ]
  },
  {
   "cell_type": "code",
   "execution_count": 35,
   "id": "a7858dab",
   "metadata": {
    "execution": {
     "iopub.execute_input": "2022-11-24T23:28:43.866562Z",
     "iopub.status.busy": "2022-11-24T23:28:43.865340Z",
     "iopub.status.idle": "2022-11-24T23:28:43.873337Z",
     "shell.execute_reply": "2022-11-24T23:28:43.871999Z"
    },
    "id": "AG08FQb5hiWR",
    "papermill": {
     "duration": 0.026695,
     "end_time": "2022-11-24T23:28:43.875752",
     "exception": false,
     "start_time": "2022-11-24T23:28:43.849057",
     "status": "completed"
    },
    "tags": []
   },
   "outputs": [
    {
     "name": "stdout",
     "output_type": "stream",
     "text": [
      "0\n",
      "0\n"
     ]
    }
   ],
   "source": [
    "print(np.count_nonzero(np.isnan(X_train)))\n",
    "print(np.count_nonzero(np.isnan(X_test)))"
   ]
  },
  {
   "cell_type": "code",
   "execution_count": 36,
   "id": "1c14f85b",
   "metadata": {
    "execution": {
     "iopub.execute_input": "2022-11-24T23:28:43.909166Z",
     "iopub.status.busy": "2022-11-24T23:28:43.908056Z",
     "iopub.status.idle": "2022-11-24T23:28:43.917841Z",
     "shell.execute_reply": "2022-11-24T23:28:43.916239Z"
    },
    "id": "P7tU3okMk7XS",
    "papermill": {
     "duration": 0.028669,
     "end_time": "2022-11-24T23:28:43.920219",
     "exception": false,
     "start_time": "2022-11-24T23:28:43.891550",
     "status": "completed"
    },
    "tags": []
   },
   "outputs": [
    {
     "name": "stdout",
     "output_type": "stream",
     "text": [
      "42.40635318679535\n",
      "-8.971628841352386\n",
      "6.963524658746433\n",
      "-4.89008163484887\n"
     ]
    }
   ],
   "source": [
    "print(np.amax(X_train))\n",
    "print(np.amin(X_train))\n",
    "print(np.amax(X_test))\n",
    "print(np.amin(X_test))"
   ]
  },
  {
   "cell_type": "code",
   "execution_count": 37,
   "id": "15e30a57",
   "metadata": {
    "execution": {
     "iopub.execute_input": "2022-11-24T23:28:43.953807Z",
     "iopub.status.busy": "2022-11-24T23:28:43.953224Z",
     "iopub.status.idle": "2022-11-24T23:29:26.003205Z",
     "shell.execute_reply": "2022-11-24T23:29:26.001771Z"
    },
    "id": "iCneoNzkhrPT",
    "papermill": {
     "duration": 42.084318,
     "end_time": "2022-11-24T23:29:26.020287",
     "exception": false,
     "start_time": "2022-11-24T23:28:43.935969",
     "status": "completed"
    },
    "tags": []
   },
   "outputs": [
    {
     "data": {
      "text/plain": [
       "RandomForestClassifier(n_estimators=22, random_state=0)"
      ]
     },
     "execution_count": 37,
     "metadata": {},
     "output_type": "execute_result"
    }
   ],
   "source": [
    "from sklearn.ensemble import RandomForestClassifier\n",
    "from sklearn.metrics import accuracy_score\n",
    "max_accuracy = 0\n",
    "\n",
    "\n",
    "for x in range(1, 50):\n",
    "    rf = RandomForestClassifier(n_estimators=x)\n",
    "    rf.fit(X_train,y_train_enc)\n",
    "    Y_pred_rf = rf.predict(X_test)\n",
    "    current_accuracy = round(accuracy_score(Y_pred_rf,y_test_enc)*100,2)\n",
    "    if(current_accuracy>max_accuracy):\n",
    "        max_accuracy = current_accuracy\n",
    "        best_x = x\n",
    "\n",
    "classifier = RandomForestClassifier(n_estimators=best_x, random_state=0)\n",
    "classifier.fit(X_train, y_train_enc)"
   ]
  },
  {
   "cell_type": "code",
   "execution_count": 38,
   "id": "6792e7a6",
   "metadata": {
    "execution": {
     "iopub.execute_input": "2022-11-24T23:29:26.053583Z",
     "iopub.status.busy": "2022-11-24T23:29:26.053116Z",
     "iopub.status.idle": "2022-11-24T23:29:26.276230Z",
     "shell.execute_reply": "2022-11-24T23:29:26.274941Z"
    },
    "id": "Y0-veeR8i3EC",
    "papermill": {
     "duration": 0.242966,
     "end_time": "2022-11-24T23:29:26.278815",
     "exception": false,
     "start_time": "2022-11-24T23:29:26.035849",
     "status": "completed"
    },
    "tags": []
   },
   "outputs": [
    {
     "data": {
      "image/png": "[encoded data removed]",
      "text/plain": [
       "<Figure size 432x288 with 2 Axes>"
      ]
     },
     "metadata": {
      "needs_background": "light"
     },
     "output_type": "display_data"
    }
   ],
   "source": [
    "from sklearn.metrics import ConfusionMatrixDisplay\n",
    "from sklearn.metrics import confusion_matrix\n",
    "\n",
    "y_pred = classifier.predict(X_test)\n",
    "cm = confusion_matrix(y_test_enc, y_pred)\n",
    "disp = ConfusionMatrixDisplay(confusion_matrix=cm)\n",
    "disp.plot(cmap=plt.cm.Blues)\n",
    "plt.show()"
   ]
  },
  {
   "cell_type": "code",
   "execution_count": 39,
   "id": "db22fe24",
   "metadata": {
    "execution": {
     "iopub.execute_input": "2022-11-24T23:29:26.315175Z",
     "iopub.status.busy": "2022-11-24T23:29:26.314529Z",
     "iopub.status.idle": "2022-11-24T23:29:26.319704Z",
     "shell.execute_reply": "2022-11-24T23:29:26.318497Z"
    },
    "id": "sdtaTuWujSjQ",
    "papermill": {
     "duration": 0.026605,
     "end_time": "2022-11-24T23:29:26.322682",
     "exception": false,
     "start_time": "2022-11-24T23:29:26.296077",
     "status": "completed"
    },
    "tags": []
   },
   "outputs": [],
   "source": [
    "import pandas as pd\n",
    "from sklearn.metrics import recall_score ,precision_score,accuracy_score, f1_score,roc_auc_score"
   ]
  },
  {
   "cell_type": "code",
   "execution_count": 40,
   "id": "ce6f8c4f",
   "metadata": {
    "execution": {
     "iopub.execute_input": "2022-11-24T23:29:26.357749Z",
     "iopub.status.busy": "2022-11-24T23:29:26.356584Z",
     "iopub.status.idle": "2022-11-24T23:29:26.366554Z",
     "shell.execute_reply": "2022-11-24T23:29:26.365605Z"
    },
    "id": "iusE1yFsjM7h",
    "papermill": {
     "duration": 0.029722,
     "end_time": "2022-11-24T23:29:26.368890",
     "exception": false,
     "start_time": "2022-11-24T23:29:26.339168",
     "status": "completed"
    },
    "tags": []
   },
   "outputs": [],
   "source": [
    "def binary_classification_performance(y_test, y_pred):\n",
    "    tp, fp, fn, tn = confusion_matrix(y_test, y_pred).ravel()\n",
    "    accuracy = round(accuracy_score(y_pred = y_pred, y_true = y_test),2)\n",
    "    precision = round(precision_score(y_pred = y_pred, y_true = y_test),2)\n",
    "    recall = round(recall_score(y_pred = y_pred, y_true = y_test),2)\n",
    "    f1_score = round(2*precision*recall/(precision + recall),2)\n",
    "    specificity = round(tn/(tn+fp),2)\n",
    "    npv = round(tn/(tn+fn),2)\n",
    "    auc_roc = round(roc_auc_score(y_score = y_pred, y_true = y_test),2)\n",
    "\n",
    "\n",
    "    result = pd.DataFrame({'Accuracy' : [accuracy],\n",
    "                         'Precision (or PPV)' : [precision],\n",
    "                         'Recall (senitivity or TPR)' : [recall],\n",
    "                         'f1 score' : [f1_score],\n",
    "                         'AUC_ROC' : [auc_roc],\n",
    "                         'Specificty (or TNR)': [specificity],\n",
    "                         'NPV' : [npv],\n",
    "                         'True Positive' : [tp],\n",
    "                         'True Negative' : [tn],\n",
    "                         'False Positive':[fp],\n",
    "                         'False Negative':[fn]})\n",
    "    return result"
   ]
  },
  {
   "cell_type": "code",
   "execution_count": 41,
   "id": "98c12b46",
   "metadata": {
    "execution": {
     "iopub.execute_input": "2022-11-24T23:29:26.404421Z",
     "iopub.status.busy": "2022-11-24T23:29:26.403238Z",
     "iopub.status.idle": "2022-11-24T23:29:26.430676Z",
     "shell.execute_reply": "2022-11-24T23:29:26.429455Z"
    },
    "id": "-bvXa5wvjoXi",
    "papermill": {
     "duration": 0.047734,
     "end_time": "2022-11-24T23:29:26.433229",
     "exception": false,
     "start_time": "2022-11-24T23:29:26.385495",
     "status": "completed"
    },
    "tags": []
   },
   "outputs": [
    {
     "data": {
      "text/html": [
       "<div>\n",
       "<style scoped>\n",
       "    .dataframe tbody tr th:only-of-type {\n",
       "        vertical-align: middle;\n",
       "    }\n",
       "\n",
       "    .dataframe tbody tr th {\n",
       "        vertical-align: top;\n",
       "    }\n",
       "\n",
       "    .dataframe thead th {\n",
       "        text-align: right;\n",
       "    }\n",
       "</style>\n",
       "<table border=\"1\" class=\"dataframe\">\n",
       "  <thead>\n",
       "    <tr style=\"text-align: right;\">\n",
       "      <th></th>\n",
       "      <th>Accuracy</th>\n",
       "      <th>Precision (or PPV)</th>\n",
       "      <th>Recall (senitivity or TPR)</th>\n",
       "      <th>f1 score</th>\n",
       "      <th>AUC_ROC</th>\n",
       "      <th>Specificty (or TNR)</th>\n",
       "      <th>NPV</th>\n",
       "      <th>True Positive</th>\n",
       "      <th>True Negative</th>\n",
       "      <th>False Positive</th>\n",
       "      <th>False Negative</th>\n",
       "    </tr>\n",
       "  </thead>\n",
       "  <tbody>\n",
       "    <tr>\n",
       "      <th>0</th>\n",
       "      <td>0.88</td>\n",
       "      <td>0.9</td>\n",
       "      <td>0.86</td>\n",
       "      <td>0.88</td>\n",
       "      <td>0.88</td>\n",
       "      <td>0.9</td>\n",
       "      <td>0.86</td>\n",
       "      <td>137</td>\n",
       "      <td>128</td>\n",
       "      <td>14</td>\n",
       "      <td>21</td>\n",
       "    </tr>\n",
       "  </tbody>\n",
       "</table>\n",
       "</div>"
      ],
      "text/plain": [
       "   Accuracy  Precision (or PPV)  Recall (senitivity or TPR)  f1 score  \\\n",
       "0      0.88                 0.9                        0.86      0.88   \n",
       "\n",
       "   AUC_ROC  Specificty (or TNR)   NPV  True Positive  True Negative  \\\n",
       "0     0.88                  0.9  0.86            137            128   \n",
       "\n",
       "   False Positive  False Negative  \n",
       "0              14              21  "
      ]
     },
     "execution_count": 41,
     "metadata": {},
     "output_type": "execute_result"
    }
   ],
   "source": [
    "binary_classification_performance(y_test_enc,y_pred)"
   ]
  },
  {
   "cell_type": "code",
   "execution_count": 42,
   "id": "9638e844",
   "metadata": {
    "execution": {
     "iopub.execute_input": "2022-11-24T23:29:26.468483Z",
     "iopub.status.busy": "2022-11-24T23:29:26.467187Z",
     "iopub.status.idle": "2022-11-24T23:29:26.476277Z",
     "shell.execute_reply": "2022-11-24T23:29:26.475132Z"
    },
    "papermill": {
     "duration": 0.029281,
     "end_time": "2022-11-24T23:29:26.478956",
     "exception": false,
     "start_time": "2022-11-24T23:29:26.449675",
     "status": "completed"
    },
    "tags": []
   },
   "outputs": [],
   "source": [
    "import pickle\n",
    "# save the model to disk\n",
    "filename = \"/kaggle/working/finalized_model.sav\"\n",
    "pickle.dump(classifier, open(filename, 'wb'))"
   ]
  },
  {
   "cell_type": "markdown",
   "id": "85c902be",
   "metadata": {
    "id": "cKStBtCJNXYl",
    "papermill": {
     "duration": 0.016251,
     "end_time": "2022-11-24T23:29:26.511703",
     "exception": false,
     "start_time": "2022-11-24T23:29:26.495452",
     "status": "completed"
    },
    "tags": []
   },
   "source": [
    "Resources\n",
    "\n",
    "[Kaggle Example using sklearn classifiers](https://www.kaggle.com/code/jashsheth5/binary-classification-with-sklearn-and-keras-95)\n",
    "\n",
    "[Introduction to SGD Classifier](https://michael-fuchs-python.netlify.app/2019/11/11/introduction-to-sgd-classifier/)\n",
    "\n",
    "[Machine Learning Mastery: Save Model](https://machinelearningmastery.com/save-load-machine-learning-models-python-scikit-learn/)\n"
   ]
  }
 ],
 "metadata": {
  "kernelspec": {
   "display_name": "Python 3",
   "language": "python",
   "name": "python3"
  },
  "language_info": {
   "codemirror_mode": {
    "name": "ipython",
    "version": 3
   },
   "file_extension": ".py",
   "mimetype": "text/x-python",
   "name": "python",
   "nbconvert_exporter": "python",
   "pygments_lexer": "ipython3",
   "version": "3.7.12"
  },
  "papermill": {
   "default_parameters": {},
   "duration": 12841.860308,
   "end_time": "2022-11-24T23:29:27.674816",
   "environment_variables": {},
   "exception": null,
   "input_path": "__notebook__.ipynb",
   "output_path": "__notebook__.ipynb",
   "parameters": {},
   "start_time": "2022-11-24T19:55:25.814508",
   "version": "2.3.4"
  }
 },
 "nbformat": 4,
 "nbformat_minor": 5
}
