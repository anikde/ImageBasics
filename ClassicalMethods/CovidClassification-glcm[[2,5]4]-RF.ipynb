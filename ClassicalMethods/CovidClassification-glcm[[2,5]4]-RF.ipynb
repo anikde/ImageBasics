{
 "cells": [
  {
   "cell_type": "code",
   "execution_count": 1,
   "id": "3aa967c3",
   "metadata": {
    "execution": {
     "iopub.execute_input": "2022-11-21T07:32:56.378004Z",
     "iopub.status.busy": "2022-11-21T07:32:56.377529Z",
     "iopub.status.idle": "2022-11-21T07:32:56.387283Z",
     "shell.execute_reply": "2022-11-21T07:32:56.386474Z"
    },
    "id": "oxPLBm2N7pdp",
    "papermill": {
     "duration": 0.025449,
     "end_time": "2022-11-21T07:32:56.389318",
     "exception": false,
     "start_time": "2022-11-21T07:32:56.363869",
     "status": "completed"
    },
    "tags": []
   },
   "outputs": [],
   "source": [
    "import numpy as np\n",
    "import matplotlib.pyplot as plt\n",
    "import time"
   ]
  },
  {
   "cell_type": "markdown",
   "id": "5a6514a6",
   "metadata": {
    "id": "T-mzrRD17Ff_",
    "papermill": {
     "duration": 0.009963,
     "end_time": "2022-11-21T07:32:56.409877",
     "exception": false,
     "start_time": "2022-11-21T07:32:56.399914",
     "status": "completed"
    },
    "tags": []
   },
   "source": [
    "Load COVID-19 data"
   ]
  },
  {
   "cell_type": "code",
   "execution_count": 2,
   "id": "dda9f08e",
   "metadata": {
    "execution": {
     "iopub.execute_input": "2022-11-21T07:32:56.434367Z",
     "iopub.status.busy": "2022-11-21T07:32:56.433574Z",
     "iopub.status.idle": "2022-11-21T07:32:56.437891Z",
     "shell.execute_reply": "2022-11-21T07:32:56.436869Z"
    },
    "id": "JyoJ-ozr7Bc1",
    "outputId": "74c3b317-b935-4063-b795-fa89691d996e",
    "papermill": {
     "duration": 0.020054,
     "end_time": "2022-11-21T07:32:56.440108",
     "exception": false,
     "start_time": "2022-11-21T07:32:56.420054",
     "status": "completed"
    },
    "tags": []
   },
   "outputs": [],
   "source": [
    "# from google.colab import drive\n",
    "# drive.mount('/content/drive')"
   ]
  },
  {
   "cell_type": "code",
   "execution_count": 3,
   "id": "e51ff1d2",
   "metadata": {
    "execution": {
     "iopub.execute_input": "2022-11-21T07:32:56.462329Z",
     "iopub.status.busy": "2022-11-21T07:32:56.461902Z",
     "iopub.status.idle": "2022-11-21T07:32:57.509612Z",
     "shell.execute_reply": "2022-11-21T07:32:57.508204Z"
    },
    "id": "30SbkEvO7UjL",
    "outputId": "16f20350-199d-4a48-9e68-6a1e68beaecc",
    "papermill": {
     "duration": 1.061929,
     "end_time": "2022-11-21T07:32:57.512282",
     "exception": false,
     "start_time": "2022-11-21T07:32:56.450353",
     "status": "completed"
    },
    "tags": []
   },
   "outputs": [
    {
     "name": "stdout",
     "output_type": "stream",
     "text": [
      "2481\n",
      "2481\n"
     ]
    }
   ],
   "source": [
    "# datapath = \"/content/drive/MyDrive/covidDataset/dataset\"\n",
    "datapath = \"../input/coviddataset-nosplit/covidDataset\" # kaggle\n",
    "\n",
    "\n",
    "import pathlib\n",
    "def get_imagepath_and_labels(datapath):\n",
    "    data_root = pathlib.Path(datapath)\n",
    "    all_image_path = [str(path) for path in list(data_root.glob('*/*'))]\n",
    "\n",
    "    all_image_label = [pathlib.Path(single_image_path).parent.name for single_image_path in all_image_path]\n",
    "\n",
    "    return all_image_path, all_image_label\n",
    "\n",
    "all_image_path, all_image_label = get_imagepath_and_labels(datapath)\n",
    "print(len(all_image_path))\n",
    "print(len(all_image_label))"
   ]
  },
  {
   "cell_type": "code",
   "execution_count": 4,
   "id": "5e22a25e",
   "metadata": {
    "execution": {
     "iopub.execute_input": "2022-11-21T07:32:57.535587Z",
     "iopub.status.busy": "2022-11-21T07:32:57.535164Z",
     "iopub.status.idle": "2022-11-21T07:32:57.540461Z",
     "shell.execute_reply": "2022-11-21T07:32:57.539208Z"
    },
    "id": "a4GLa4J-Udw4",
    "papermill": {
     "duration": 0.019506,
     "end_time": "2022-11-21T07:32:57.542552",
     "exception": false,
     "start_time": "2022-11-21T07:32:57.523046",
     "status": "completed"
    },
    "tags": []
   },
   "outputs": [],
   "source": [
    "# images = all_image_path[:10]+all_image_path[2471:]\n",
    "# labels = all_image_label[:10]+all_image_label[2471:]"
   ]
  },
  {
   "cell_type": "code",
   "execution_count": 5,
   "id": "3615fba3",
   "metadata": {
    "execution": {
     "iopub.execute_input": "2022-11-21T07:32:57.565298Z",
     "iopub.status.busy": "2022-11-21T07:32:57.564882Z",
     "iopub.status.idle": "2022-11-21T07:33:32.090467Z",
     "shell.execute_reply": "2022-11-21T07:33:32.088951Z"
    },
    "id": "x5U7Dsbv7hue",
    "outputId": "8a7711a0-6cf7-407d-8fe8-b0d339302b57",
    "papermill": {
     "duration": 34.550031,
     "end_time": "2022-11-21T07:33:32.103159",
     "exception": false,
     "start_time": "2022-11-21T07:32:57.553128",
     "status": "completed"
    },
    "tags": []
   },
   "outputs": [
    {
     "name": "stdout",
     "output_type": "stream",
     "text": [
      "--- 34.30053973197937 seconds ---\n"
     ]
    }
   ],
   "source": [
    "import numpy as np\n",
    "import cv2\n",
    "\n",
    "def get_images_and_labels_astensor(image_path, image_labels, channels):\n",
    "    images = []\n",
    "    labels = []\n",
    "    for i in range(0, len(image_path)):\n",
    "        image = image_astensor(image_path[i], channels=channels)\n",
    "        images.append(image)\n",
    "        labels.append(image_labels[i])\n",
    "    \n",
    "    images = np.array(images)\n",
    "    labels = np.array(labels)\n",
    "    return images, labels\n",
    "\n",
    "def image_astensor(image_path, channels):\n",
    "        image = cv2.imread(image_path, cv2.IMREAD_GRAYSCALE)\n",
    "        image = cv2.resize(image, (180, 180), interpolation= cv2.INTER_LINEAR)\n",
    "        image = np.array(image).astype('float32')\n",
    "        image = image / 255\n",
    "\n",
    "        return image\n",
    "\n",
    "start_time = time.time()\n",
    "images, labels = get_images_and_labels_astensor(all_image_path, all_image_label, channels=1)\n",
    "# images, labels = get_images_and_labels_astensor(images, labels, channels=1)\n",
    "print(\"--- %s seconds ---\" % (time.time() - start_time))"
   ]
  },
  {
   "cell_type": "code",
   "execution_count": 6,
   "id": "ff7b189a",
   "metadata": {
    "execution": {
     "iopub.execute_input": "2022-11-21T07:33:32.127083Z",
     "iopub.status.busy": "2022-11-21T07:33:32.126586Z",
     "iopub.status.idle": "2022-11-21T07:33:32.135887Z",
     "shell.execute_reply": "2022-11-21T07:33:32.134267Z"
    },
    "id": "3ku0ijHZVF1Q",
    "outputId": "a337a544-7a47-45d8-f75c-66b913943e1f",
    "papermill": {
     "duration": 0.025241,
     "end_time": "2022-11-21T07:33:32.138954",
     "exception": false,
     "start_time": "2022-11-21T07:33:32.113713",
     "status": "completed"
    },
    "tags": []
   },
   "outputs": [
    {
     "name": "stdout",
     "output_type": "stream",
     "text": [
      "(array(['COVID', 'non-COVID'], dtype='<U9'), array([1252, 1229]))\n"
     ]
    }
   ],
   "source": [
    "print(np.unique(labels, return_counts=True))"
   ]
  },
  {
   "cell_type": "code",
   "execution_count": 7,
   "id": "cd2eb372",
   "metadata": {
    "execution": {
     "iopub.execute_input": "2022-11-21T07:33:32.163507Z",
     "iopub.status.busy": "2022-11-21T07:33:32.163008Z",
     "iopub.status.idle": "2022-11-21T07:33:32.429382Z",
     "shell.execute_reply": "2022-11-21T07:33:32.428130Z"
    },
    "id": "cn_PTnxp9kSy",
    "outputId": "87a5da43-a409-472d-9700-02c2a25892a5",
    "papermill": {
     "duration": 0.283021,
     "end_time": "2022-11-21T07:33:32.433220",
     "exception": false,
     "start_time": "2022-11-21T07:33:32.150199",
     "status": "completed"
    },
    "tags": []
   },
   "outputs": [
    {
     "name": "stdout",
     "output_type": "stream",
     "text": [
      "(180, 180)\n",
      "0.21568628\n",
      "1.0\n",
      "float32\n"
     ]
    },
    {
     "data": {
      "image/png": "[encoded data removed]",
      "text/plain": [
       "<Figure size 432x288 with 1 Axes>"
      ]
     },
     "metadata": {
      "needs_background": "light"
     },
     "output_type": "display_data"
    }
   ],
   "source": [
    "print(np.shape(images[1]))\n",
    "print(np.amin(images[1]))\n",
    "print(np.amax(images[1]))\n",
    "print(images[1].dtype)\n",
    "\n",
    "plt.imshow(images[1], cmap='gray')\n",
    "plt.title(\"Original Image\")\n",
    "plt.show()"
   ]
  },
  {
   "cell_type": "code",
   "execution_count": 8,
   "id": "8ad0d6ce",
   "metadata": {
    "execution": {
     "iopub.execute_input": "2022-11-21T07:33:32.458801Z",
     "iopub.status.busy": "2022-11-21T07:33:32.458371Z",
     "iopub.status.idle": "2022-11-21T07:33:32.723458Z",
     "shell.execute_reply": "2022-11-21T07:33:32.722465Z"
    },
    "id": "ZiHYtx6n-T5a",
    "papermill": {
     "duration": 0.281271,
     "end_time": "2022-11-21T07:33:32.726429",
     "exception": false,
     "start_time": "2022-11-21T07:33:32.445158",
     "status": "completed"
    },
    "tags": []
   },
   "outputs": [],
   "source": [
    "import pywt\n",
    "from matplotlib import pyplot as plt\n",
    "from pywt._doc_utils import wavedec2_keys, draw_2d_wp_basis"
   ]
  },
  {
   "cell_type": "markdown",
   "id": "a29a5b6d",
   "metadata": {
    "id": "6TwC3A8bTCFp",
    "papermill": {
     "duration": 0.011146,
     "end_time": "2022-11-21T07:33:32.749067",
     "exception": false,
     "start_time": "2022-11-21T07:33:32.737921",
     "status": "completed"
    },
    "tags": []
   },
   "source": [
    "[Data Normalization](https://stackoverflow.com/a/71835553/14757026)"
   ]
  },
  {
   "cell_type": "code",
   "execution_count": 9,
   "id": "451c7a40",
   "metadata": {
    "execution": {
     "iopub.execute_input": "2022-11-21T07:33:32.774772Z",
     "iopub.status.busy": "2022-11-21T07:33:32.773494Z",
     "iopub.status.idle": "2022-11-21T07:33:32.778960Z",
     "shell.execute_reply": "2022-11-21T07:33:32.778129Z"
    },
    "id": "SyCGE9Z0SHv0",
    "papermill": {
     "duration": 0.020783,
     "end_time": "2022-11-21T07:33:32.781225",
     "exception": false,
     "start_time": "2022-11-21T07:33:32.760442",
     "status": "completed"
    },
    "tags": []
   },
   "outputs": [],
   "source": [
    "import numpy as np\n",
    "def normalise(data):\n",
    "    return (data - np.amin(data)) / (np.amax(data) - np.amin(data))"
   ]
  },
  {
   "cell_type": "code",
   "execution_count": 10,
   "id": "040d4886",
   "metadata": {
    "execution": {
     "iopub.execute_input": "2022-11-21T07:33:32.807356Z",
     "iopub.status.busy": "2022-11-21T07:33:32.806327Z",
     "iopub.status.idle": "2022-11-21T07:33:32.814288Z",
     "shell.execute_reply": "2022-11-21T07:33:32.813470Z"
    },
    "id": "4RLm4Vk84Cus",
    "papermill": {
     "duration": 0.023367,
     "end_time": "2022-11-21T07:33:32.816514",
     "exception": false,
     "start_time": "2022-11-21T07:33:32.793147",
     "status": "completed"
    },
    "tags": []
   },
   "outputs": [],
   "source": [
    " def decompose_images(images):\n",
    "    decomposed_images = []\n",
    "    for i in images:\n",
    "      a, b ,c, d = get_coeffs(i)\n",
    "      e, f, g, h = get_coeffs(a)\n",
    "#       j, k, l, m = get_coeffs(e)\n",
    "#       decomposed_images.append([ b, c, d, f, g, h, k, l, m])\n",
    "      decomposed_images.append([ b, c, d, f, g, h])\n",
    "    return decomposed_images\n",
    "\n",
    "def get_coeffs(image):\n",
    "    coeffs = pywt.dwt2(image,'bior4.4', mode='periodization', axes=(-2, -1))\n",
    "    cA, (cH, cV, cD) = coeffs\n",
    "    return cA, cH, cV, cD"
   ]
  },
  {
   "cell_type": "code",
   "execution_count": 11,
   "id": "b2132fee",
   "metadata": {
    "execution": {
     "iopub.execute_input": "2022-11-21T07:33:32.841479Z",
     "iopub.status.busy": "2022-11-21T07:33:32.840832Z",
     "iopub.status.idle": "2022-11-21T07:33:36.985685Z",
     "shell.execute_reply": "2022-11-21T07:33:36.984447Z"
    },
    "id": "7NydMnVi59-t",
    "outputId": "e77f1df2-ad3d-46b6-e656-36de027707ce",
    "papermill": {
     "duration": 4.160455,
     "end_time": "2022-11-21T07:33:36.988337",
     "exception": false,
     "start_time": "2022-11-21T07:33:32.827882",
     "status": "completed"
    },
    "tags": []
   },
   "outputs": [
    {
     "name": "stdout",
     "output_type": "stream",
     "text": [
      "--- 4.133707284927368 seconds ---\n",
      "(2481, 6)\n"
     ]
    }
   ],
   "source": [
    "start_time = time.time()\n",
    "d_images = decompose_images(images)\n",
    "print(\"--- %s seconds ---\" % (time.time() - start_time))\n",
    "\n",
    "d_images = np.array(d_images, dtype=object)\n",
    "print(d_images.shape)"
   ]
  },
  {
   "cell_type": "code",
   "execution_count": 12,
   "id": "5e8db34b",
   "metadata": {
    "execution": {
     "iopub.execute_input": "2022-11-21T07:33:37.013845Z",
     "iopub.status.busy": "2022-11-21T07:33:37.013416Z",
     "iopub.status.idle": "2022-11-21T07:33:37.019799Z",
     "shell.execute_reply": "2022-11-21T07:33:37.018542Z"
    },
    "id": "5tD5piTtDsEI",
    "outputId": "03391526-d220-41a8-dbe5-a1a7b186a788",
    "papermill": {
     "duration": 0.022242,
     "end_time": "2022-11-21T07:33:37.022583",
     "exception": false,
     "start_time": "2022-11-21T07:33:37.000341",
     "status": "completed"
    },
    "tags": []
   },
   "outputs": [
    {
     "name": "stdout",
     "output_type": "stream",
     "text": [
      "2481\n",
      "6\n"
     ]
    }
   ],
   "source": [
    "print(d_images.shape[0])\n",
    "print(d_images.shape[1])"
   ]
  },
  {
   "cell_type": "code",
   "execution_count": 13,
   "id": "2e9030d5",
   "metadata": {
    "execution": {
     "iopub.execute_input": "2022-11-21T07:33:37.048558Z",
     "iopub.status.busy": "2022-11-21T07:33:37.047443Z",
     "iopub.status.idle": "2022-11-21T07:33:37.103819Z",
     "shell.execute_reply": "2022-11-21T07:33:37.102773Z"
    },
    "id": "72ZatMIv1cv9",
    "outputId": "28a60b06-422d-4577-92af-f083b3f7bcbb",
    "papermill": {
     "duration": 0.071802,
     "end_time": "2022-11-21T07:33:37.106101",
     "exception": false,
     "start_time": "2022-11-21T07:33:37.034299",
     "status": "completed"
    },
    "tags": []
   },
   "outputs": [
    {
     "data": {
      "text/plain": [
       "<Figure size 432x288 with 0 Axes>"
      ]
     },
     "metadata": {},
     "output_type": "display_data"
    }
   ],
   "source": [
    "# %run /content/drive/MyDrive/WT-GLCM-NN/haralick_feature_test/haralick_features_V1.03.py\n",
    "%run ../input/haralickfeaturespy/haralick_features_V1.03.py #kaggle"
   ]
  },
  {
   "cell_type": "code",
   "execution_count": 14,
   "id": "d2257882",
   "metadata": {
    "execution": {
     "iopub.execute_input": "2022-11-21T07:33:37.132729Z",
     "iopub.status.busy": "2022-11-21T07:33:37.131769Z",
     "iopub.status.idle": "2022-11-21T07:33:38.202891Z",
     "shell.execute_reply": "2022-11-21T07:33:38.201582Z"
    },
    "id": "djrsxEft9mUs",
    "papermill": {
     "duration": 1.087988,
     "end_time": "2022-11-21T07:33:38.206148",
     "exception": false,
     "start_time": "2022-11-21T07:33:37.118160",
     "status": "completed"
    },
    "tags": []
   },
   "outputs": [],
   "source": [
    "# from skimage.feature import greycomatrix\n",
    "from skimage.feature import graycomatrix #kaggle\n",
    "def extract_features(d_images):\n",
    "    feature_vector = []\n",
    "    for i in range(d_images.shape[0]):\n",
    "        feature = []\n",
    "        for j in range(d_images.shape[1]):\n",
    "            image = d_images[i, j].astype(np.uint8)\n",
    "            g = get_glcm(image)\n",
    "            for p in range(g.shape[2]):\n",
    "                for k in range(g.shape[3]):\n",
    "                    feature.append(glcm_features(g[:, :, p, k].reshape(256, 256, 1, 1)))\n",
    "        feature_vector.append(feature)\n",
    "    return feature_vector\n",
    "\n",
    "def glcm_features(glcm):\n",
    "    features = get_haralick_features(glcm)\n",
    "    return features\n",
    "\n",
    "def get_glcm(image):\n",
    "    distances = [2, 5, 10]\n",
    "    # distances = [2, 3]\n",
    "#     angles = [0, np.pi/4, np.pi/2, 3*np.pi/4, np.pi, 5*np.pi/4, 3*np.pi/2, 7*np.pi/4]\n",
    "    # angles = [np.pi/4, 3*np.pi/4, 5*np.pi/4, 7*np.pi/4]\n",
    "    angles = [0, np.pi/4, np.pi/2, 3*np.pi/4]\n",
    "#     glcm = greycomatrix(image, distances, angles, levels = 256)\n",
    "    glcm = graycomatrix(image, distances, angles, levels = 256)\n",
    "    return glcm"
   ]
  },
  {
   "cell_type": "code",
   "execution_count": 15,
   "id": "a604433a",
   "metadata": {
    "execution": {
     "iopub.execute_input": "2022-11-21T07:33:38.233700Z",
     "iopub.status.busy": "2022-11-21T07:33:38.232646Z",
     "iopub.status.idle": "2022-11-21T07:33:38.455617Z",
     "shell.execute_reply": "2022-11-21T07:33:38.454439Z"
    },
    "id": "AdGzcWpFV3J_",
    "papermill": {
     "duration": 0.239699,
     "end_time": "2022-11-21T07:33:38.458660",
     "exception": false,
     "start_time": "2022-11-21T07:33:38.218961",
     "status": "completed"
    },
    "tags": []
   },
   "outputs": [],
   "source": [
    "def find_min_max(im):\n",
    "    MAX = 0\n",
    "    MIN = 0\n",
    "    for i in range(im.shape[0]):\n",
    "        for j in range(im.shape[1]):\n",
    "            if MAX < np.amax(im[i][j]):\n",
    "                MAX = np.amax(im[i][j])\n",
    "            else: pass\n",
    "            if MIN > np.amin(im[i][j]):\n",
    "                MIN = np.amin(im[i][j])              \n",
    "    return [MAX, MIN]\n",
    "\n",
    "MAX, MIN = find_min_max(d_images) "
   ]
  },
  {
   "cell_type": "code",
   "execution_count": 16,
   "id": "8872c613",
   "metadata": {
    "execution": {
     "iopub.execute_input": "2022-11-21T07:33:38.484812Z",
     "iopub.status.busy": "2022-11-21T07:33:38.484300Z",
     "iopub.status.idle": "2022-11-21T07:33:38.490388Z",
     "shell.execute_reply": "2022-11-21T07:33:38.489284Z"
    },
    "id": "RLd8k-04VaO0",
    "outputId": "e8deb3c5-f6a5-46e1-c9a2-457ccb622713",
    "papermill": {
     "duration": 0.022216,
     "end_time": "2022-11-21T07:33:38.492903",
     "exception": false,
     "start_time": "2022-11-21T07:33:38.470687",
     "status": "completed"
    },
    "tags": []
   },
   "outputs": [
    {
     "name": "stdout",
     "output_type": "stream",
     "text": [
      "1.5229372\n",
      "-1.6244205\n"
     ]
    }
   ],
   "source": [
    "print(MAX)\n",
    "print(MIN)"
   ]
  },
  {
   "cell_type": "code",
   "execution_count": 17,
   "id": "cdda2897",
   "metadata": {
    "execution": {
     "iopub.execute_input": "2022-11-21T07:33:38.519123Z",
     "iopub.status.busy": "2022-11-21T07:33:38.518344Z",
     "iopub.status.idle": "2022-11-21T07:33:39.477624Z",
     "shell.execute_reply": "2022-11-21T07:33:39.476393Z"
    },
    "id": "1b4sQxDCC_B5",
    "outputId": "f2760b7a-72fe-4b13-b970-eaa716800b66",
    "papermill": {
     "duration": 0.975742,
     "end_time": "2022-11-21T07:33:39.480573",
     "exception": false,
     "start_time": "2022-11-21T07:33:38.504831",
     "status": "completed"
    },
    "tags": []
   },
   "outputs": [
    {
     "name": "stdout",
     "output_type": "stream",
     "text": [
      "(45, 45)\n",
      "177.44096\n",
      "72.85742\n"
     ]
    }
   ],
   "source": [
    "d_images = (d_images+ np.abs(MIN) ) * (1 / (np.abs(MIN) + np.abs(MAX)))  * 255\n",
    "print(d_images[1][4].shape)\n",
    "print(np.amax(d_images[1][4]))\n",
    "print(np.amin(d_images[1][4]))"
   ]
  },
  {
   "cell_type": "code",
   "execution_count": 18,
   "id": "5099461b",
   "metadata": {
    "execution": {
     "iopub.execute_input": "2022-11-21T07:33:39.506449Z",
     "iopub.status.busy": "2022-11-21T07:33:39.506000Z",
     "iopub.status.idle": "2022-11-21T12:39:42.446612Z",
     "shell.execute_reply": "2022-11-21T12:39:42.445378Z"
    },
    "id": "0O4khR2rbEfp",
    "outputId": "74a61dfe-9727-4be5-e3b3-be57099f168b",
    "papermill": {
     "duration": 18362.95658,
     "end_time": "2022-11-21T12:39:42.449036",
     "exception": false,
     "start_time": "2022-11-21T07:33:39.492456",
     "status": "completed"
    },
    "tags": []
   },
   "outputs": [
    {
     "name": "stderr",
     "output_type": "stream",
     "text": [
      "/kaggle/input/haralickfeaturespy/haralick_features_V1.03.py:183: RuntimeWarning: invalid value encountered in sqrt\n",
      "  result = np.sqrt(maxlist[1])\n"
     ]
    },
    {
     "name": "stdout",
     "output_type": "stream",
     "text": [
      "--- 18362.471059560776 seconds ---\n",
      "(2481, 72, 15)\n"
     ]
    }
   ],
   "source": [
    "start_time = time.time()\n",
    "group_tensor = extract_features(d_images=d_images)\n",
    "print(\"--- %s seconds ---\" % (time.time() - start_time))\n",
    "\n",
    "f_tensor = np.array(group_tensor, dtype=object)\n",
    "print(f_tensor.shape)"
   ]
  },
  {
   "cell_type": "markdown",
   "id": "a0cb220a",
   "metadata": {
    "id": "LB9TPp3Jk9GN",
    "papermill": {
     "duration": 0.012256,
     "end_time": "2022-11-21T12:39:42.473290",
     "exception": false,
     "start_time": "2022-11-21T12:39:42.461034",
     "status": "completed"
    },
    "tags": []
   },
   "source": [
    "reshaping the feature matrix to (1, N)"
   ]
  },
  {
   "cell_type": "code",
   "execution_count": 19,
   "id": "3f31d97a",
   "metadata": {
    "execution": {
     "iopub.execute_input": "2022-11-21T12:39:42.498996Z",
     "iopub.status.busy": "2022-11-21T12:39:42.498595Z",
     "iopub.status.idle": "2022-11-21T12:39:44.628101Z",
     "shell.execute_reply": "2022-11-21T12:39:44.626905Z"
    },
    "id": "mB3d0NcVk8ve",
    "papermill": {
     "duration": 2.145225,
     "end_time": "2022-11-21T12:39:44.630449",
     "exception": false,
     "start_time": "2022-11-21T12:39:42.485224",
     "status": "completed"
    },
    "tags": []
   },
   "outputs": [
    {
     "name": "stdout",
     "output_type": "stream",
     "text": [
      "(2481, 1080)\n",
      "17283.001708597083\n",
      "-0.24156287847368513\n"
     ]
    }
   ],
   "source": [
    "feature_tensor = f_tensor.reshape(f_tensor.shape[0], -1)\n",
    "print(feature_tensor.shape)\n",
    "print(np.amax(feature_tensor))\n",
    "print(np.amin(feature_tensor))"
   ]
  },
  {
   "cell_type": "code",
   "execution_count": 20,
   "id": "7a9582ec",
   "metadata": {
    "execution": {
     "iopub.execute_input": "2022-11-21T12:39:44.657039Z",
     "iopub.status.busy": "2022-11-21T12:39:44.656298Z",
     "iopub.status.idle": "2022-11-21T12:39:47.401438Z",
     "shell.execute_reply": "2022-11-21T12:39:47.400217Z"
    },
    "id": "Y6iIh0iXcW_r",
    "papermill": {
     "duration": 2.761662,
     "end_time": "2022-11-21T12:39:47.404475",
     "exception": false,
     "start_time": "2022-11-21T12:39:44.642813",
     "status": "completed"
    },
    "tags": []
   },
   "outputs": [],
   "source": [
    "# file = \"/content/drive/MyDrive/WT-GLCM-NN/haralick_feature_test/features-[[01, 02,] 4].csv\"\n",
    "file = \"/kaggle/working/features-[[02, 05] 4].csv\" #kaggle\n",
    "np.savetxt(file, feature_tensor, delimiter=\",\")"
   ]
  },
  {
   "cell_type": "code",
   "execution_count": 21,
   "id": "ebda6521",
   "metadata": {
    "execution": {
     "iopub.execute_input": "2022-11-21T12:39:47.434789Z",
     "iopub.status.busy": "2022-11-21T12:39:47.434393Z",
     "iopub.status.idle": "2022-11-21T12:39:48.126313Z",
     "shell.execute_reply": "2022-11-21T12:39:48.125143Z"
    },
    "id": "AOb_CS8JdIf7",
    "papermill": {
     "duration": 0.708628,
     "end_time": "2022-11-21T12:39:48.128980",
     "exception": false,
     "start_time": "2022-11-21T12:39:47.420352",
     "status": "completed"
    },
    "tags": []
   },
   "outputs": [
    {
     "name": "stdout",
     "output_type": "stream",
     "text": [
      "1625\n"
     ]
    }
   ],
   "source": [
    "# file = \"/content/drive/MyDrive/WT-GLCM-NN/haralick_feature_test/featuresWithMaxCorrCoeff2.csv\"\n",
    "import pandas as pd\n",
    "\n",
    "df = pd.read_csv(file, sep=\",\")\n",
    "print(df.isna().sum().sum())"
   ]
  },
  {
   "cell_type": "code",
   "execution_count": 22,
   "id": "fae00391",
   "metadata": {
    "execution": {
     "iopub.execute_input": "2022-11-21T12:39:48.155832Z",
     "iopub.status.busy": "2022-11-21T12:39:48.155448Z",
     "iopub.status.idle": "2022-11-21T13:01:56.424133Z",
     "shell.execute_reply": "2022-11-21T13:01:56.423148Z"
    },
    "id": "DjsUpBkBgcc0",
    "papermill": {
     "duration": 1328.285334,
     "end_time": "2022-11-21T13:01:56.426898",
     "exception": false,
     "start_time": "2022-11-21T12:39:48.141564",
     "status": "completed"
    },
    "tags": []
   },
   "outputs": [],
   "source": [
    "from sklearn.experimental import enable_iterative_imputer\n",
    "from sklearn.impute import IterativeImputer\n",
    "\n",
    "imp = IterativeImputer(max_iter=20, random_state=42)\n",
    "imp.fit(feature_tensor)\n",
    "tensor = imp.transform(feature_tensor)\n",
    "# file = \"/content/drive/MyDrive/WT-GLCM-NN/haralick_feature_test/features-[[01, 02,] 4]-NoNan.csv\"\n",
    "file = \"/kaggle/working/features-[[02, 05] 4-NoNan].csv\" #kaggle\n",
    "np.savetxt(file, tensor, delimiter=\",\")"
   ]
  },
  {
   "cell_type": "code",
   "execution_count": 23,
   "id": "e5ab0bfb",
   "metadata": {
    "execution": {
     "iopub.execute_input": "2022-11-21T13:01:56.453150Z",
     "iopub.status.busy": "2022-11-21T13:01:56.452781Z",
     "iopub.status.idle": "2022-11-21T13:01:57.095157Z",
     "shell.execute_reply": "2022-11-21T13:01:57.093801Z"
    },
    "id": "14n7d7U0hNBd",
    "papermill": {
     "duration": 0.658158,
     "end_time": "2022-11-21T13:01:57.097631",
     "exception": false,
     "start_time": "2022-11-21T13:01:56.439473",
     "status": "completed"
    },
    "tags": []
   },
   "outputs": [
    {
     "name": "stdout",
     "output_type": "stream",
     "text": [
      "0\n"
     ]
    }
   ],
   "source": [
    "import pandas as pd\n",
    "\n",
    "df = pd.read_csv(file, sep=\",\")\n",
    "print(df.isna().sum().sum())"
   ]
  },
  {
   "cell_type": "code",
   "execution_count": 24,
   "id": "d7428e51",
   "metadata": {
    "execution": {
     "iopub.execute_input": "2022-11-21T13:01:57.124236Z",
     "iopub.status.busy": "2022-11-21T13:01:57.123836Z",
     "iopub.status.idle": "2022-11-21T13:01:57.133892Z",
     "shell.execute_reply": "2022-11-21T13:01:57.132840Z"
    },
    "id": "igqdJAM6cgoz",
    "papermill": {
     "duration": 0.025845,
     "end_time": "2022-11-21T13:01:57.136051",
     "exception": false,
     "start_time": "2022-11-21T13:01:57.110206",
     "status": "completed"
    },
    "tags": []
   },
   "outputs": [
    {
     "data": {
      "text/plain": [
       "0"
      ]
     },
     "execution_count": 24,
     "metadata": {},
     "output_type": "execute_result"
    }
   ],
   "source": [
    "np.count_nonzero(np.isnan(tensor))"
   ]
  },
  {
   "cell_type": "code",
   "execution_count": 25,
   "id": "be9ff3d9",
   "metadata": {
    "execution": {
     "iopub.execute_input": "2022-11-21T13:01:57.163732Z",
     "iopub.status.busy": "2022-11-21T13:01:57.163041Z",
     "iopub.status.idle": "2022-11-21T13:01:57.173433Z",
     "shell.execute_reply": "2022-11-21T13:01:57.172133Z"
    },
    "id": "EYuiwS9AZ1BW",
    "papermill": {
     "duration": 0.026919,
     "end_time": "2022-11-21T13:01:57.175643",
     "exception": false,
     "start_time": "2022-11-21T13:01:57.148724",
     "status": "completed"
    },
    "tags": []
   },
   "outputs": [
    {
     "name": "stdout",
     "output_type": "stream",
     "text": [
      "(2481, 1080)\n",
      "<class 'numpy.ndarray'>\n",
      "17729.468956458833\n",
      "-0.46533979050239027\n"
     ]
    }
   ],
   "source": [
    "print(tensor.shape)\n",
    "print(type(tensor))\n",
    "print(np.amax(tensor))\n",
    "print(np.amin(tensor))"
   ]
  },
  {
   "cell_type": "markdown",
   "id": "361aabb0",
   "metadata": {
    "id": "Y-nMJZcgmKfq",
    "papermill": {
     "duration": 0.01206,
     "end_time": "2022-11-21T13:01:57.200938",
     "exception": false,
     "start_time": "2022-11-21T13:01:57.188878",
     "status": "completed"
    },
    "tags": []
   },
   "source": [
    "Preparing data\n",
    "\n",
    "\n",
    "\n",
    "\n",
    "\n"
   ]
  },
  {
   "cell_type": "code",
   "execution_count": 26,
   "id": "f5f28cb9",
   "metadata": {
    "execution": {
     "iopub.execute_input": "2022-11-21T13:01:57.227795Z",
     "iopub.status.busy": "2022-11-21T13:01:57.227116Z",
     "iopub.status.idle": "2022-11-21T13:01:57.233050Z",
     "shell.execute_reply": "2022-11-21T13:01:57.232008Z"
    },
    "id": "wAGgP8FlxghZ",
    "papermill": {
     "duration": 0.021782,
     "end_time": "2022-11-21T13:01:57.235001",
     "exception": false,
     "start_time": "2022-11-21T13:01:57.213219",
     "status": "completed"
    },
    "tags": []
   },
   "outputs": [
    {
     "name": "stdout",
     "output_type": "stream",
     "text": [
      "(array(['COVID', 'non-COVID'], dtype='<U9'), array([1252, 1229]))\n"
     ]
    }
   ],
   "source": [
    "print(np.unique(labels, return_counts=True))"
   ]
  },
  {
   "cell_type": "code",
   "execution_count": 27,
   "id": "9249363a",
   "metadata": {
    "execution": {
     "iopub.execute_input": "2022-11-21T13:01:57.261914Z",
     "iopub.status.busy": "2022-11-21T13:01:57.260990Z",
     "iopub.status.idle": "2022-11-21T13:01:57.289887Z",
     "shell.execute_reply": "2022-11-21T13:01:57.288584Z"
    },
    "id": "Wb0ggA_2xi4y",
    "papermill": {
     "duration": 0.044811,
     "end_time": "2022-11-21T13:01:57.292274",
     "exception": false,
     "start_time": "2022-11-21T13:01:57.247463",
     "status": "completed"
    },
    "tags": []
   },
   "outputs": [
    {
     "name": "stdout",
     "output_type": "stream",
     "text": [
      "(2181, 1080)\n",
      "(2181,)\n",
      "(300, 1080)\n",
      "(300,)\n"
     ]
    }
   ],
   "source": [
    "from sklearn.model_selection import train_test_split\n",
    " \n",
    "X_train, X_test, y_train, y_test = train_test_split(\n",
    "    tensor, \n",
    "    labels, \n",
    "    test_size=300, \n",
    "    shuffle=True,\n",
    "    random_state=42,\n",
    "    stratify=labels\n",
    ")\n",
    "\n",
    "print(X_train.shape)\n",
    "print(y_train.shape)\n",
    "print(X_test.shape)\n",
    "print(y_test.shape)"
   ]
  },
  {
   "cell_type": "code",
   "execution_count": 28,
   "id": "a0e38dc5",
   "metadata": {
    "execution": {
     "iopub.execute_input": "2022-11-21T13:01:57.319577Z",
     "iopub.status.busy": "2022-11-21T13:01:57.318901Z",
     "iopub.status.idle": "2022-11-21T13:01:57.325522Z",
     "shell.execute_reply": "2022-11-21T13:01:57.324227Z"
    },
    "id": "YK-vwciJpZ-I",
    "papermill": {
     "duration": 0.022757,
     "end_time": "2022-11-21T13:01:57.327700",
     "exception": false,
     "start_time": "2022-11-21T13:01:57.304943",
     "status": "completed"
    },
    "tags": []
   },
   "outputs": [
    {
     "name": "stdout",
     "output_type": "stream",
     "text": [
      "(array(['COVID', 'non-COVID'], dtype='<U9'), array([1101, 1080]))\n",
      "(array(['COVID', 'non-COVID'], dtype='<U9'), array([151, 149]))\n"
     ]
    }
   ],
   "source": [
    "print(np.unique(y_train, return_counts=True))\n",
    "print(np.unique(y_test, return_counts=True)) "
   ]
  },
  {
   "cell_type": "code",
   "execution_count": 29,
   "id": "0597ffdb",
   "metadata": {
    "execution": {
     "iopub.execute_input": "2022-11-21T13:01:57.355206Z",
     "iopub.status.busy": "2022-11-21T13:01:57.354798Z",
     "iopub.status.idle": "2022-11-21T13:01:57.363167Z",
     "shell.execute_reply": "2022-11-21T13:01:57.361996Z"
    },
    "id": "RzNIFeMEe6ym",
    "papermill": {
     "duration": 0.024963,
     "end_time": "2022-11-21T13:01:57.365569",
     "exception": false,
     "start_time": "2022-11-21T13:01:57.340606",
     "status": "completed"
    },
    "tags": []
   },
   "outputs": [],
   "source": [
    "from sklearn.preprocessing import LabelEncoder\n",
    "# prepare target\n",
    "\n",
    "def prepare_targets(y_train, y_test):\n",
    "    le = LabelEncoder()\n",
    "    le.fit(y_train)\n",
    "    y_train_enc = le.transform(y_train)\n",
    "    y_test_enc = le.transform(y_test)\n",
    "    # y_valid_enc = le.transform(y_valid)\n",
    "    return y_train_enc, y_test_enc\n",
    "\n",
    "y_train_enc, y_test_enc = prepare_targets(y_train, y_test)"
   ]
  },
  {
   "cell_type": "code",
   "execution_count": 30,
   "id": "1417c9dd",
   "metadata": {
    "execution": {
     "iopub.execute_input": "2022-11-21T13:01:57.392713Z",
     "iopub.status.busy": "2022-11-21T13:01:57.392285Z",
     "iopub.status.idle": "2022-11-21T13:01:57.403787Z",
     "shell.execute_reply": "2022-11-21T13:01:57.402184Z"
    },
    "id": "JCFFLWLTfKdQ",
    "papermill": {
     "duration": 0.02772,
     "end_time": "2022-11-21T13:01:57.406155",
     "exception": false,
     "start_time": "2022-11-21T13:01:57.378435",
     "status": "completed"
    },
    "tags": []
   },
   "outputs": [
    {
     "name": "stdout",
     "output_type": "stream",
     "text": [
      "(2181, 1080)\n",
      "(300, 1080)\n",
      "17729.468956458833\n",
      "-0.46533979050239027\n",
      "17691.405942457433\n",
      "-0.42859926125230047\n",
      "(2181,)\n",
      "(300,)\n"
     ]
    }
   ],
   "source": [
    "print(X_train.shape)\n",
    "print(X_test.shape)\n",
    "\n",
    "print(np.amax(X_train))\n",
    "print(np.amin(X_train))\n",
    "print(np.amax(X_test))\n",
    "print(np.amin(X_test))\n",
    "\n",
    "\n",
    "print(y_train_enc.shape)\n",
    "print(y_test_enc.shape)"
   ]
  },
  {
   "cell_type": "code",
   "execution_count": 31,
   "id": "328e7f27",
   "metadata": {
    "execution": {
     "iopub.execute_input": "2022-11-21T13:01:57.512676Z",
     "iopub.status.busy": "2022-11-21T13:01:57.511951Z",
     "iopub.status.idle": "2022-11-21T13:01:57.549061Z",
     "shell.execute_reply": "2022-11-21T13:01:57.547870Z"
    },
    "id": "SK4rmvOMflfr",
    "papermill": {
     "duration": 0.13256,
     "end_time": "2022-11-21T13:01:57.551945",
     "exception": false,
     "start_time": "2022-11-21T13:01:57.419385",
     "status": "completed"
    },
    "tags": []
   },
   "outputs": [],
   "source": [
    "from sklearn.preprocessing import StandardScaler\n",
    "sc = StandardScaler()\n",
    "X_train = sc.fit_transform(X_train)\n",
    "X_test = sc.fit_transform(X_test)"
   ]
  },
  {
   "cell_type": "code",
   "execution_count": 32,
   "id": "e34a8a8e",
   "metadata": {
    "execution": {
     "iopub.execute_input": "2022-11-21T13:01:57.579192Z",
     "iopub.status.busy": "2022-11-21T13:01:57.578809Z",
     "iopub.status.idle": "2022-11-21T13:01:57.589358Z",
     "shell.execute_reply": "2022-11-21T13:01:57.588158Z"
    },
    "id": "KASWz5mvfSiV",
    "papermill": {
     "duration": 0.027026,
     "end_time": "2022-11-21T13:01:57.591689",
     "exception": false,
     "start_time": "2022-11-21T13:01:57.564663",
     "status": "completed"
    },
    "tags": []
   },
   "outputs": [
    {
     "name": "stdout",
     "output_type": "stream",
     "text": [
      "(2181, 1080)\n",
      "(300, 1080)\n",
      "25.645981024594942\n",
      "-9.160739694820752\n",
      "12.268035934365962\n",
      "-7.435105082825533\n"
     ]
    }
   ],
   "source": [
    "print(X_train.shape)\n",
    "print(X_test.shape)\n",
    "\n",
    "print(np.amax(X_train))\n",
    "print(np.amin(X_train))\n",
    "print(np.amax(X_test))\n",
    "print(np.amin(X_test))"
   ]
  },
  {
   "cell_type": "code",
   "execution_count": 33,
   "id": "0591cd04",
   "metadata": {
    "execution": {
     "iopub.execute_input": "2022-11-21T13:01:57.618894Z",
     "iopub.status.busy": "2022-11-21T13:01:57.618490Z",
     "iopub.status.idle": "2022-11-21T13:01:57.626637Z",
     "shell.execute_reply": "2022-11-21T13:01:57.625624Z"
    },
    "id": "AG08FQb5hiWR",
    "papermill": {
     "duration": 0.024638,
     "end_time": "2022-11-21T13:01:57.629111",
     "exception": false,
     "start_time": "2022-11-21T13:01:57.604473",
     "status": "completed"
    },
    "tags": []
   },
   "outputs": [
    {
     "name": "stdout",
     "output_type": "stream",
     "text": [
      "0\n",
      "0\n"
     ]
    }
   ],
   "source": [
    "print(np.count_nonzero(np.isnan(X_train)))\n",
    "print(np.count_nonzero(np.isnan(X_test)))"
   ]
  },
  {
   "cell_type": "code",
   "execution_count": 34,
   "id": "a5fe1e8d",
   "metadata": {
    "execution": {
     "iopub.execute_input": "2022-11-21T13:01:57.656741Z",
     "iopub.status.busy": "2022-11-21T13:01:57.656329Z",
     "iopub.status.idle": "2022-11-21T13:02:57.760566Z",
     "shell.execute_reply": "2022-11-21T13:02:57.759288Z"
    },
    "id": "iCneoNzkhrPT",
    "papermill": {
     "duration": 60.133343,
     "end_time": "2022-11-21T13:02:57.775495",
     "exception": false,
     "start_time": "2022-11-21T13:01:57.642152",
     "status": "completed"
    },
    "tags": []
   },
   "outputs": [
    {
     "data": {
      "text/plain": [
       "RandomForestClassifier(n_estimators=46, random_state=0)"
      ]
     },
     "execution_count": 34,
     "metadata": {},
     "output_type": "execute_result"
    }
   ],
   "source": [
    "from sklearn.ensemble import RandomForestClassifier\n",
    "from sklearn.metrics import accuracy_score\n",
    "max_accuracy = 0\n",
    "\n",
    "\n",
    "for x in range(1, 50):\n",
    "    rf = RandomForestClassifier(n_estimators=x)\n",
    "    rf.fit(X_train,y_train_enc)\n",
    "    Y_pred_rf = rf.predict(X_test)\n",
    "    current_accuracy = round(accuracy_score(Y_pred_rf,y_test_enc)*100,2)\n",
    "    if(current_accuracy>max_accuracy):\n",
    "        max_accuracy = current_accuracy\n",
    "        best_x = x\n",
    "\n",
    "classifier = RandomForestClassifier(n_estimators=best_x, random_state=0)\n",
    "classifier.fit(X_train, y_train_enc)"
   ]
  },
  {
   "cell_type": "code",
   "execution_count": 35,
   "id": "7aa02f85",
   "metadata": {
    "execution": {
     "iopub.execute_input": "2022-11-21T13:02:57.803696Z",
     "iopub.status.busy": "2022-11-21T13:02:57.803009Z",
     "iopub.status.idle": "2022-11-21T13:02:57.994752Z",
     "shell.execute_reply": "2022-11-21T13:02:57.993426Z"
    },
    "id": "Y0-veeR8i3EC",
    "papermill": {
     "duration": 0.208993,
     "end_time": "2022-11-21T13:02:57.997445",
     "exception": false,
     "start_time": "2022-11-21T13:02:57.788452",
     "status": "completed"
    },
    "tags": []
   },
   "outputs": [
    {
     "data": {
      "image/png": "[encoded data removed]",
      "text/plain": [
       "<Figure size 432x288 with 2 Axes>"
      ]
     },
     "metadata": {
      "needs_background": "light"
     },
     "output_type": "display_data"
    }
   ],
   "source": [
    "from sklearn.metrics import ConfusionMatrixDisplay\n",
    "from sklearn.metrics import confusion_matrix\n",
    "\n",
    "y_pred = classifier.predict(X_test)\n",
    "cm = confusion_matrix(y_test_enc, y_pred)\n",
    "disp = ConfusionMatrixDisplay(confusion_matrix=cm)\n",
    "disp.plot(cmap=plt.cm.Blues)\n",
    "plt.show()"
   ]
  },
  {
   "cell_type": "code",
   "execution_count": 36,
   "id": "04dd3ddc",
   "metadata": {
    "execution": {
     "iopub.execute_input": "2022-11-21T13:02:58.028161Z",
     "iopub.status.busy": "2022-11-21T13:02:58.027656Z",
     "iopub.status.idle": "2022-11-21T13:02:58.033701Z",
     "shell.execute_reply": "2022-11-21T13:02:58.032492Z"
    },
    "id": "sdtaTuWujSjQ",
    "papermill": {
     "duration": 0.024359,
     "end_time": "2022-11-21T13:02:58.036016",
     "exception": false,
     "start_time": "2022-11-21T13:02:58.011657",
     "status": "completed"
    },
    "tags": []
   },
   "outputs": [],
   "source": [
    "import pandas as pd\n",
    "from sklearn.metrics import recall_score ,precision_score,accuracy_score, f1_score,roc_auc_score"
   ]
  },
  {
   "cell_type": "code",
   "execution_count": 37,
   "id": "89907abe",
   "metadata": {
    "execution": {
     "iopub.execute_input": "2022-11-21T13:02:58.067096Z",
     "iopub.status.busy": "2022-11-21T13:02:58.066672Z",
     "iopub.status.idle": "2022-11-21T13:02:58.078466Z",
     "shell.execute_reply": "2022-11-21T13:02:58.076973Z"
    },
    "id": "iusE1yFsjM7h",
    "papermill": {
     "duration": 0.030347,
     "end_time": "2022-11-21T13:02:58.080919",
     "exception": false,
     "start_time": "2022-11-21T13:02:58.050572",
     "status": "completed"
    },
    "tags": []
   },
   "outputs": [],
   "source": [
    "def binary_classification_performance(y_test, y_pred):\n",
    "    tp, fp, fn, tn = confusion_matrix(y_test, y_pred).ravel()\n",
    "    accuracy = round(accuracy_score(y_pred = y_pred, y_true = y_test),2)\n",
    "    precision = round(precision_score(y_pred = y_pred, y_true = y_test),2)\n",
    "    recall = round(recall_score(y_pred = y_pred, y_true = y_test),2)\n",
    "    f1_score = round(2*precision*recall/(precision + recall),2)\n",
    "    specificity = round(tn/(tn+fp),2)\n",
    "    npv = round(tn/(tn+fn),2)\n",
    "    auc_roc = round(roc_auc_score(y_score = y_pred, y_true = y_test),2)\n",
    "\n",
    "\n",
    "    result = pd.DataFrame({'Accuracy' : [accuracy],\n",
    "                         'Precision (or PPV)' : [precision],\n",
    "                         'Recall (senitivity or TPR)' : [recall],\n",
    "                         'f1 score' : [f1_score],\n",
    "                         'AUC_ROC' : [auc_roc],\n",
    "                         'Specificty (or TNR)': [specificity],\n",
    "                         'NPV' : [npv],\n",
    "                         'True Positive' : [tp],\n",
    "                         'True Negative' : [tn],\n",
    "                         'False Positive':[fp],\n",
    "                         'False Negative':[fn]})\n",
    "    return result"
   ]
  },
  {
   "cell_type": "code",
   "execution_count": 38,
   "id": "dbfe4708",
   "metadata": {
    "execution": {
     "iopub.execute_input": "2022-11-21T13:02:58.111460Z",
     "iopub.status.busy": "2022-11-21T13:02:58.110987Z",
     "iopub.status.idle": "2022-11-21T13:02:58.140135Z",
     "shell.execute_reply": "2022-11-21T13:02:58.139150Z"
    },
    "id": "-bvXa5wvjoXi",
    "papermill": {
     "duration": 0.047132,
     "end_time": "2022-11-21T13:02:58.142756",
     "exception": false,
     "start_time": "2022-11-21T13:02:58.095624",
     "status": "completed"
    },
    "tags": []
   },
   "outputs": [
    {
     "data": {
      "text/html": [
       "<div>\n",
       "<style scoped>\n",
       "    .dataframe tbody tr th:only-of-type {\n",
       "        vertical-align: middle;\n",
       "    }\n",
       "\n",
       "    .dataframe tbody tr th {\n",
       "        vertical-align: top;\n",
       "    }\n",
       "\n",
       "    .dataframe thead th {\n",
       "        text-align: right;\n",
       "    }\n",
       "</style>\n",
       "<table border=\"1\" class=\"dataframe\">\n",
       "  <thead>\n",
       "    <tr style=\"text-align: right;\">\n",
       "      <th></th>\n",
       "      <th>Accuracy</th>\n",
       "      <th>Precision (or PPV)</th>\n",
       "      <th>Recall (senitivity or TPR)</th>\n",
       "      <th>f1 score</th>\n",
       "      <th>AUC_ROC</th>\n",
       "      <th>Specificty (or TNR)</th>\n",
       "      <th>NPV</th>\n",
       "      <th>True Positive</th>\n",
       "      <th>True Negative</th>\n",
       "      <th>False Positive</th>\n",
       "      <th>False Negative</th>\n",
       "    </tr>\n",
       "  </thead>\n",
       "  <tbody>\n",
       "    <tr>\n",
       "      <th>0</th>\n",
       "      <td>0.89</td>\n",
       "      <td>0.88</td>\n",
       "      <td>0.91</td>\n",
       "      <td>0.89</td>\n",
       "      <td>0.89</td>\n",
       "      <td>0.88</td>\n",
       "      <td>0.91</td>\n",
       "      <td>132</td>\n",
       "      <td>135</td>\n",
       "      <td>19</td>\n",
       "      <td>14</td>\n",
       "    </tr>\n",
       "  </tbody>\n",
       "</table>\n",
       "</div>"
      ],
      "text/plain": [
       "   Accuracy  Precision (or PPV)  Recall (senitivity or TPR)  f1 score  \\\n",
       "0      0.89                0.88                        0.91      0.89   \n",
       "\n",
       "   AUC_ROC  Specificty (or TNR)   NPV  True Positive  True Negative  \\\n",
       "0     0.89                 0.88  0.91            132            135   \n",
       "\n",
       "   False Positive  False Negative  \n",
       "0              19              14  "
      ]
     },
     "execution_count": 38,
     "metadata": {},
     "output_type": "execute_result"
    }
   ],
   "source": [
    "binary_classification_performance(y_test_enc,y_pred)"
   ]
  },
  {
   "cell_type": "code",
   "execution_count": 39,
   "id": "7617dad7",
   "metadata": {
    "execution": {
     "iopub.execute_input": "2022-11-21T13:02:58.174606Z",
     "iopub.status.busy": "2022-11-21T13:02:58.173368Z",
     "iopub.status.idle": "2022-11-21T13:02:58.183501Z",
     "shell.execute_reply": "2022-11-21T13:02:58.182508Z"
    },
    "papermill": {
     "duration": 0.02811,
     "end_time": "2022-11-21T13:02:58.185956",
     "exception": false,
     "start_time": "2022-11-21T13:02:58.157846",
     "status": "completed"
    },
    "tags": []
   },
   "outputs": [],
   "source": [
    "import pickle\n",
    "# save the model to disk\n",
    "filename = \"/kaggle/working/finalized_model.sav\"\n",
    "pickle.dump(classifier, open(filename, 'wb'))"
   ]
  },
  {
   "cell_type": "markdown",
   "id": "9647aca7",
   "metadata": {
    "id": "cKStBtCJNXYl",
    "papermill": {
     "duration": 0.01448,
     "end_time": "2022-11-21T13:02:58.214719",
     "exception": false,
     "start_time": "2022-11-21T13:02:58.200239",
     "status": "completed"
    },
    "tags": []
   },
   "source": [
    "Resources\n",
    "\n",
    "[Kaggle Example using sklearn classifiers](https://www.kaggle.com/code/jashsheth5/binary-classification-with-sklearn-and-keras-95)\n",
    "\n",
    "[Introduction to SGD Classifier](https://michael-fuchs-python.netlify.app/2019/11/11/introduction-to-sgd-classifier/)\n",
    "\n",
    "[Scikit learn deal with Nan values](https://scikit-learn.org/stable/modules/impute.html#multivariate-feature-imputation)\n"
   ]
  }
 ],
 "metadata": {
  "kernelspec": {
   "display_name": "Python 3",
   "language": "python",
   "name": "python3"
  },
  "language_info": {
   "codemirror_mode": {
    "name": "ipython",
    "version": 3
   },
   "file_extension": ".py",
   "mimetype": "text/x-python",
   "name": "python",
   "nbconvert_exporter": "python",
   "pygments_lexer": "ipython3",
   "version": "3.7.12"
  },
  "papermill": {
   "default_parameters": {},
   "duration": 19811.85066,
   "end_time": "2022-11-21T13:02:59.793950",
   "environment_variables": {},
   "exception": null,
   "input_path": "__notebook__.ipynb",
   "output_path": "__notebook__.ipynb",
   "parameters": {},
   "start_time": "2022-11-21T07:32:47.943290",
   "version": "2.3.4"
  }
 },
 "nbformat": 4,
 "nbformat_minor": 5
}
